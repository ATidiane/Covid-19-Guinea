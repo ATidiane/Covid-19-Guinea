{
 "cells": [
  {
   "cell_type": "markdown",
   "metadata": {},
   "source": [
    "# Covid-19-Guinea"
   ]
  },
  {
   "cell_type": "markdown",
   "metadata": {},
   "source": [
    "Creating dashboards to follow the evolution of covid-19 in Guinea. These dashboards will idealy be hosted to Github Pages and integrated to a wordpress website named : www.moucoronakhaninma.com. "
   ]
  },
  {
   "cell_type": "markdown",
   "metadata": {},
   "source": [
    "## Imports"
   ]
  },
  {
   "cell_type": "markdown",
   "metadata": {},
   "source": [
    "### Sys and Python"
   ]
  },
  {
   "cell_type": "code",
   "execution_count": 8,
   "metadata": {},
   "outputs": [],
   "source": [
    "import sys\n",
    "import os\n",
    "\n",
    "import warnings\n",
    "warnings.filterwarnings('ignore')\n",
    "\n",
    "from IPython.display import display, HTML\n",
    "from IPython.core.interactiveshell import InteractiveShell\n",
    "InteractiveShell.ast_node_interactivity = \"all\"\n",
    "\n",
    "import pandas as pd\n",
    "import numpy as np"
   ]
  },
  {
   "cell_type": "markdown",
   "metadata": {},
   "source": [
    "### Graphics"
   ]
  },
  {
   "cell_type": "code",
   "execution_count": 3,
   "metadata": {},
   "outputs": [
    {
     "data": {
      "text/html": [
       "        <script type=\"text/javascript\">\n",
       "        window.PlotlyConfig = {MathJaxConfig: 'local'};\n",
       "        if (window.MathJax) {MathJax.Hub.Config({SVG: {font: \"STIX-Web\"}});}\n",
       "        if (typeof require !== 'undefined') {\n",
       "        require.undef(\"plotly\");\n",
       "        requirejs.config({\n",
       "            paths: {\n",
       "                'plotly': ['https://cdn.plot.ly/plotly-latest.min']\n",
       "            }\n",
       "        });\n",
       "        require(['plotly'], function(Plotly) {\n",
       "            window._Plotly = Plotly;\n",
       "        });\n",
       "        }\n",
       "        </script>\n",
       "        "
      ]
     },
     "metadata": {},
     "output_type": "display_data"
    }
   ],
   "source": [
    "%matplotlib inline\n",
    "\n",
    "import matplotlib.pyplot as plt\n",
    "import seaborn as sns; sns.set()\n",
    "import plotly as py\n",
    "import plotly.express as px\n",
    "import plotly.io as pio\n",
    "import plotly.tools as tls\n",
    "from plotly.offline import iplot, init_notebook_mode\n",
    "init_notebook_mode(connected=True)\n",
    "import plotly.graph_objs as go\n",
    "from plotly.graph_objs import graph_objs"
   ]
  },
  {
   "cell_type": "markdown",
   "metadata": {},
   "source": [
    "### Source files"
   ]
  },
  {
   "cell_type": "code",
   "execution_count": 5,
   "metadata": {},
   "outputs": [],
   "source": [
    "%load_ext autoreload\n",
    "%autoreload 2"
   ]
  },
  {
   "cell_type": "code",
   "execution_count": 10,
   "metadata": {},
   "outputs": [
    {
     "data": {
      "text/html": [
       "<div>\n",
       "<style scoped>\n",
       "    .dataframe tbody tr th:only-of-type {\n",
       "        vertical-align: middle;\n",
       "    }\n",
       "\n",
       "    .dataframe tbody tr th {\n",
       "        vertical-align: top;\n",
       "    }\n",
       "\n",
       "    .dataframe thead th {\n",
       "        text-align: right;\n",
       "    }\n",
       "</style>\n",
       "<table border=\"1\" class=\"dataframe\">\n",
       "  <thead>\n",
       "    <tr style=\"text-align: right;\">\n",
       "      <th></th>\n",
       "      <th>ID</th>\n",
       "      <th>Name</th>\n",
       "      <th>Age</th>\n",
       "      <th>Nationality</th>\n",
       "      <th>Overall</th>\n",
       "      <th>Potential</th>\n",
       "      <th>Club</th>\n",
       "      <th>Growth</th>\n",
       "      <th>Value</th>\n",
       "      <th>Wage</th>\n",
       "      <th>...</th>\n",
       "      <th>Total Defending</th>\n",
       "      <th>Total Goalkeeping</th>\n",
       "      <th>Total Stats</th>\n",
       "      <th>IR</th>\n",
       "      <th>PAC</th>\n",
       "      <th>SHO</th>\n",
       "      <th>PAS</th>\n",
       "      <th>DRI</th>\n",
       "      <th>DEF</th>\n",
       "      <th>PHY</th>\n",
       "    </tr>\n",
       "  </thead>\n",
       "  <tbody>\n",
       "    <tr>\n",
       "      <th>0</th>\n",
       "      <td>192985</td>\n",
       "      <td>K. De Bruyne</td>\n",
       "      <td>27</td>\n",
       "      <td>Belgium</td>\n",
       "      <td>91</td>\n",
       "      <td>91</td>\n",
       "      <td>Manchester City</td>\n",
       "      <td>0</td>\n",
       "      <td>93000000.0</td>\n",
       "      <td>355000.0</td>\n",
       "      <td>...</td>\n",
       "      <td>177</td>\n",
       "      <td>56</td>\n",
       "      <td>2279</td>\n",
       "      <td>4</td>\n",
       "      <td>77</td>\n",
       "      <td>86</td>\n",
       "      <td>92</td>\n",
       "      <td>87</td>\n",
       "      <td>61</td>\n",
       "      <td>78</td>\n",
       "    </tr>\n",
       "    <tr>\n",
       "      <th>1</th>\n",
       "      <td>183277</td>\n",
       "      <td>E. Hazard</td>\n",
       "      <td>27</td>\n",
       "      <td>Belgium</td>\n",
       "      <td>91</td>\n",
       "      <td>91</td>\n",
       "      <td>Chelsea</td>\n",
       "      <td>0</td>\n",
       "      <td>93000000.0</td>\n",
       "      <td>340000.0</td>\n",
       "      <td>...</td>\n",
       "      <td>83</td>\n",
       "      <td>45</td>\n",
       "      <td>2143</td>\n",
       "      <td>4</td>\n",
       "      <td>91</td>\n",
       "      <td>83</td>\n",
       "      <td>86</td>\n",
       "      <td>94</td>\n",
       "      <td>35</td>\n",
       "      <td>68</td>\n",
       "    </tr>\n",
       "    <tr>\n",
       "      <th>2</th>\n",
       "      <td>192119</td>\n",
       "      <td>T. Courtois</td>\n",
       "      <td>26</td>\n",
       "      <td>Belgium</td>\n",
       "      <td>88</td>\n",
       "      <td>89</td>\n",
       "      <td>Real Madrid</td>\n",
       "      <td>1</td>\n",
       "      <td>47500000.0</td>\n",
       "      <td>235000.0</td>\n",
       "      <td>...</td>\n",
       "      <td>54</td>\n",
       "      <td>417</td>\n",
       "      <td>1306</td>\n",
       "      <td>4</td>\n",
       "      <td>84</td>\n",
       "      <td>89</td>\n",
       "      <td>72</td>\n",
       "      <td>87</td>\n",
       "      <td>49</td>\n",
       "      <td>85</td>\n",
       "    </tr>\n",
       "    <tr>\n",
       "      <th>3</th>\n",
       "      <td>184087</td>\n",
       "      <td>T. Alderweireld</td>\n",
       "      <td>29</td>\n",
       "      <td>Belgium</td>\n",
       "      <td>87</td>\n",
       "      <td>87</td>\n",
       "      <td>Tottenham Hotspur</td>\n",
       "      <td>0</td>\n",
       "      <td>39000000.0</td>\n",
       "      <td>165000.0</td>\n",
       "      <td>...</td>\n",
       "      <td>267</td>\n",
       "      <td>66</td>\n",
       "      <td>2056</td>\n",
       "      <td>3</td>\n",
       "      <td>64</td>\n",
       "      <td>57</td>\n",
       "      <td>73</td>\n",
       "      <td>66</td>\n",
       "      <td>89</td>\n",
       "      <td>79</td>\n",
       "    </tr>\n",
       "    <tr>\n",
       "      <th>4</th>\n",
       "      <td>172871</td>\n",
       "      <td>J. Vertonghen</td>\n",
       "      <td>31</td>\n",
       "      <td>Belgium</td>\n",
       "      <td>87</td>\n",
       "      <td>87</td>\n",
       "      <td>Tottenham Hotspur</td>\n",
       "      <td>0</td>\n",
       "      <td>34000000.0</td>\n",
       "      <td>155000.0</td>\n",
       "      <td>...</td>\n",
       "      <td>264</td>\n",
       "      <td>44</td>\n",
       "      <td>2089</td>\n",
       "      <td>3</td>\n",
       "      <td>63</td>\n",
       "      <td>63</td>\n",
       "      <td>74</td>\n",
       "      <td>72</td>\n",
       "      <td>87</td>\n",
       "      <td>79</td>\n",
       "    </tr>\n",
       "  </tbody>\n",
       "</table>\n",
       "<p>5 rows × 26 columns</p>\n",
       "</div>"
      ],
      "text/plain": [
       "       ID             Name  Age Nationality  Overall  Potential  \\\n",
       "0  192985     K. De Bruyne   27     Belgium       91         91   \n",
       "1  183277        E. Hazard   27     Belgium       91         91   \n",
       "2  192119      T. Courtois   26     Belgium       88         89   \n",
       "3  184087  T. Alderweireld   29     Belgium       87         87   \n",
       "4  172871    J. Vertonghen   31     Belgium       87         87   \n",
       "\n",
       "                Club  Growth       Value      Wage ...   Total Defending  \\\n",
       "0    Manchester City       0  93000000.0  355000.0 ...               177   \n",
       "1            Chelsea       0  93000000.0  340000.0 ...                83   \n",
       "2        Real Madrid       1  47500000.0  235000.0 ...                54   \n",
       "3  Tottenham Hotspur       0  39000000.0  165000.0 ...               267   \n",
       "4  Tottenham Hotspur       0  34000000.0  155000.0 ...               264   \n",
       "\n",
       "   Total Goalkeeping  Total Stats  IR  PAC  SHO  PAS  DRI  DEF  PHY  \n",
       "0                 56         2279   4   77   86   92   87   61   78  \n",
       "1                 45         2143   4   91   83   86   94   35   68  \n",
       "2                417         1306   4   84   89   72   87   49   85  \n",
       "3                 66         2056   3   64   57   73   66   89   79  \n",
       "4                 44         2089   3   63   63   74   72   87   79  \n",
       "\n",
       "[5 rows x 26 columns]"
      ]
     },
     "execution_count": 10,
     "metadata": {},
     "output_type": "execute_result"
    },
    {
     "data": {
      "text/html": [
       "<div>\n",
       "<style scoped>\n",
       "    .dataframe tbody tr th:only-of-type {\n",
       "        vertical-align: middle;\n",
       "    }\n",
       "\n",
       "    .dataframe tbody tr th {\n",
       "        vertical-align: top;\n",
       "    }\n",
       "\n",
       "    .dataframe thead th {\n",
       "        text-align: right;\n",
       "    }\n",
       "</style>\n",
       "<table border=\"1\" class=\"dataframe\">\n",
       "  <thead>\n",
       "    <tr style=\"text-align: right;\">\n",
       "      <th></th>\n",
       "      <th>ID</th>\n",
       "      <th>Name</th>\n",
       "      <th>League</th>\n",
       "      <th>Country</th>\n",
       "      <th>Overall</th>\n",
       "      <th>Attack</th>\n",
       "      <th>Midfield</th>\n",
       "      <th>Defense</th>\n",
       "      <th>Transfer Budget</th>\n",
       "      <th>Domestic Presstige</th>\n",
       "      <th>International Prestige</th>\n",
       "      <th>Players</th>\n",
       "      <th>Starting XI Average Age</th>\n",
       "      <th>Whole Team Average Age</th>\n",
       "    </tr>\n",
       "  </thead>\n",
       "  <tbody>\n",
       "    <tr>\n",
       "      <th>0</th>\n",
       "      <td>243</td>\n",
       "      <td>Real Madrid</td>\n",
       "      <td>Spain Primera Division (1)</td>\n",
       "      <td>Spain</td>\n",
       "      <td>86</td>\n",
       "      <td>83</td>\n",
       "      <td>88</td>\n",
       "      <td>86</td>\n",
       "      <td>188500000.0</td>\n",
       "      <td>10</td>\n",
       "      <td>10</td>\n",
       "      <td>33</td>\n",
       "      <td>26.73</td>\n",
       "      <td>23.67</td>\n",
       "    </tr>\n",
       "    <tr>\n",
       "      <th>1</th>\n",
       "      <td>241</td>\n",
       "      <td>FC Barcelona</td>\n",
       "      <td>Spain Primera Division (1)</td>\n",
       "      <td>Spain</td>\n",
       "      <td>86</td>\n",
       "      <td>87</td>\n",
       "      <td>86</td>\n",
       "      <td>85</td>\n",
       "      <td>187900000.0</td>\n",
       "      <td>10</td>\n",
       "      <td>10</td>\n",
       "      <td>33</td>\n",
       "      <td>27.55</td>\n",
       "      <td>23.64</td>\n",
       "    </tr>\n",
       "    <tr>\n",
       "      <th>2</th>\n",
       "      <td>45</td>\n",
       "      <td>Juventus</td>\n",
       "      <td>Italian Serie A (1)</td>\n",
       "      <td>Italy</td>\n",
       "      <td>85</td>\n",
       "      <td>89</td>\n",
       "      <td>84</td>\n",
       "      <td>85</td>\n",
       "      <td>90000000.0</td>\n",
       "      <td>10</td>\n",
       "      <td>10</td>\n",
       "      <td>24</td>\n",
       "      <td>28.64</td>\n",
       "      <td>26.75</td>\n",
       "    </tr>\n",
       "    <tr>\n",
       "      <th>3</th>\n",
       "      <td>10</td>\n",
       "      <td>Manchester City</td>\n",
       "      <td>English Premier League (1)</td>\n",
       "      <td>England</td>\n",
       "      <td>85</td>\n",
       "      <td>86</td>\n",
       "      <td>88</td>\n",
       "      <td>82</td>\n",
       "      <td>170000000.0</td>\n",
       "      <td>10</td>\n",
       "      <td>9</td>\n",
       "      <td>33</td>\n",
       "      <td>26.27</td>\n",
       "      <td>23.88</td>\n",
       "    </tr>\n",
       "    <tr>\n",
       "      <th>4</th>\n",
       "      <td>21</td>\n",
       "      <td>FC Bayern München</td>\n",
       "      <td>German 1. Bundesliga (1)</td>\n",
       "      <td>Germany</td>\n",
       "      <td>85</td>\n",
       "      <td>85</td>\n",
       "      <td>85</td>\n",
       "      <td>85</td>\n",
       "      <td>100000000.0</td>\n",
       "      <td>10</td>\n",
       "      <td>9</td>\n",
       "      <td>29</td>\n",
       "      <td>26.27</td>\n",
       "      <td>23.76</td>\n",
       "    </tr>\n",
       "  </tbody>\n",
       "</table>\n",
       "</div>"
      ],
      "text/plain": [
       "    ID               Name                      League  Country  Overall  \\\n",
       "0  243        Real Madrid  Spain Primera Division (1)    Spain       86   \n",
       "1  241       FC Barcelona  Spain Primera Division (1)    Spain       86   \n",
       "2   45           Juventus         Italian Serie A (1)    Italy       85   \n",
       "3   10    Manchester City  English Premier League (1)  England       85   \n",
       "4   21  FC Bayern München    German 1. Bundesliga (1)  Germany       85   \n",
       "\n",
       "   Attack  Midfield  Defense  Transfer Budget  Domestic Presstige  \\\n",
       "0      83        88       86      188500000.0                  10   \n",
       "1      87        86       85      187900000.0                  10   \n",
       "2      89        84       85       90000000.0                  10   \n",
       "3      86        88       82      170000000.0                  10   \n",
       "4      85        85       85      100000000.0                  10   \n",
       "\n",
       "   International Prestige  Players  Starting XI Average Age  \\\n",
       "0                      10       33                    26.73   \n",
       "1                      10       33                    27.55   \n",
       "2                      10       24                    28.64   \n",
       "3                       9       33                    26.27   \n",
       "4                       9       29                    26.27   \n",
       "\n",
       "   Whole Team Average Age  \n",
       "0                   23.67  \n",
       "1                   23.64  \n",
       "2                   26.75  \n",
       "3                   23.88  \n",
       "4                   23.76  "
      ]
     },
     "execution_count": 10,
     "metadata": {},
     "output_type": "execute_result"
    }
   ],
   "source": [
    "df_players = pd.read_csv('../data/bp_processed.csv')\n",
    "df_teams = pd.read_csv('../data/bt_processed.csv')\n",
    "df_players.head()\n",
    "df_teams.head()"
   ]
  },
  {
   "cell_type": "code",
   "execution_count": 26,
   "metadata": {},
   "outputs": [
    {
     "data": {
      "text/plain": [
       "Templates configuration\n",
       "-----------------------\n",
       "    Default template: 'plotly'\n",
       "    Available templates:\n",
       "        ['plotly_dark', 'none', 'simple_white', 'ygridoff', 'plotly',\n",
       "         'gridon', 'plotly_white', 'seaborn', 'xgridoff', 'ggplot2',\n",
       "         'presentation']"
      ]
     },
     "execution_count": 26,
     "metadata": {},
     "output_type": "execute_result"
    }
   ],
   "source": [
    "pio.templates"
   ]
  },
  {
   "cell_type": "code",
   "execution_count": 34,
   "metadata": {},
   "outputs": [
    {
     "data": {
      "application/vnd.plotly.v1+json": {
       "config": {
        "plotlyServerURL": "https://plot.ly"
       },
       "data": [
        {
         "customdata": [
          [
           10,
           33,
           10
          ]
         ],
         "hovertemplate": "Name=%{x}<br>Transfer Budget=%{y}<br>International Prestige=%{customdata[0]}<br>Players=%{customdata[1]}<br>Domestic Presstige=%{customdata[2]}<extra></extra>",
         "legendgroup": "Real Madrid",
         "marker": {
          "color": "#636efa",
          "symbol": "circle"
         },
         "mode": "markers",
         "name": "Real Madrid",
         "showlegend": true,
         "type": "scatter",
         "x": [
          "Real Madrid"
         ],
         "xaxis": "x",
         "y": [
          188500000
         ],
         "yaxis": "y"
        },
        {
         "customdata": [
          [
           10,
           33,
           10
          ]
         ],
         "hovertemplate": "Name=%{x}<br>Transfer Budget=%{y}<br>International Prestige=%{customdata[0]}<br>Players=%{customdata[1]}<br>Domestic Presstige=%{customdata[2]}<extra></extra>",
         "legendgroup": "FC Barcelona",
         "marker": {
          "color": "#EF553B",
          "symbol": "circle"
         },
         "mode": "markers",
         "name": "FC Barcelona",
         "showlegend": true,
         "type": "scatter",
         "x": [
          "FC Barcelona"
         ],
         "xaxis": "x",
         "y": [
          187900000
         ],
         "yaxis": "y"
        },
        {
         "customdata": [
          [
           9,
           33,
           9
          ]
         ],
         "hovertemplate": "Name=%{x}<br>Transfer Budget=%{y}<br>International Prestige=%{customdata[0]}<br>Players=%{customdata[1]}<br>Domestic Presstige=%{customdata[2]}<extra></extra>",
         "legendgroup": "Atlético Madrid",
         "marker": {
          "color": "#00cc96",
          "symbol": "circle"
         },
         "mode": "markers",
         "name": "Atlético Madrid",
         "showlegend": true,
         "type": "scatter",
         "x": [
          "Atlético Madrid"
         ],
         "xaxis": "x",
         "y": [
          68600000
         ],
         "yaxis": "y"
        },
        {
         "customdata": [
          [
           7,
           33,
           7
          ]
         ],
         "hovertemplate": "Name=%{x}<br>Transfer Budget=%{y}<br>International Prestige=%{customdata[0]}<br>Players=%{customdata[1]}<br>Domestic Presstige=%{customdata[2]}<extra></extra>",
         "legendgroup": "Sevilla FC",
         "marker": {
          "color": "#ab63fa",
          "symbol": "circle"
         },
         "mode": "markers",
         "name": "Sevilla FC",
         "showlegend": true,
         "type": "scatter",
         "x": [
          "Sevilla FC"
         ],
         "xaxis": "x",
         "y": [
          34500000
         ],
         "yaxis": "y"
        },
        {
         "customdata": [
          [
           6,
           33,
           8
          ]
         ],
         "hovertemplate": "Name=%{x}<br>Transfer Budget=%{y}<br>International Prestige=%{customdata[0]}<br>Players=%{customdata[1]}<br>Domestic Presstige=%{customdata[2]}<extra></extra>",
         "legendgroup": "Valencia CF",
         "marker": {
          "color": "#FFA15A",
          "symbol": "circle"
         },
         "mode": "markers",
         "name": "Valencia CF",
         "showlegend": true,
         "type": "scatter",
         "x": [
          "Valencia CF"
         ],
         "xaxis": "x",
         "y": [
          66300000
         ],
         "yaxis": "y"
        },
        {
         "customdata": [
          [
           2,
           32,
           5
          ]
         ],
         "hovertemplate": "Name=%{x}<br>Transfer Budget=%{y}<br>International Prestige=%{customdata[0]}<br>Players=%{customdata[1]}<br>Domestic Presstige=%{customdata[2]}<extra></extra>",
         "legendgroup": "Real Betis",
         "marker": {
          "color": "#19d3f3",
          "symbol": "circle"
         },
         "mode": "markers",
         "name": "Real Betis",
         "showlegend": true,
         "type": "scatter",
         "x": [
          "Real Betis"
         ],
         "xaxis": "x",
         "y": [
          16100000.000000002
         ],
         "yaxis": "y"
        },
        {
         "customdata": [
          [
           6,
           33,
           6
          ]
         ],
         "hovertemplate": "Name=%{x}<br>Transfer Budget=%{y}<br>International Prestige=%{customdata[0]}<br>Players=%{customdata[1]}<br>Domestic Presstige=%{customdata[2]}<extra></extra>",
         "legendgroup": "Athletic Club de Bilbao",
         "marker": {
          "color": "#FF6692",
          "symbol": "circle"
         },
         "mode": "markers",
         "name": "Athletic Club de Bilbao",
         "showlegend": true,
         "type": "scatter",
         "x": [
          "Athletic Club de Bilbao"
         ],
         "xaxis": "x",
         "y": [
          18500000
         ],
         "yaxis": "y"
        },
        {
         "customdata": [
          [
           7,
           33,
           8
          ]
         ],
         "hovertemplate": "Name=%{x}<br>Transfer Budget=%{y}<br>International Prestige=%{customdata[0]}<br>Players=%{customdata[1]}<br>Domestic Presstige=%{customdata[2]}<extra></extra>",
         "legendgroup": "Villarreal CF",
         "marker": {
          "color": "#B6E880",
          "symbol": "circle"
         },
         "mode": "markers",
         "name": "Villarreal CF",
         "showlegend": true,
         "type": "scatter",
         "x": [
          "Villarreal CF"
         ],
         "xaxis": "x",
         "y": [
          32900000
         ],
         "yaxis": "y"
        },
        {
         "customdata": [
          [
           3,
           33,
           5
          ]
         ],
         "hovertemplate": "Name=%{x}<br>Transfer Budget=%{y}<br>International Prestige=%{customdata[0]}<br>Players=%{customdata[1]}<br>Domestic Presstige=%{customdata[2]}<extra></extra>",
         "legendgroup": "Real Sociedad",
         "marker": {
          "color": "#FF97FF",
          "symbol": "circle"
         },
         "mode": "markers",
         "name": "Real Sociedad",
         "showlegend": true,
         "type": "scatter",
         "x": [
          "Real Sociedad"
         ],
         "xaxis": "x",
         "y": [
          15800000
         ],
         "yaxis": "y"
        },
        {
         "customdata": [
          [
           4,
           33,
           5
          ]
         ],
         "hovertemplate": "Name=%{x}<br>Transfer Budget=%{y}<br>International Prestige=%{customdata[0]}<br>Players=%{customdata[1]}<br>Domestic Presstige=%{customdata[2]}<extra></extra>",
         "legendgroup": "RC Celta",
         "marker": {
          "color": "#FECB52",
          "symbol": "circle"
         },
         "mode": "markers",
         "name": "RC Celta",
         "showlegend": true,
         "type": "scatter",
         "x": [
          "RC Celta"
         ],
         "xaxis": "x",
         "y": [
          11800000
         ],
         "yaxis": "y"
        },
        {
         "customdata": [
          [
           1,
           33,
           4
          ]
         ],
         "hovertemplate": "Name=%{x}<br>Transfer Budget=%{y}<br>International Prestige=%{customdata[0]}<br>Players=%{customdata[1]}<br>Domestic Presstige=%{customdata[2]}<extra></extra>",
         "legendgroup": "Girona FC",
         "marker": {
          "color": "#636efa",
          "symbol": "circle"
         },
         "mode": "markers",
         "name": "Girona FC",
         "showlegend": true,
         "type": "scatter",
         "x": [
          "Girona FC"
         ],
         "xaxis": "x",
         "y": [
          3900000
         ],
         "yaxis": "y"
        },
        {
         "customdata": [
          [
           1,
           29,
           4
          ]
         ],
         "hovertemplate": "Name=%{x}<br>Transfer Budget=%{y}<br>International Prestige=%{customdata[0]}<br>Players=%{customdata[1]}<br>Domestic Presstige=%{customdata[2]}<extra></extra>",
         "legendgroup": "SD Eibar",
         "marker": {
          "color": "#EF553B",
          "symbol": "circle"
         },
         "mode": "markers",
         "name": "SD Eibar",
         "showlegend": true,
         "type": "scatter",
         "x": [
          "SD Eibar"
         ],
         "xaxis": "x",
         "y": [
          5400000
         ],
         "yaxis": "y"
        },
        {
         "customdata": [
          [
           2,
           28,
           5
          ]
         ],
         "hovertemplate": "Name=%{x}<br>Transfer Budget=%{y}<br>International Prestige=%{customdata[0]}<br>Players=%{customdata[1]}<br>Domestic Presstige=%{customdata[2]}<extra></extra>",
         "legendgroup": "Getafe CF",
         "marker": {
          "color": "#00cc96",
          "symbol": "circle"
         },
         "mode": "markers",
         "name": "Getafe CF",
         "showlegend": true,
         "type": "scatter",
         "x": [
          "Getafe CF"
         ],
         "xaxis": "x",
         "y": [
          5400000
         ],
         "yaxis": "y"
        },
        {
         "customdata": [
          [
           2,
           33,
           5
          ]
         ],
         "hovertemplate": "Name=%{x}<br>Transfer Budget=%{y}<br>International Prestige=%{customdata[0]}<br>Players=%{customdata[1]}<br>Domestic Presstige=%{customdata[2]}<extra></extra>",
         "legendgroup": "RCD Espanyol",
         "marker": {
          "color": "#ab63fa",
          "symbol": "circle"
         },
         "mode": "markers",
         "name": "RCD Espanyol",
         "showlegend": true,
         "type": "scatter",
         "x": [
          "RCD Espanyol"
         ],
         "xaxis": "x",
         "y": [
          10400000
         ],
         "yaxis": "y"
        },
        {
         "customdata": [
          [
           1,
           33,
           3
          ]
         ],
         "hovertemplate": "Name=%{x}<br>Transfer Budget=%{y}<br>International Prestige=%{customdata[0]}<br>Players=%{customdata[1]}<br>Domestic Presstige=%{customdata[2]}<extra></extra>",
         "legendgroup": "Levante UD",
         "marker": {
          "color": "#FFA15A",
          "symbol": "circle"
         },
         "mode": "markers",
         "name": "Levante UD",
         "showlegend": true,
         "type": "scatter",
         "x": [
          "Levante UD"
         ],
         "xaxis": "x",
         "y": [
          8199999.999999999
         ],
         "yaxis": "y"
        },
        {
         "customdata": [
          [
           1,
           27,
           3
          ]
         ],
         "hovertemplate": "Name=%{x}<br>Transfer Budget=%{y}<br>International Prestige=%{customdata[0]}<br>Players=%{customdata[1]}<br>Domestic Presstige=%{customdata[2]}<extra></extra>",
         "legendgroup": "Deportivo Alavés",
         "marker": {
          "color": "#19d3f3",
          "symbol": "circle"
         },
         "mode": "markers",
         "name": "Deportivo Alavés",
         "showlegend": true,
         "type": "scatter",
         "x": [
          "Deportivo Alavés"
         ],
         "xaxis": "x",
         "y": [
          4400000
         ],
         "yaxis": "y"
        },
        {
         "customdata": [
          [
           1,
           31,
           4
          ]
         ],
         "hovertemplate": "Name=%{x}<br>Transfer Budget=%{y}<br>International Prestige=%{customdata[0]}<br>Players=%{customdata[1]}<br>Domestic Presstige=%{customdata[2]}<extra></extra>",
         "legendgroup": "CD Leganés",
         "marker": {
          "color": "#FF6692",
          "symbol": "circle"
         },
         "mode": "markers",
         "name": "CD Leganés",
         "showlegend": true,
         "type": "scatter",
         "x": [
          "CD Leganés"
         ],
         "xaxis": "x",
         "y": [
          4200000
         ],
         "yaxis": "y"
        },
        {
         "customdata": [
          [
           1,
           33,
           2
          ]
         ],
         "hovertemplate": "Name=%{x}<br>Transfer Budget=%{y}<br>International Prestige=%{customdata[0]}<br>Players=%{customdata[1]}<br>Domestic Presstige=%{customdata[2]}<extra></extra>",
         "legendgroup": "Rayo Vallecano",
         "marker": {
          "color": "#B6E880",
          "symbol": "circle"
         },
         "mode": "markers",
         "name": "Rayo Vallecano",
         "showlegend": true,
         "type": "scatter",
         "x": [
          "Rayo Vallecano"
         ],
         "xaxis": "x",
         "y": [
          3300000
         ],
         "yaxis": "y"
        },
        {
         "customdata": [
          [
           1,
           33,
           2
          ]
         ],
         "hovertemplate": "Name=%{x}<br>Transfer Budget=%{y}<br>International Prestige=%{customdata[0]}<br>Players=%{customdata[1]}<br>Domestic Presstige=%{customdata[2]}<extra></extra>",
         "legendgroup": "Real Valladolid CF",
         "marker": {
          "color": "#FF97FF",
          "symbol": "circle"
         },
         "mode": "markers",
         "name": "Real Valladolid CF",
         "showlegend": true,
         "type": "scatter",
         "x": [
          "Real Valladolid CF"
         ],
         "xaxis": "x",
         "y": [
          3100000
         ],
         "yaxis": "y"
        },
        {
         "customdata": [
          [
           1,
           31,
           2
          ]
         ],
         "hovertemplate": "Name=%{x}<br>Transfer Budget=%{y}<br>International Prestige=%{customdata[0]}<br>Players=%{customdata[1]}<br>Domestic Presstige=%{customdata[2]}<extra></extra>",
         "legendgroup": "SD Huesca",
         "marker": {
          "color": "#FECB52",
          "symbol": "circle"
         },
         "mode": "markers",
         "name": "SD Huesca",
         "showlegend": true,
         "type": "scatter",
         "x": [
          "SD Huesca"
         ],
         "xaxis": "x",
         "y": [
          2100000
         ],
         "yaxis": "y"
        }
       ],
       "layout": {
        "legend": {
         "title": {
          "text": "Name"
         },
         "tracegroupgap": 0
        },
        "margin": {
         "t": 60
        },
        "template": {
         "data": {
          "bar": [
           {
            "error_x": {
             "color": "#2a3f5f"
            },
            "error_y": {
             "color": "#2a3f5f"
            },
            "marker": {
             "line": {
              "color": "white",
              "width": 0.5
             }
            },
            "type": "bar"
           }
          ],
          "barpolar": [
           {
            "marker": {
             "line": {
              "color": "white",
              "width": 0.5
             }
            },
            "type": "barpolar"
           }
          ],
          "carpet": [
           {
            "aaxis": {
             "endlinecolor": "#2a3f5f",
             "gridcolor": "#C8D4E3",
             "linecolor": "#C8D4E3",
             "minorgridcolor": "#C8D4E3",
             "startlinecolor": "#2a3f5f"
            },
            "baxis": {
             "endlinecolor": "#2a3f5f",
             "gridcolor": "#C8D4E3",
             "linecolor": "#C8D4E3",
             "minorgridcolor": "#C8D4E3",
             "startlinecolor": "#2a3f5f"
            },
            "type": "carpet"
           }
          ],
          "choropleth": [
           {
            "colorbar": {
             "outlinewidth": 0,
             "ticks": ""
            },
            "type": "choropleth"
           }
          ],
          "contour": [
           {
            "colorbar": {
             "outlinewidth": 0,
             "ticks": ""
            },
            "colorscale": [
             [
              0,
              "#0d0887"
             ],
             [
              0.1111111111111111,
              "#46039f"
             ],
             [
              0.2222222222222222,
              "#7201a8"
             ],
             [
              0.3333333333333333,
              "#9c179e"
             ],
             [
              0.4444444444444444,
              "#bd3786"
             ],
             [
              0.5555555555555556,
              "#d8576b"
             ],
             [
              0.6666666666666666,
              "#ed7953"
             ],
             [
              0.7777777777777778,
              "#fb9f3a"
             ],
             [
              0.8888888888888888,
              "#fdca26"
             ],
             [
              1,
              "#f0f921"
             ]
            ],
            "type": "contour"
           }
          ],
          "contourcarpet": [
           {
            "colorbar": {
             "outlinewidth": 0,
             "ticks": ""
            },
            "type": "contourcarpet"
           }
          ],
          "heatmap": [
           {
            "colorbar": {
             "outlinewidth": 0,
             "ticks": ""
            },
            "colorscale": [
             [
              0,
              "#0d0887"
             ],
             [
              0.1111111111111111,
              "#46039f"
             ],
             [
              0.2222222222222222,
              "#7201a8"
             ],
             [
              0.3333333333333333,
              "#9c179e"
             ],
             [
              0.4444444444444444,
              "#bd3786"
             ],
             [
              0.5555555555555556,
              "#d8576b"
             ],
             [
              0.6666666666666666,
              "#ed7953"
             ],
             [
              0.7777777777777778,
              "#fb9f3a"
             ],
             [
              0.8888888888888888,
              "#fdca26"
             ],
             [
              1,
              "#f0f921"
             ]
            ],
            "type": "heatmap"
           }
          ],
          "heatmapgl": [
           {
            "colorbar": {
             "outlinewidth": 0,
             "ticks": ""
            },
            "colorscale": [
             [
              0,
              "#0d0887"
             ],
             [
              0.1111111111111111,
              "#46039f"
             ],
             [
              0.2222222222222222,
              "#7201a8"
             ],
             [
              0.3333333333333333,
              "#9c179e"
             ],
             [
              0.4444444444444444,
              "#bd3786"
             ],
             [
              0.5555555555555556,
              "#d8576b"
             ],
             [
              0.6666666666666666,
              "#ed7953"
             ],
             [
              0.7777777777777778,
              "#fb9f3a"
             ],
             [
              0.8888888888888888,
              "#fdca26"
             ],
             [
              1,
              "#f0f921"
             ]
            ],
            "type": "heatmapgl"
           }
          ],
          "histogram": [
           {
            "marker": {
             "colorbar": {
              "outlinewidth": 0,
              "ticks": ""
             }
            },
            "type": "histogram"
           }
          ],
          "histogram2d": [
           {
            "colorbar": {
             "outlinewidth": 0,
             "ticks": ""
            },
            "colorscale": [
             [
              0,
              "#0d0887"
             ],
             [
              0.1111111111111111,
              "#46039f"
             ],
             [
              0.2222222222222222,
              "#7201a8"
             ],
             [
              0.3333333333333333,
              "#9c179e"
             ],
             [
              0.4444444444444444,
              "#bd3786"
             ],
             [
              0.5555555555555556,
              "#d8576b"
             ],
             [
              0.6666666666666666,
              "#ed7953"
             ],
             [
              0.7777777777777778,
              "#fb9f3a"
             ],
             [
              0.8888888888888888,
              "#fdca26"
             ],
             [
              1,
              "#f0f921"
             ]
            ],
            "type": "histogram2d"
           }
          ],
          "histogram2dcontour": [
           {
            "colorbar": {
             "outlinewidth": 0,
             "ticks": ""
            },
            "colorscale": [
             [
              0,
              "#0d0887"
             ],
             [
              0.1111111111111111,
              "#46039f"
             ],
             [
              0.2222222222222222,
              "#7201a8"
             ],
             [
              0.3333333333333333,
              "#9c179e"
             ],
             [
              0.4444444444444444,
              "#bd3786"
             ],
             [
              0.5555555555555556,
              "#d8576b"
             ],
             [
              0.6666666666666666,
              "#ed7953"
             ],
             [
              0.7777777777777778,
              "#fb9f3a"
             ],
             [
              0.8888888888888888,
              "#fdca26"
             ],
             [
              1,
              "#f0f921"
             ]
            ],
            "type": "histogram2dcontour"
           }
          ],
          "mesh3d": [
           {
            "colorbar": {
             "outlinewidth": 0,
             "ticks": ""
            },
            "type": "mesh3d"
           }
          ],
          "parcoords": [
           {
            "line": {
             "colorbar": {
              "outlinewidth": 0,
              "ticks": ""
             }
            },
            "type": "parcoords"
           }
          ],
          "pie": [
           {
            "automargin": true,
            "type": "pie"
           }
          ],
          "scatter": [
           {
            "marker": {
             "colorbar": {
              "outlinewidth": 0,
              "ticks": ""
             }
            },
            "type": "scatter"
           }
          ],
          "scatter3d": [
           {
            "line": {
             "colorbar": {
              "outlinewidth": 0,
              "ticks": ""
             }
            },
            "marker": {
             "colorbar": {
              "outlinewidth": 0,
              "ticks": ""
             }
            },
            "type": "scatter3d"
           }
          ],
          "scattercarpet": [
           {
            "marker": {
             "colorbar": {
              "outlinewidth": 0,
              "ticks": ""
             }
            },
            "type": "scattercarpet"
           }
          ],
          "scattergeo": [
           {
            "marker": {
             "colorbar": {
              "outlinewidth": 0,
              "ticks": ""
             }
            },
            "type": "scattergeo"
           }
          ],
          "scattergl": [
           {
            "marker": {
             "colorbar": {
              "outlinewidth": 0,
              "ticks": ""
             }
            },
            "type": "scattergl"
           }
          ],
          "scattermapbox": [
           {
            "marker": {
             "colorbar": {
              "outlinewidth": 0,
              "ticks": ""
             }
            },
            "type": "scattermapbox"
           }
          ],
          "scatterpolar": [
           {
            "marker": {
             "colorbar": {
              "outlinewidth": 0,
              "ticks": ""
             }
            },
            "type": "scatterpolar"
           }
          ],
          "scatterpolargl": [
           {
            "marker": {
             "colorbar": {
              "outlinewidth": 0,
              "ticks": ""
             }
            },
            "type": "scatterpolargl"
           }
          ],
          "scatterternary": [
           {
            "marker": {
             "colorbar": {
              "outlinewidth": 0,
              "ticks": ""
             }
            },
            "type": "scatterternary"
           }
          ],
          "surface": [
           {
            "colorbar": {
             "outlinewidth": 0,
             "ticks": ""
            },
            "colorscale": [
             [
              0,
              "#0d0887"
             ],
             [
              0.1111111111111111,
              "#46039f"
             ],
             [
              0.2222222222222222,
              "#7201a8"
             ],
             [
              0.3333333333333333,
              "#9c179e"
             ],
             [
              0.4444444444444444,
              "#bd3786"
             ],
             [
              0.5555555555555556,
              "#d8576b"
             ],
             [
              0.6666666666666666,
              "#ed7953"
             ],
             [
              0.7777777777777778,
              "#fb9f3a"
             ],
             [
              0.8888888888888888,
              "#fdca26"
             ],
             [
              1,
              "#f0f921"
             ]
            ],
            "type": "surface"
           }
          ],
          "table": [
           {
            "cells": {
             "fill": {
              "color": "#EBF0F8"
             },
             "line": {
              "color": "white"
             }
            },
            "header": {
             "fill": {
              "color": "#C8D4E3"
             },
             "line": {
              "color": "white"
             }
            },
            "type": "table"
           }
          ]
         },
         "layout": {
          "annotationdefaults": {
           "arrowcolor": "#2a3f5f",
           "arrowhead": 0,
           "arrowwidth": 1
          },
          "coloraxis": {
           "colorbar": {
            "outlinewidth": 0,
            "ticks": ""
           }
          },
          "colorscale": {
           "diverging": [
            [
             0,
             "#8e0152"
            ],
            [
             0.1,
             "#c51b7d"
            ],
            [
             0.2,
             "#de77ae"
            ],
            [
             0.3,
             "#f1b6da"
            ],
            [
             0.4,
             "#fde0ef"
            ],
            [
             0.5,
             "#f7f7f7"
            ],
            [
             0.6,
             "#e6f5d0"
            ],
            [
             0.7,
             "#b8e186"
            ],
            [
             0.8,
             "#7fbc41"
            ],
            [
             0.9,
             "#4d9221"
            ],
            [
             1,
             "#276419"
            ]
           ],
           "sequential": [
            [
             0,
             "#0d0887"
            ],
            [
             0.1111111111111111,
             "#46039f"
            ],
            [
             0.2222222222222222,
             "#7201a8"
            ],
            [
             0.3333333333333333,
             "#9c179e"
            ],
            [
             0.4444444444444444,
             "#bd3786"
            ],
            [
             0.5555555555555556,
             "#d8576b"
            ],
            [
             0.6666666666666666,
             "#ed7953"
            ],
            [
             0.7777777777777778,
             "#fb9f3a"
            ],
            [
             0.8888888888888888,
             "#fdca26"
            ],
            [
             1,
             "#f0f921"
            ]
           ],
           "sequentialminus": [
            [
             0,
             "#0d0887"
            ],
            [
             0.1111111111111111,
             "#46039f"
            ],
            [
             0.2222222222222222,
             "#7201a8"
            ],
            [
             0.3333333333333333,
             "#9c179e"
            ],
            [
             0.4444444444444444,
             "#bd3786"
            ],
            [
             0.5555555555555556,
             "#d8576b"
            ],
            [
             0.6666666666666666,
             "#ed7953"
            ],
            [
             0.7777777777777778,
             "#fb9f3a"
            ],
            [
             0.8888888888888888,
             "#fdca26"
            ],
            [
             1,
             "#f0f921"
            ]
           ]
          },
          "colorway": [
           "#636efa",
           "#EF553B",
           "#00cc96",
           "#ab63fa",
           "#FFA15A",
           "#19d3f3",
           "#FF6692",
           "#B6E880",
           "#FF97FF",
           "#FECB52"
          ],
          "font": {
           "color": "#2a3f5f"
          },
          "geo": {
           "bgcolor": "white",
           "lakecolor": "white",
           "landcolor": "white",
           "showlakes": true,
           "showland": true,
           "subunitcolor": "#C8D4E3"
          },
          "hoverlabel": {
           "align": "left"
          },
          "hovermode": "closest",
          "mapbox": {
           "style": "light"
          },
          "paper_bgcolor": "white",
          "plot_bgcolor": "white",
          "polar": {
           "angularaxis": {
            "gridcolor": "#EBF0F8",
            "linecolor": "#EBF0F8",
            "ticks": ""
           },
           "bgcolor": "white",
           "radialaxis": {
            "gridcolor": "#EBF0F8",
            "linecolor": "#EBF0F8",
            "ticks": ""
           }
          },
          "scene": {
           "xaxis": {
            "backgroundcolor": "white",
            "gridcolor": "#DFE8F3",
            "gridwidth": 2,
            "linecolor": "#EBF0F8",
            "showbackground": true,
            "ticks": "",
            "zerolinecolor": "#EBF0F8"
           },
           "yaxis": {
            "backgroundcolor": "white",
            "gridcolor": "#DFE8F3",
            "gridwidth": 2,
            "linecolor": "#EBF0F8",
            "showbackground": true,
            "ticks": "",
            "zerolinecolor": "#EBF0F8"
           },
           "zaxis": {
            "backgroundcolor": "white",
            "gridcolor": "#DFE8F3",
            "gridwidth": 2,
            "linecolor": "#EBF0F8",
            "showbackground": true,
            "ticks": "",
            "zerolinecolor": "#EBF0F8"
           }
          },
          "shapedefaults": {
           "line": {
            "color": "#2a3f5f"
           }
          },
          "ternary": {
           "aaxis": {
            "gridcolor": "#DFE8F3",
            "linecolor": "#A2B1C6",
            "ticks": ""
           },
           "baxis": {
            "gridcolor": "#DFE8F3",
            "linecolor": "#A2B1C6",
            "ticks": ""
           },
           "bgcolor": "white",
           "caxis": {
            "gridcolor": "#DFE8F3",
            "linecolor": "#A2B1C6",
            "ticks": ""
           }
          },
          "title": {
           "x": 0.05
          },
          "xaxis": {
           "automargin": true,
           "gridcolor": "#EBF0F8",
           "linecolor": "#EBF0F8",
           "ticks": "",
           "title": {
            "standoff": 15
           },
           "zerolinecolor": "#EBF0F8",
           "zerolinewidth": 2
          },
          "yaxis": {
           "automargin": true,
           "gridcolor": "#EBF0F8",
           "linecolor": "#EBF0F8",
           "ticks": "",
           "title": {
            "standoff": 15
           },
           "zerolinecolor": "#EBF0F8",
           "zerolinewidth": 2
          }
         }
        },
        "title": {
         "text": "Quick Test on Spain Teams data"
        },
        "xaxis": {
         "anchor": "y",
         "categoryarray": [
          "Real Madrid",
          "FC Barcelona",
          "Atlético Madrid",
          "Sevilla FC",
          "Valencia CF",
          "Real Betis",
          "Athletic Club de Bilbao",
          "Villarreal CF",
          "Real Sociedad",
          "RC Celta",
          "Girona FC",
          "SD Eibar",
          "Getafe CF",
          "RCD Espanyol",
          "Levante UD",
          "Deportivo Alavés",
          "CD Leganés",
          "Rayo Vallecano",
          "Real Valladolid CF",
          "SD Huesca"
         ],
         "categoryorder": "array",
         "domain": [
          0,
          1
         ],
         "title": {
          "text": "Name"
         }
        },
        "yaxis": {
         "anchor": "x",
         "domain": [
          0,
          1
         ],
         "title": {
          "text": "Transfer Budget"
         }
        }
       }
      },
      "text/html": [
       "<div>\n",
       "        \n",
       "        \n",
       "            <div id=\"967a9e51-8615-4818-9ba1-298ba64563d9\" class=\"plotly-graph-div\" style=\"height:525px; width:100%;\"></div>\n",
       "            <script type=\"text/javascript\">\n",
       "                require([\"plotly\"], function(Plotly) {\n",
       "                    window.PLOTLYENV=window.PLOTLYENV || {};\n",
       "                    \n",
       "                if (document.getElementById(\"967a9e51-8615-4818-9ba1-298ba64563d9\")) {\n",
       "                    Plotly.newPlot(\n",
       "                        '967a9e51-8615-4818-9ba1-298ba64563d9',\n",
       "                        [{\"customdata\": [[10, 33, 10]], \"hovertemplate\": \"Name=%{x}<br>Transfer Budget=%{y}<br>International Prestige=%{customdata[0]}<br>Players=%{customdata[1]}<br>Domestic Presstige=%{customdata[2]}<extra></extra>\", \"legendgroup\": \"Real Madrid\", \"marker\": {\"color\": \"#636efa\", \"symbol\": \"circle\"}, \"mode\": \"markers\", \"name\": \"Real Madrid\", \"showlegend\": true, \"type\": \"scatter\", \"x\": [\"Real Madrid\"], \"xaxis\": \"x\", \"y\": [188500000.0], \"yaxis\": \"y\"}, {\"customdata\": [[10, 33, 10]], \"hovertemplate\": \"Name=%{x}<br>Transfer Budget=%{y}<br>International Prestige=%{customdata[0]}<br>Players=%{customdata[1]}<br>Domestic Presstige=%{customdata[2]}<extra></extra>\", \"legendgroup\": \"FC Barcelona\", \"marker\": {\"color\": \"#EF553B\", \"symbol\": \"circle\"}, \"mode\": \"markers\", \"name\": \"FC Barcelona\", \"showlegend\": true, \"type\": \"scatter\", \"x\": [\"FC Barcelona\"], \"xaxis\": \"x\", \"y\": [187900000.0], \"yaxis\": \"y\"}, {\"customdata\": [[9, 33, 9]], \"hovertemplate\": \"Name=%{x}<br>Transfer Budget=%{y}<br>International Prestige=%{customdata[0]}<br>Players=%{customdata[1]}<br>Domestic Presstige=%{customdata[2]}<extra></extra>\", \"legendgroup\": \"Atl\\u00e9tico Madrid\", \"marker\": {\"color\": \"#00cc96\", \"symbol\": \"circle\"}, \"mode\": \"markers\", \"name\": \"Atl\\u00e9tico Madrid\", \"showlegend\": true, \"type\": \"scatter\", \"x\": [\"Atl\\u00e9tico Madrid\"], \"xaxis\": \"x\", \"y\": [68600000.0], \"yaxis\": \"y\"}, {\"customdata\": [[7, 33, 7]], \"hovertemplate\": \"Name=%{x}<br>Transfer Budget=%{y}<br>International Prestige=%{customdata[0]}<br>Players=%{customdata[1]}<br>Domestic Presstige=%{customdata[2]}<extra></extra>\", \"legendgroup\": \"Sevilla FC\", \"marker\": {\"color\": \"#ab63fa\", \"symbol\": \"circle\"}, \"mode\": \"markers\", \"name\": \"Sevilla FC\", \"showlegend\": true, \"type\": \"scatter\", \"x\": [\"Sevilla FC\"], \"xaxis\": \"x\", \"y\": [34500000.0], \"yaxis\": \"y\"}, {\"customdata\": [[6, 33, 8]], \"hovertemplate\": \"Name=%{x}<br>Transfer Budget=%{y}<br>International Prestige=%{customdata[0]}<br>Players=%{customdata[1]}<br>Domestic Presstige=%{customdata[2]}<extra></extra>\", \"legendgroup\": \"Valencia CF\", \"marker\": {\"color\": \"#FFA15A\", \"symbol\": \"circle\"}, \"mode\": \"markers\", \"name\": \"Valencia CF\", \"showlegend\": true, \"type\": \"scatter\", \"x\": [\"Valencia CF\"], \"xaxis\": \"x\", \"y\": [66300000.0], \"yaxis\": \"y\"}, {\"customdata\": [[2, 32, 5]], \"hovertemplate\": \"Name=%{x}<br>Transfer Budget=%{y}<br>International Prestige=%{customdata[0]}<br>Players=%{customdata[1]}<br>Domestic Presstige=%{customdata[2]}<extra></extra>\", \"legendgroup\": \"Real Betis\", \"marker\": {\"color\": \"#19d3f3\", \"symbol\": \"circle\"}, \"mode\": \"markers\", \"name\": \"Real Betis\", \"showlegend\": true, \"type\": \"scatter\", \"x\": [\"Real Betis\"], \"xaxis\": \"x\", \"y\": [16100000.000000002], \"yaxis\": \"y\"}, {\"customdata\": [[6, 33, 6]], \"hovertemplate\": \"Name=%{x}<br>Transfer Budget=%{y}<br>International Prestige=%{customdata[0]}<br>Players=%{customdata[1]}<br>Domestic Presstige=%{customdata[2]}<extra></extra>\", \"legendgroup\": \"Athletic Club de Bilbao\", \"marker\": {\"color\": \"#FF6692\", \"symbol\": \"circle\"}, \"mode\": \"markers\", \"name\": \"Athletic Club de Bilbao\", \"showlegend\": true, \"type\": \"scatter\", \"x\": [\"Athletic Club de Bilbao\"], \"xaxis\": \"x\", \"y\": [18500000.0], \"yaxis\": \"y\"}, {\"customdata\": [[7, 33, 8]], \"hovertemplate\": \"Name=%{x}<br>Transfer Budget=%{y}<br>International Prestige=%{customdata[0]}<br>Players=%{customdata[1]}<br>Domestic Presstige=%{customdata[2]}<extra></extra>\", \"legendgroup\": \"Villarreal CF\", \"marker\": {\"color\": \"#B6E880\", \"symbol\": \"circle\"}, \"mode\": \"markers\", \"name\": \"Villarreal CF\", \"showlegend\": true, \"type\": \"scatter\", \"x\": [\"Villarreal CF\"], \"xaxis\": \"x\", \"y\": [32900000.0], \"yaxis\": \"y\"}, {\"customdata\": [[3, 33, 5]], \"hovertemplate\": \"Name=%{x}<br>Transfer Budget=%{y}<br>International Prestige=%{customdata[0]}<br>Players=%{customdata[1]}<br>Domestic Presstige=%{customdata[2]}<extra></extra>\", \"legendgroup\": \"Real Sociedad\", \"marker\": {\"color\": \"#FF97FF\", \"symbol\": \"circle\"}, \"mode\": \"markers\", \"name\": \"Real Sociedad\", \"showlegend\": true, \"type\": \"scatter\", \"x\": [\"Real Sociedad\"], \"xaxis\": \"x\", \"y\": [15800000.0], \"yaxis\": \"y\"}, {\"customdata\": [[4, 33, 5]], \"hovertemplate\": \"Name=%{x}<br>Transfer Budget=%{y}<br>International Prestige=%{customdata[0]}<br>Players=%{customdata[1]}<br>Domestic Presstige=%{customdata[2]}<extra></extra>\", \"legendgroup\": \"RC Celta\", \"marker\": {\"color\": \"#FECB52\", \"symbol\": \"circle\"}, \"mode\": \"markers\", \"name\": \"RC Celta\", \"showlegend\": true, \"type\": \"scatter\", \"x\": [\"RC Celta\"], \"xaxis\": \"x\", \"y\": [11800000.0], \"yaxis\": \"y\"}, {\"customdata\": [[1, 33, 4]], \"hovertemplate\": \"Name=%{x}<br>Transfer Budget=%{y}<br>International Prestige=%{customdata[0]}<br>Players=%{customdata[1]}<br>Domestic Presstige=%{customdata[2]}<extra></extra>\", \"legendgroup\": \"Girona FC\", \"marker\": {\"color\": \"#636efa\", \"symbol\": \"circle\"}, \"mode\": \"markers\", \"name\": \"Girona FC\", \"showlegend\": true, \"type\": \"scatter\", \"x\": [\"Girona FC\"], \"xaxis\": \"x\", \"y\": [3900000.0], \"yaxis\": \"y\"}, {\"customdata\": [[1, 29, 4]], \"hovertemplate\": \"Name=%{x}<br>Transfer Budget=%{y}<br>International Prestige=%{customdata[0]}<br>Players=%{customdata[1]}<br>Domestic Presstige=%{customdata[2]}<extra></extra>\", \"legendgroup\": \"SD Eibar\", \"marker\": {\"color\": \"#EF553B\", \"symbol\": \"circle\"}, \"mode\": \"markers\", \"name\": \"SD Eibar\", \"showlegend\": true, \"type\": \"scatter\", \"x\": [\"SD Eibar\"], \"xaxis\": \"x\", \"y\": [5400000.0], \"yaxis\": \"y\"}, {\"customdata\": [[2, 28, 5]], \"hovertemplate\": \"Name=%{x}<br>Transfer Budget=%{y}<br>International Prestige=%{customdata[0]}<br>Players=%{customdata[1]}<br>Domestic Presstige=%{customdata[2]}<extra></extra>\", \"legendgroup\": \"Getafe CF\", \"marker\": {\"color\": \"#00cc96\", \"symbol\": \"circle\"}, \"mode\": \"markers\", \"name\": \"Getafe CF\", \"showlegend\": true, \"type\": \"scatter\", \"x\": [\"Getafe CF\"], \"xaxis\": \"x\", \"y\": [5400000.0], \"yaxis\": \"y\"}, {\"customdata\": [[2, 33, 5]], \"hovertemplate\": \"Name=%{x}<br>Transfer Budget=%{y}<br>International Prestige=%{customdata[0]}<br>Players=%{customdata[1]}<br>Domestic Presstige=%{customdata[2]}<extra></extra>\", \"legendgroup\": \"RCD Espanyol\", \"marker\": {\"color\": \"#ab63fa\", \"symbol\": \"circle\"}, \"mode\": \"markers\", \"name\": \"RCD Espanyol\", \"showlegend\": true, \"type\": \"scatter\", \"x\": [\"RCD Espanyol\"], \"xaxis\": \"x\", \"y\": [10400000.0], \"yaxis\": \"y\"}, {\"customdata\": [[1, 33, 3]], \"hovertemplate\": \"Name=%{x}<br>Transfer Budget=%{y}<br>International Prestige=%{customdata[0]}<br>Players=%{customdata[1]}<br>Domestic Presstige=%{customdata[2]}<extra></extra>\", \"legendgroup\": \"Levante UD\", \"marker\": {\"color\": \"#FFA15A\", \"symbol\": \"circle\"}, \"mode\": \"markers\", \"name\": \"Levante UD\", \"showlegend\": true, \"type\": \"scatter\", \"x\": [\"Levante UD\"], \"xaxis\": \"x\", \"y\": [8199999.999999999], \"yaxis\": \"y\"}, {\"customdata\": [[1, 27, 3]], \"hovertemplate\": \"Name=%{x}<br>Transfer Budget=%{y}<br>International Prestige=%{customdata[0]}<br>Players=%{customdata[1]}<br>Domestic Presstige=%{customdata[2]}<extra></extra>\", \"legendgroup\": \"Deportivo Alav\\u00e9s\", \"marker\": {\"color\": \"#19d3f3\", \"symbol\": \"circle\"}, \"mode\": \"markers\", \"name\": \"Deportivo Alav\\u00e9s\", \"showlegend\": true, \"type\": \"scatter\", \"x\": [\"Deportivo Alav\\u00e9s\"], \"xaxis\": \"x\", \"y\": [4400000.0], \"yaxis\": \"y\"}, {\"customdata\": [[1, 31, 4]], \"hovertemplate\": \"Name=%{x}<br>Transfer Budget=%{y}<br>International Prestige=%{customdata[0]}<br>Players=%{customdata[1]}<br>Domestic Presstige=%{customdata[2]}<extra></extra>\", \"legendgroup\": \"CD Legan\\u00e9s\", \"marker\": {\"color\": \"#FF6692\", \"symbol\": \"circle\"}, \"mode\": \"markers\", \"name\": \"CD Legan\\u00e9s\", \"showlegend\": true, \"type\": \"scatter\", \"x\": [\"CD Legan\\u00e9s\"], \"xaxis\": \"x\", \"y\": [4200000.0], \"yaxis\": \"y\"}, {\"customdata\": [[1, 33, 2]], \"hovertemplate\": \"Name=%{x}<br>Transfer Budget=%{y}<br>International Prestige=%{customdata[0]}<br>Players=%{customdata[1]}<br>Domestic Presstige=%{customdata[2]}<extra></extra>\", \"legendgroup\": \"Rayo Vallecano\", \"marker\": {\"color\": \"#B6E880\", \"symbol\": \"circle\"}, \"mode\": \"markers\", \"name\": \"Rayo Vallecano\", \"showlegend\": true, \"type\": \"scatter\", \"x\": [\"Rayo Vallecano\"], \"xaxis\": \"x\", \"y\": [3300000.0], \"yaxis\": \"y\"}, {\"customdata\": [[1, 33, 2]], \"hovertemplate\": \"Name=%{x}<br>Transfer Budget=%{y}<br>International Prestige=%{customdata[0]}<br>Players=%{customdata[1]}<br>Domestic Presstige=%{customdata[2]}<extra></extra>\", \"legendgroup\": \"Real Valladolid CF\", \"marker\": {\"color\": \"#FF97FF\", \"symbol\": \"circle\"}, \"mode\": \"markers\", \"name\": \"Real Valladolid CF\", \"showlegend\": true, \"type\": \"scatter\", \"x\": [\"Real Valladolid CF\"], \"xaxis\": \"x\", \"y\": [3100000.0], \"yaxis\": \"y\"}, {\"customdata\": [[1, 31, 2]], \"hovertemplate\": \"Name=%{x}<br>Transfer Budget=%{y}<br>International Prestige=%{customdata[0]}<br>Players=%{customdata[1]}<br>Domestic Presstige=%{customdata[2]}<extra></extra>\", \"legendgroup\": \"SD Huesca\", \"marker\": {\"color\": \"#FECB52\", \"symbol\": \"circle\"}, \"mode\": \"markers\", \"name\": \"SD Huesca\", \"showlegend\": true, \"type\": \"scatter\", \"x\": [\"SD Huesca\"], \"xaxis\": \"x\", \"y\": [2100000.0], \"yaxis\": \"y\"}],\n",
       "                        {\"legend\": {\"title\": {\"text\": \"Name\"}, \"tracegroupgap\": 0}, \"margin\": {\"t\": 60}, \"template\": {\"data\": {\"bar\": [{\"error_x\": {\"color\": \"#2a3f5f\"}, \"error_y\": {\"color\": \"#2a3f5f\"}, \"marker\": {\"line\": {\"color\": \"white\", \"width\": 0.5}}, \"type\": \"bar\"}], \"barpolar\": [{\"marker\": {\"line\": {\"color\": \"white\", \"width\": 0.5}}, \"type\": \"barpolar\"}], \"carpet\": [{\"aaxis\": {\"endlinecolor\": \"#2a3f5f\", \"gridcolor\": \"#C8D4E3\", \"linecolor\": \"#C8D4E3\", \"minorgridcolor\": \"#C8D4E3\", \"startlinecolor\": \"#2a3f5f\"}, \"baxis\": {\"endlinecolor\": \"#2a3f5f\", \"gridcolor\": \"#C8D4E3\", \"linecolor\": \"#C8D4E3\", \"minorgridcolor\": \"#C8D4E3\", \"startlinecolor\": \"#2a3f5f\"}, \"type\": \"carpet\"}], \"choropleth\": [{\"colorbar\": {\"outlinewidth\": 0, \"ticks\": \"\"}, \"type\": \"choropleth\"}], \"contour\": [{\"colorbar\": {\"outlinewidth\": 0, \"ticks\": \"\"}, \"colorscale\": [[0.0, \"#0d0887\"], [0.1111111111111111, \"#46039f\"], [0.2222222222222222, \"#7201a8\"], [0.3333333333333333, \"#9c179e\"], [0.4444444444444444, \"#bd3786\"], [0.5555555555555556, \"#d8576b\"], [0.6666666666666666, \"#ed7953\"], [0.7777777777777778, \"#fb9f3a\"], [0.8888888888888888, \"#fdca26\"], [1.0, \"#f0f921\"]], \"type\": \"contour\"}], \"contourcarpet\": [{\"colorbar\": {\"outlinewidth\": 0, \"ticks\": \"\"}, \"type\": \"contourcarpet\"}], \"heatmap\": [{\"colorbar\": {\"outlinewidth\": 0, \"ticks\": \"\"}, \"colorscale\": [[0.0, \"#0d0887\"], [0.1111111111111111, \"#46039f\"], [0.2222222222222222, \"#7201a8\"], [0.3333333333333333, \"#9c179e\"], [0.4444444444444444, \"#bd3786\"], [0.5555555555555556, \"#d8576b\"], [0.6666666666666666, \"#ed7953\"], [0.7777777777777778, \"#fb9f3a\"], [0.8888888888888888, \"#fdca26\"], [1.0, \"#f0f921\"]], \"type\": \"heatmap\"}], \"heatmapgl\": [{\"colorbar\": {\"outlinewidth\": 0, \"ticks\": \"\"}, \"colorscale\": [[0.0, \"#0d0887\"], [0.1111111111111111, \"#46039f\"], [0.2222222222222222, \"#7201a8\"], [0.3333333333333333, \"#9c179e\"], [0.4444444444444444, \"#bd3786\"], [0.5555555555555556, \"#d8576b\"], [0.6666666666666666, \"#ed7953\"], [0.7777777777777778, \"#fb9f3a\"], [0.8888888888888888, \"#fdca26\"], [1.0, \"#f0f921\"]], \"type\": \"heatmapgl\"}], \"histogram\": [{\"marker\": {\"colorbar\": {\"outlinewidth\": 0, \"ticks\": \"\"}}, \"type\": \"histogram\"}], \"histogram2d\": [{\"colorbar\": {\"outlinewidth\": 0, \"ticks\": \"\"}, \"colorscale\": [[0.0, \"#0d0887\"], [0.1111111111111111, \"#46039f\"], [0.2222222222222222, \"#7201a8\"], [0.3333333333333333, \"#9c179e\"], [0.4444444444444444, \"#bd3786\"], [0.5555555555555556, \"#d8576b\"], [0.6666666666666666, \"#ed7953\"], [0.7777777777777778, \"#fb9f3a\"], [0.8888888888888888, \"#fdca26\"], [1.0, \"#f0f921\"]], \"type\": \"histogram2d\"}], \"histogram2dcontour\": [{\"colorbar\": {\"outlinewidth\": 0, \"ticks\": \"\"}, \"colorscale\": [[0.0, \"#0d0887\"], [0.1111111111111111, \"#46039f\"], [0.2222222222222222, \"#7201a8\"], [0.3333333333333333, \"#9c179e\"], [0.4444444444444444, \"#bd3786\"], [0.5555555555555556, \"#d8576b\"], [0.6666666666666666, \"#ed7953\"], [0.7777777777777778, \"#fb9f3a\"], [0.8888888888888888, \"#fdca26\"], [1.0, \"#f0f921\"]], \"type\": \"histogram2dcontour\"}], \"mesh3d\": [{\"colorbar\": {\"outlinewidth\": 0, \"ticks\": \"\"}, \"type\": \"mesh3d\"}], \"parcoords\": [{\"line\": {\"colorbar\": {\"outlinewidth\": 0, \"ticks\": \"\"}}, \"type\": \"parcoords\"}], \"pie\": [{\"automargin\": true, \"type\": \"pie\"}], \"scatter\": [{\"marker\": {\"colorbar\": {\"outlinewidth\": 0, \"ticks\": \"\"}}, \"type\": \"scatter\"}], \"scatter3d\": [{\"line\": {\"colorbar\": {\"outlinewidth\": 0, \"ticks\": \"\"}}, \"marker\": {\"colorbar\": {\"outlinewidth\": 0, \"ticks\": \"\"}}, \"type\": \"scatter3d\"}], \"scattercarpet\": [{\"marker\": {\"colorbar\": {\"outlinewidth\": 0, \"ticks\": \"\"}}, \"type\": \"scattercarpet\"}], \"scattergeo\": [{\"marker\": {\"colorbar\": {\"outlinewidth\": 0, \"ticks\": \"\"}}, \"type\": \"scattergeo\"}], \"scattergl\": [{\"marker\": {\"colorbar\": {\"outlinewidth\": 0, \"ticks\": \"\"}}, \"type\": \"scattergl\"}], \"scattermapbox\": [{\"marker\": {\"colorbar\": {\"outlinewidth\": 0, \"ticks\": \"\"}}, \"type\": \"scattermapbox\"}], \"scatterpolar\": [{\"marker\": {\"colorbar\": {\"outlinewidth\": 0, \"ticks\": \"\"}}, \"type\": \"scatterpolar\"}], \"scatterpolargl\": [{\"marker\": {\"colorbar\": {\"outlinewidth\": 0, \"ticks\": \"\"}}, \"type\": \"scatterpolargl\"}], \"scatterternary\": [{\"marker\": {\"colorbar\": {\"outlinewidth\": 0, \"ticks\": \"\"}}, \"type\": \"scatterternary\"}], \"surface\": [{\"colorbar\": {\"outlinewidth\": 0, \"ticks\": \"\"}, \"colorscale\": [[0.0, \"#0d0887\"], [0.1111111111111111, \"#46039f\"], [0.2222222222222222, \"#7201a8\"], [0.3333333333333333, \"#9c179e\"], [0.4444444444444444, \"#bd3786\"], [0.5555555555555556, \"#d8576b\"], [0.6666666666666666, \"#ed7953\"], [0.7777777777777778, \"#fb9f3a\"], [0.8888888888888888, \"#fdca26\"], [1.0, \"#f0f921\"]], \"type\": \"surface\"}], \"table\": [{\"cells\": {\"fill\": {\"color\": \"#EBF0F8\"}, \"line\": {\"color\": \"white\"}}, \"header\": {\"fill\": {\"color\": \"#C8D4E3\"}, \"line\": {\"color\": \"white\"}}, \"type\": \"table\"}]}, \"layout\": {\"annotationdefaults\": {\"arrowcolor\": \"#2a3f5f\", \"arrowhead\": 0, \"arrowwidth\": 1}, \"coloraxis\": {\"colorbar\": {\"outlinewidth\": 0, \"ticks\": \"\"}}, \"colorscale\": {\"diverging\": [[0, \"#8e0152\"], [0.1, \"#c51b7d\"], [0.2, \"#de77ae\"], [0.3, \"#f1b6da\"], [0.4, \"#fde0ef\"], [0.5, \"#f7f7f7\"], [0.6, \"#e6f5d0\"], [0.7, \"#b8e186\"], [0.8, \"#7fbc41\"], [0.9, \"#4d9221\"], [1, \"#276419\"]], \"sequential\": [[0.0, \"#0d0887\"], [0.1111111111111111, \"#46039f\"], [0.2222222222222222, \"#7201a8\"], [0.3333333333333333, \"#9c179e\"], [0.4444444444444444, \"#bd3786\"], [0.5555555555555556, \"#d8576b\"], [0.6666666666666666, \"#ed7953\"], [0.7777777777777778, \"#fb9f3a\"], [0.8888888888888888, \"#fdca26\"], [1.0, \"#f0f921\"]], \"sequentialminus\": [[0.0, \"#0d0887\"], [0.1111111111111111, \"#46039f\"], [0.2222222222222222, \"#7201a8\"], [0.3333333333333333, \"#9c179e\"], [0.4444444444444444, \"#bd3786\"], [0.5555555555555556, \"#d8576b\"], [0.6666666666666666, \"#ed7953\"], [0.7777777777777778, \"#fb9f3a\"], [0.8888888888888888, \"#fdca26\"], [1.0, \"#f0f921\"]]}, \"colorway\": [\"#636efa\", \"#EF553B\", \"#00cc96\", \"#ab63fa\", \"#FFA15A\", \"#19d3f3\", \"#FF6692\", \"#B6E880\", \"#FF97FF\", \"#FECB52\"], \"font\": {\"color\": \"#2a3f5f\"}, \"geo\": {\"bgcolor\": \"white\", \"lakecolor\": \"white\", \"landcolor\": \"white\", \"showlakes\": true, \"showland\": true, \"subunitcolor\": \"#C8D4E3\"}, \"hoverlabel\": {\"align\": \"left\"}, \"hovermode\": \"closest\", \"mapbox\": {\"style\": \"light\"}, \"paper_bgcolor\": \"white\", \"plot_bgcolor\": \"white\", \"polar\": {\"angularaxis\": {\"gridcolor\": \"#EBF0F8\", \"linecolor\": \"#EBF0F8\", \"ticks\": \"\"}, \"bgcolor\": \"white\", \"radialaxis\": {\"gridcolor\": \"#EBF0F8\", \"linecolor\": \"#EBF0F8\", \"ticks\": \"\"}}, \"scene\": {\"xaxis\": {\"backgroundcolor\": \"white\", \"gridcolor\": \"#DFE8F3\", \"gridwidth\": 2, \"linecolor\": \"#EBF0F8\", \"showbackground\": true, \"ticks\": \"\", \"zerolinecolor\": \"#EBF0F8\"}, \"yaxis\": {\"backgroundcolor\": \"white\", \"gridcolor\": \"#DFE8F3\", \"gridwidth\": 2, \"linecolor\": \"#EBF0F8\", \"showbackground\": true, \"ticks\": \"\", \"zerolinecolor\": \"#EBF0F8\"}, \"zaxis\": {\"backgroundcolor\": \"white\", \"gridcolor\": \"#DFE8F3\", \"gridwidth\": 2, \"linecolor\": \"#EBF0F8\", \"showbackground\": true, \"ticks\": \"\", \"zerolinecolor\": \"#EBF0F8\"}}, \"shapedefaults\": {\"line\": {\"color\": \"#2a3f5f\"}}, \"ternary\": {\"aaxis\": {\"gridcolor\": \"#DFE8F3\", \"linecolor\": \"#A2B1C6\", \"ticks\": \"\"}, \"baxis\": {\"gridcolor\": \"#DFE8F3\", \"linecolor\": \"#A2B1C6\", \"ticks\": \"\"}, \"bgcolor\": \"white\", \"caxis\": {\"gridcolor\": \"#DFE8F3\", \"linecolor\": \"#A2B1C6\", \"ticks\": \"\"}}, \"title\": {\"x\": 0.05}, \"xaxis\": {\"automargin\": true, \"gridcolor\": \"#EBF0F8\", \"linecolor\": \"#EBF0F8\", \"ticks\": \"\", \"title\": {\"standoff\": 15}, \"zerolinecolor\": \"#EBF0F8\", \"zerolinewidth\": 2}, \"yaxis\": {\"automargin\": true, \"gridcolor\": \"#EBF0F8\", \"linecolor\": \"#EBF0F8\", \"ticks\": \"\", \"title\": {\"standoff\": 15}, \"zerolinecolor\": \"#EBF0F8\", \"zerolinewidth\": 2}}}, \"title\": {\"text\": \"Quick Test on Spain Teams data\"}, \"xaxis\": {\"anchor\": \"y\", \"categoryarray\": [\"Real Madrid\", \"FC Barcelona\", \"Atl\\u00e9tico Madrid\", \"Sevilla FC\", \"Valencia CF\", \"Real Betis\", \"Athletic Club de Bilbao\", \"Villarreal CF\", \"Real Sociedad\", \"RC Celta\", \"Girona FC\", \"SD Eibar\", \"Getafe CF\", \"RCD Espanyol\", \"Levante UD\", \"Deportivo Alav\\u00e9s\", \"CD Legan\\u00e9s\", \"Rayo Vallecano\", \"Real Valladolid CF\", \"SD Huesca\"], \"categoryorder\": \"array\", \"domain\": [0.0, 1.0], \"title\": {\"text\": \"Name\"}}, \"yaxis\": {\"anchor\": \"x\", \"domain\": [0.0, 1.0], \"title\": {\"text\": \"Transfer Budget\"}}},\n",
       "                        {\"responsive\": true}\n",
       "                    ).then(function(){\n",
       "                            \n",
       "var gd = document.getElementById('967a9e51-8615-4818-9ba1-298ba64563d9');\n",
       "var x = new MutationObserver(function (mutations, observer) {{\n",
       "        var display = window.getComputedStyle(gd).display;\n",
       "        if (!display || display === 'none') {{\n",
       "            console.log([gd, 'removed!']);\n",
       "            Plotly.purge(gd);\n",
       "            observer.disconnect();\n",
       "        }}\n",
       "}});\n",
       "\n",
       "// Listen for the removal of the full notebook cells\n",
       "var notebookContainer = gd.closest('#notebook-container');\n",
       "if (notebookContainer) {{\n",
       "    x.observe(notebookContainer, {childList: true});\n",
       "}}\n",
       "\n",
       "// Listen for the clearing of the current output cell\n",
       "var outputEl = gd.closest('.output');\n",
       "if (outputEl) {{\n",
       "    x.observe(outputEl, {childList: true});\n",
       "}}\n",
       "\n",
       "                        })\n",
       "                };\n",
       "                });\n",
       "            </script>\n",
       "        </div>"
      ]
     },
     "metadata": {},
     "output_type": "display_data"
    },
    {
     "data": {
      "application/vnd.plotly.v1+json": {
       "config": {
        "plotlyServerURL": "https://plot.ly"
       },
       "data": [
        {
         "customdata": [
          [
           10,
           33,
           10
          ]
         ],
         "hovertemplate": "Name=%{x}<br>Transfer Budget=%{y}<br>International Prestige=%{customdata[0]}<br>Players=%{customdata[1]}<br>Domestic Presstige=%{customdata[2]}<extra></extra>",
         "legendgroup": "Real Madrid",
         "marker": {
          "color": "#636efa",
          "symbol": "circle"
         },
         "mode": "markers",
         "name": "Real Madrid",
         "showlegend": true,
         "type": "scatter",
         "x": [
          "Real Madrid"
         ],
         "xaxis": "x",
         "y": [
          188500000
         ],
         "yaxis": "y"
        },
        {
         "customdata": [
          [
           10,
           33,
           10
          ]
         ],
         "hovertemplate": "Name=%{x}<br>Transfer Budget=%{y}<br>International Prestige=%{customdata[0]}<br>Players=%{customdata[1]}<br>Domestic Presstige=%{customdata[2]}<extra></extra>",
         "legendgroup": "FC Barcelona",
         "marker": {
          "color": "#EF553B",
          "symbol": "circle"
         },
         "mode": "markers",
         "name": "FC Barcelona",
         "showlegend": true,
         "type": "scatter",
         "x": [
          "FC Barcelona"
         ],
         "xaxis": "x",
         "y": [
          187900000
         ],
         "yaxis": "y"
        },
        {
         "customdata": [
          [
           9,
           33,
           9
          ]
         ],
         "hovertemplate": "Name=%{x}<br>Transfer Budget=%{y}<br>International Prestige=%{customdata[0]}<br>Players=%{customdata[1]}<br>Domestic Presstige=%{customdata[2]}<extra></extra>",
         "legendgroup": "Atlético Madrid",
         "marker": {
          "color": "#00cc96",
          "symbol": "circle"
         },
         "mode": "markers",
         "name": "Atlético Madrid",
         "showlegend": true,
         "type": "scatter",
         "x": [
          "Atlético Madrid"
         ],
         "xaxis": "x",
         "y": [
          68600000
         ],
         "yaxis": "y"
        },
        {
         "customdata": [
          [
           7,
           33,
           7
          ]
         ],
         "hovertemplate": "Name=%{x}<br>Transfer Budget=%{y}<br>International Prestige=%{customdata[0]}<br>Players=%{customdata[1]}<br>Domestic Presstige=%{customdata[2]}<extra></extra>",
         "legendgroup": "Sevilla FC",
         "marker": {
          "color": "#ab63fa",
          "symbol": "circle"
         },
         "mode": "markers",
         "name": "Sevilla FC",
         "showlegend": true,
         "type": "scatter",
         "x": [
          "Sevilla FC"
         ],
         "xaxis": "x",
         "y": [
          34500000
         ],
         "yaxis": "y"
        },
        {
         "customdata": [
          [
           6,
           33,
           8
          ]
         ],
         "hovertemplate": "Name=%{x}<br>Transfer Budget=%{y}<br>International Prestige=%{customdata[0]}<br>Players=%{customdata[1]}<br>Domestic Presstige=%{customdata[2]}<extra></extra>",
         "legendgroup": "Valencia CF",
         "marker": {
          "color": "#FFA15A",
          "symbol": "circle"
         },
         "mode": "markers",
         "name": "Valencia CF",
         "showlegend": true,
         "type": "scatter",
         "x": [
          "Valencia CF"
         ],
         "xaxis": "x",
         "y": [
          66300000
         ],
         "yaxis": "y"
        },
        {
         "customdata": [
          [
           2,
           32,
           5
          ]
         ],
         "hovertemplate": "Name=%{x}<br>Transfer Budget=%{y}<br>International Prestige=%{customdata[0]}<br>Players=%{customdata[1]}<br>Domestic Presstige=%{customdata[2]}<extra></extra>",
         "legendgroup": "Real Betis",
         "marker": {
          "color": "#19d3f3",
          "symbol": "circle"
         },
         "mode": "markers",
         "name": "Real Betis",
         "showlegend": true,
         "type": "scatter",
         "x": [
          "Real Betis"
         ],
         "xaxis": "x",
         "y": [
          16100000.000000002
         ],
         "yaxis": "y"
        },
        {
         "customdata": [
          [
           6,
           33,
           6
          ]
         ],
         "hovertemplate": "Name=%{x}<br>Transfer Budget=%{y}<br>International Prestige=%{customdata[0]}<br>Players=%{customdata[1]}<br>Domestic Presstige=%{customdata[2]}<extra></extra>",
         "legendgroup": "Athletic Club de Bilbao",
         "marker": {
          "color": "#FF6692",
          "symbol": "circle"
         },
         "mode": "markers",
         "name": "Athletic Club de Bilbao",
         "showlegend": true,
         "type": "scatter",
         "x": [
          "Athletic Club de Bilbao"
         ],
         "xaxis": "x",
         "y": [
          18500000
         ],
         "yaxis": "y"
        },
        {
         "customdata": [
          [
           7,
           33,
           8
          ]
         ],
         "hovertemplate": "Name=%{x}<br>Transfer Budget=%{y}<br>International Prestige=%{customdata[0]}<br>Players=%{customdata[1]}<br>Domestic Presstige=%{customdata[2]}<extra></extra>",
         "legendgroup": "Villarreal CF",
         "marker": {
          "color": "#B6E880",
          "symbol": "circle"
         },
         "mode": "markers",
         "name": "Villarreal CF",
         "showlegend": true,
         "type": "scatter",
         "x": [
          "Villarreal CF"
         ],
         "xaxis": "x",
         "y": [
          32900000
         ],
         "yaxis": "y"
        },
        {
         "customdata": [
          [
           3,
           33,
           5
          ]
         ],
         "hovertemplate": "Name=%{x}<br>Transfer Budget=%{y}<br>International Prestige=%{customdata[0]}<br>Players=%{customdata[1]}<br>Domestic Presstige=%{customdata[2]}<extra></extra>",
         "legendgroup": "Real Sociedad",
         "marker": {
          "color": "#FF97FF",
          "symbol": "circle"
         },
         "mode": "markers",
         "name": "Real Sociedad",
         "showlegend": true,
         "type": "scatter",
         "x": [
          "Real Sociedad"
         ],
         "xaxis": "x",
         "y": [
          15800000
         ],
         "yaxis": "y"
        },
        {
         "customdata": [
          [
           4,
           33,
           5
          ]
         ],
         "hovertemplate": "Name=%{x}<br>Transfer Budget=%{y}<br>International Prestige=%{customdata[0]}<br>Players=%{customdata[1]}<br>Domestic Presstige=%{customdata[2]}<extra></extra>",
         "legendgroup": "RC Celta",
         "marker": {
          "color": "#FECB52",
          "symbol": "circle"
         },
         "mode": "markers",
         "name": "RC Celta",
         "showlegend": true,
         "type": "scatter",
         "x": [
          "RC Celta"
         ],
         "xaxis": "x",
         "y": [
          11800000
         ],
         "yaxis": "y"
        },
        {
         "customdata": [
          [
           1,
           33,
           4
          ]
         ],
         "hovertemplate": "Name=%{x}<br>Transfer Budget=%{y}<br>International Prestige=%{customdata[0]}<br>Players=%{customdata[1]}<br>Domestic Presstige=%{customdata[2]}<extra></extra>",
         "legendgroup": "Girona FC",
         "marker": {
          "color": "#636efa",
          "symbol": "circle"
         },
         "mode": "markers",
         "name": "Girona FC",
         "showlegend": true,
         "type": "scatter",
         "x": [
          "Girona FC"
         ],
         "xaxis": "x",
         "y": [
          3900000
         ],
         "yaxis": "y"
        },
        {
         "customdata": [
          [
           1,
           29,
           4
          ]
         ],
         "hovertemplate": "Name=%{x}<br>Transfer Budget=%{y}<br>International Prestige=%{customdata[0]}<br>Players=%{customdata[1]}<br>Domestic Presstige=%{customdata[2]}<extra></extra>",
         "legendgroup": "SD Eibar",
         "marker": {
          "color": "#EF553B",
          "symbol": "circle"
         },
         "mode": "markers",
         "name": "SD Eibar",
         "showlegend": true,
         "type": "scatter",
         "x": [
          "SD Eibar"
         ],
         "xaxis": "x",
         "y": [
          5400000
         ],
         "yaxis": "y"
        },
        {
         "customdata": [
          [
           2,
           28,
           5
          ]
         ],
         "hovertemplate": "Name=%{x}<br>Transfer Budget=%{y}<br>International Prestige=%{customdata[0]}<br>Players=%{customdata[1]}<br>Domestic Presstige=%{customdata[2]}<extra></extra>",
         "legendgroup": "Getafe CF",
         "marker": {
          "color": "#00cc96",
          "symbol": "circle"
         },
         "mode": "markers",
         "name": "Getafe CF",
         "showlegend": true,
         "type": "scatter",
         "x": [
          "Getafe CF"
         ],
         "xaxis": "x",
         "y": [
          5400000
         ],
         "yaxis": "y"
        },
        {
         "customdata": [
          [
           2,
           33,
           5
          ]
         ],
         "hovertemplate": "Name=%{x}<br>Transfer Budget=%{y}<br>International Prestige=%{customdata[0]}<br>Players=%{customdata[1]}<br>Domestic Presstige=%{customdata[2]}<extra></extra>",
         "legendgroup": "RCD Espanyol",
         "marker": {
          "color": "#ab63fa",
          "symbol": "circle"
         },
         "mode": "markers",
         "name": "RCD Espanyol",
         "showlegend": true,
         "type": "scatter",
         "x": [
          "RCD Espanyol"
         ],
         "xaxis": "x",
         "y": [
          10400000
         ],
         "yaxis": "y"
        },
        {
         "customdata": [
          [
           1,
           33,
           3
          ]
         ],
         "hovertemplate": "Name=%{x}<br>Transfer Budget=%{y}<br>International Prestige=%{customdata[0]}<br>Players=%{customdata[1]}<br>Domestic Presstige=%{customdata[2]}<extra></extra>",
         "legendgroup": "Levante UD",
         "marker": {
          "color": "#FFA15A",
          "symbol": "circle"
         },
         "mode": "markers",
         "name": "Levante UD",
         "showlegend": true,
         "type": "scatter",
         "x": [
          "Levante UD"
         ],
         "xaxis": "x",
         "y": [
          8199999.999999999
         ],
         "yaxis": "y"
        },
        {
         "customdata": [
          [
           1,
           27,
           3
          ]
         ],
         "hovertemplate": "Name=%{x}<br>Transfer Budget=%{y}<br>International Prestige=%{customdata[0]}<br>Players=%{customdata[1]}<br>Domestic Presstige=%{customdata[2]}<extra></extra>",
         "legendgroup": "Deportivo Alavés",
         "marker": {
          "color": "#19d3f3",
          "symbol": "circle"
         },
         "mode": "markers",
         "name": "Deportivo Alavés",
         "showlegend": true,
         "type": "scatter",
         "x": [
          "Deportivo Alavés"
         ],
         "xaxis": "x",
         "y": [
          4400000
         ],
         "yaxis": "y"
        },
        {
         "customdata": [
          [
           1,
           31,
           4
          ]
         ],
         "hovertemplate": "Name=%{x}<br>Transfer Budget=%{y}<br>International Prestige=%{customdata[0]}<br>Players=%{customdata[1]}<br>Domestic Presstige=%{customdata[2]}<extra></extra>",
         "legendgroup": "CD Leganés",
         "marker": {
          "color": "#FF6692",
          "symbol": "circle"
         },
         "mode": "markers",
         "name": "CD Leganés",
         "showlegend": true,
         "type": "scatter",
         "x": [
          "CD Leganés"
         ],
         "xaxis": "x",
         "y": [
          4200000
         ],
         "yaxis": "y"
        },
        {
         "customdata": [
          [
           1,
           33,
           2
          ]
         ],
         "hovertemplate": "Name=%{x}<br>Transfer Budget=%{y}<br>International Prestige=%{customdata[0]}<br>Players=%{customdata[1]}<br>Domestic Presstige=%{customdata[2]}<extra></extra>",
         "legendgroup": "Rayo Vallecano",
         "marker": {
          "color": "#B6E880",
          "symbol": "circle"
         },
         "mode": "markers",
         "name": "Rayo Vallecano",
         "showlegend": true,
         "type": "scatter",
         "x": [
          "Rayo Vallecano"
         ],
         "xaxis": "x",
         "y": [
          3300000
         ],
         "yaxis": "y"
        },
        {
         "customdata": [
          [
           1,
           33,
           2
          ]
         ],
         "hovertemplate": "Name=%{x}<br>Transfer Budget=%{y}<br>International Prestige=%{customdata[0]}<br>Players=%{customdata[1]}<br>Domestic Presstige=%{customdata[2]}<extra></extra>",
         "legendgroup": "Real Valladolid CF",
         "marker": {
          "color": "#FF97FF",
          "symbol": "circle"
         },
         "mode": "markers",
         "name": "Real Valladolid CF",
         "showlegend": true,
         "type": "scatter",
         "x": [
          "Real Valladolid CF"
         ],
         "xaxis": "x",
         "y": [
          3100000
         ],
         "yaxis": "y"
        },
        {
         "customdata": [
          [
           1,
           31,
           2
          ]
         ],
         "hovertemplate": "Name=%{x}<br>Transfer Budget=%{y}<br>International Prestige=%{customdata[0]}<br>Players=%{customdata[1]}<br>Domestic Presstige=%{customdata[2]}<extra></extra>",
         "legendgroup": "SD Huesca",
         "marker": {
          "color": "#FECB52",
          "symbol": "circle"
         },
         "mode": "markers",
         "name": "SD Huesca",
         "showlegend": true,
         "type": "scatter",
         "x": [
          "SD Huesca"
         ],
         "xaxis": "x",
         "y": [
          2100000
         ],
         "yaxis": "y"
        }
       ],
       "layout": {
        "legend": {
         "title": {
          "text": "Name"
         },
         "tracegroupgap": 0
        },
        "margin": {
         "t": 60
        },
        "template": {
         "data": {
          "bar": [
           {
            "error_x": {
             "color": "#2a3f5f"
            },
            "error_y": {
             "color": "#2a3f5f"
            },
            "marker": {
             "line": {
              "color": "white",
              "width": 0.5
             }
            },
            "type": "bar"
           }
          ],
          "barpolar": [
           {
            "marker": {
             "line": {
              "color": "white",
              "width": 0.5
             }
            },
            "type": "barpolar"
           }
          ],
          "carpet": [
           {
            "aaxis": {
             "endlinecolor": "#2a3f5f",
             "gridcolor": "#C8D4E3",
             "linecolor": "#C8D4E3",
             "minorgridcolor": "#C8D4E3",
             "startlinecolor": "#2a3f5f"
            },
            "baxis": {
             "endlinecolor": "#2a3f5f",
             "gridcolor": "#C8D4E3",
             "linecolor": "#C8D4E3",
             "minorgridcolor": "#C8D4E3",
             "startlinecolor": "#2a3f5f"
            },
            "type": "carpet"
           }
          ],
          "choropleth": [
           {
            "colorbar": {
             "outlinewidth": 0,
             "ticks": ""
            },
            "type": "choropleth"
           }
          ],
          "contour": [
           {
            "colorbar": {
             "outlinewidth": 0,
             "ticks": ""
            },
            "colorscale": [
             [
              0,
              "#0d0887"
             ],
             [
              0.1111111111111111,
              "#46039f"
             ],
             [
              0.2222222222222222,
              "#7201a8"
             ],
             [
              0.3333333333333333,
              "#9c179e"
             ],
             [
              0.4444444444444444,
              "#bd3786"
             ],
             [
              0.5555555555555556,
              "#d8576b"
             ],
             [
              0.6666666666666666,
              "#ed7953"
             ],
             [
              0.7777777777777778,
              "#fb9f3a"
             ],
             [
              0.8888888888888888,
              "#fdca26"
             ],
             [
              1,
              "#f0f921"
             ]
            ],
            "type": "contour"
           }
          ],
          "contourcarpet": [
           {
            "colorbar": {
             "outlinewidth": 0,
             "ticks": ""
            },
            "type": "contourcarpet"
           }
          ],
          "heatmap": [
           {
            "colorbar": {
             "outlinewidth": 0,
             "ticks": ""
            },
            "colorscale": [
             [
              0,
              "#0d0887"
             ],
             [
              0.1111111111111111,
              "#46039f"
             ],
             [
              0.2222222222222222,
              "#7201a8"
             ],
             [
              0.3333333333333333,
              "#9c179e"
             ],
             [
              0.4444444444444444,
              "#bd3786"
             ],
             [
              0.5555555555555556,
              "#d8576b"
             ],
             [
              0.6666666666666666,
              "#ed7953"
             ],
             [
              0.7777777777777778,
              "#fb9f3a"
             ],
             [
              0.8888888888888888,
              "#fdca26"
             ],
             [
              1,
              "#f0f921"
             ]
            ],
            "type": "heatmap"
           }
          ],
          "heatmapgl": [
           {
            "colorbar": {
             "outlinewidth": 0,
             "ticks": ""
            },
            "colorscale": [
             [
              0,
              "#0d0887"
             ],
             [
              0.1111111111111111,
              "#46039f"
             ],
             [
              0.2222222222222222,
              "#7201a8"
             ],
             [
              0.3333333333333333,
              "#9c179e"
             ],
             [
              0.4444444444444444,
              "#bd3786"
             ],
             [
              0.5555555555555556,
              "#d8576b"
             ],
             [
              0.6666666666666666,
              "#ed7953"
             ],
             [
              0.7777777777777778,
              "#fb9f3a"
             ],
             [
              0.8888888888888888,
              "#fdca26"
             ],
             [
              1,
              "#f0f921"
             ]
            ],
            "type": "heatmapgl"
           }
          ],
          "histogram": [
           {
            "marker": {
             "colorbar": {
              "outlinewidth": 0,
              "ticks": ""
             }
            },
            "type": "histogram"
           }
          ],
          "histogram2d": [
           {
            "colorbar": {
             "outlinewidth": 0,
             "ticks": ""
            },
            "colorscale": [
             [
              0,
              "#0d0887"
             ],
             [
              0.1111111111111111,
              "#46039f"
             ],
             [
              0.2222222222222222,
              "#7201a8"
             ],
             [
              0.3333333333333333,
              "#9c179e"
             ],
             [
              0.4444444444444444,
              "#bd3786"
             ],
             [
              0.5555555555555556,
              "#d8576b"
             ],
             [
              0.6666666666666666,
              "#ed7953"
             ],
             [
              0.7777777777777778,
              "#fb9f3a"
             ],
             [
              0.8888888888888888,
              "#fdca26"
             ],
             [
              1,
              "#f0f921"
             ]
            ],
            "type": "histogram2d"
           }
          ],
          "histogram2dcontour": [
           {
            "colorbar": {
             "outlinewidth": 0,
             "ticks": ""
            },
            "colorscale": [
             [
              0,
              "#0d0887"
             ],
             [
              0.1111111111111111,
              "#46039f"
             ],
             [
              0.2222222222222222,
              "#7201a8"
             ],
             [
              0.3333333333333333,
              "#9c179e"
             ],
             [
              0.4444444444444444,
              "#bd3786"
             ],
             [
              0.5555555555555556,
              "#d8576b"
             ],
             [
              0.6666666666666666,
              "#ed7953"
             ],
             [
              0.7777777777777778,
              "#fb9f3a"
             ],
             [
              0.8888888888888888,
              "#fdca26"
             ],
             [
              1,
              "#f0f921"
             ]
            ],
            "type": "histogram2dcontour"
           }
          ],
          "mesh3d": [
           {
            "colorbar": {
             "outlinewidth": 0,
             "ticks": ""
            },
            "type": "mesh3d"
           }
          ],
          "parcoords": [
           {
            "line": {
             "colorbar": {
              "outlinewidth": 0,
              "ticks": ""
             }
            },
            "type": "parcoords"
           }
          ],
          "pie": [
           {
            "automargin": true,
            "type": "pie"
           }
          ],
          "scatter": [
           {
            "marker": {
             "colorbar": {
              "outlinewidth": 0,
              "ticks": ""
             }
            },
            "type": "scatter"
           }
          ],
          "scatter3d": [
           {
            "line": {
             "colorbar": {
              "outlinewidth": 0,
              "ticks": ""
             }
            },
            "marker": {
             "colorbar": {
              "outlinewidth": 0,
              "ticks": ""
             }
            },
            "type": "scatter3d"
           }
          ],
          "scattercarpet": [
           {
            "marker": {
             "colorbar": {
              "outlinewidth": 0,
              "ticks": ""
             }
            },
            "type": "scattercarpet"
           }
          ],
          "scattergeo": [
           {
            "marker": {
             "colorbar": {
              "outlinewidth": 0,
              "ticks": ""
             }
            },
            "type": "scattergeo"
           }
          ],
          "scattergl": [
           {
            "marker": {
             "colorbar": {
              "outlinewidth": 0,
              "ticks": ""
             }
            },
            "type": "scattergl"
           }
          ],
          "scattermapbox": [
           {
            "marker": {
             "colorbar": {
              "outlinewidth": 0,
              "ticks": ""
             }
            },
            "type": "scattermapbox"
           }
          ],
          "scatterpolar": [
           {
            "marker": {
             "colorbar": {
              "outlinewidth": 0,
              "ticks": ""
             }
            },
            "type": "scatterpolar"
           }
          ],
          "scatterpolargl": [
           {
            "marker": {
             "colorbar": {
              "outlinewidth": 0,
              "ticks": ""
             }
            },
            "type": "scatterpolargl"
           }
          ],
          "scatterternary": [
           {
            "marker": {
             "colorbar": {
              "outlinewidth": 0,
              "ticks": ""
             }
            },
            "type": "scatterternary"
           }
          ],
          "surface": [
           {
            "colorbar": {
             "outlinewidth": 0,
             "ticks": ""
            },
            "colorscale": [
             [
              0,
              "#0d0887"
             ],
             [
              0.1111111111111111,
              "#46039f"
             ],
             [
              0.2222222222222222,
              "#7201a8"
             ],
             [
              0.3333333333333333,
              "#9c179e"
             ],
             [
              0.4444444444444444,
              "#bd3786"
             ],
             [
              0.5555555555555556,
              "#d8576b"
             ],
             [
              0.6666666666666666,
              "#ed7953"
             ],
             [
              0.7777777777777778,
              "#fb9f3a"
             ],
             [
              0.8888888888888888,
              "#fdca26"
             ],
             [
              1,
              "#f0f921"
             ]
            ],
            "type": "surface"
           }
          ],
          "table": [
           {
            "cells": {
             "fill": {
              "color": "#EBF0F8"
             },
             "line": {
              "color": "white"
             }
            },
            "header": {
             "fill": {
              "color": "#C8D4E3"
             },
             "line": {
              "color": "white"
             }
            },
            "type": "table"
           }
          ]
         },
         "layout": {
          "annotationdefaults": {
           "arrowcolor": "#2a3f5f",
           "arrowhead": 0,
           "arrowwidth": 1
          },
          "coloraxis": {
           "colorbar": {
            "outlinewidth": 0,
            "ticks": ""
           }
          },
          "colorscale": {
           "diverging": [
            [
             0,
             "#8e0152"
            ],
            [
             0.1,
             "#c51b7d"
            ],
            [
             0.2,
             "#de77ae"
            ],
            [
             0.3,
             "#f1b6da"
            ],
            [
             0.4,
             "#fde0ef"
            ],
            [
             0.5,
             "#f7f7f7"
            ],
            [
             0.6,
             "#e6f5d0"
            ],
            [
             0.7,
             "#b8e186"
            ],
            [
             0.8,
             "#7fbc41"
            ],
            [
             0.9,
             "#4d9221"
            ],
            [
             1,
             "#276419"
            ]
           ],
           "sequential": [
            [
             0,
             "#0d0887"
            ],
            [
             0.1111111111111111,
             "#46039f"
            ],
            [
             0.2222222222222222,
             "#7201a8"
            ],
            [
             0.3333333333333333,
             "#9c179e"
            ],
            [
             0.4444444444444444,
             "#bd3786"
            ],
            [
             0.5555555555555556,
             "#d8576b"
            ],
            [
             0.6666666666666666,
             "#ed7953"
            ],
            [
             0.7777777777777778,
             "#fb9f3a"
            ],
            [
             0.8888888888888888,
             "#fdca26"
            ],
            [
             1,
             "#f0f921"
            ]
           ],
           "sequentialminus": [
            [
             0,
             "#0d0887"
            ],
            [
             0.1111111111111111,
             "#46039f"
            ],
            [
             0.2222222222222222,
             "#7201a8"
            ],
            [
             0.3333333333333333,
             "#9c179e"
            ],
            [
             0.4444444444444444,
             "#bd3786"
            ],
            [
             0.5555555555555556,
             "#d8576b"
            ],
            [
             0.6666666666666666,
             "#ed7953"
            ],
            [
             0.7777777777777778,
             "#fb9f3a"
            ],
            [
             0.8888888888888888,
             "#fdca26"
            ],
            [
             1,
             "#f0f921"
            ]
           ]
          },
          "colorway": [
           "#636efa",
           "#EF553B",
           "#00cc96",
           "#ab63fa",
           "#FFA15A",
           "#19d3f3",
           "#FF6692",
           "#B6E880",
           "#FF97FF",
           "#FECB52"
          ],
          "font": {
           "color": "#2a3f5f"
          },
          "geo": {
           "bgcolor": "white",
           "lakecolor": "white",
           "landcolor": "white",
           "showlakes": true,
           "showland": true,
           "subunitcolor": "#C8D4E3"
          },
          "hoverlabel": {
           "align": "left"
          },
          "hovermode": "closest",
          "mapbox": {
           "style": "light"
          },
          "paper_bgcolor": "white",
          "plot_bgcolor": "white",
          "polar": {
           "angularaxis": {
            "gridcolor": "#EBF0F8",
            "linecolor": "#EBF0F8",
            "ticks": ""
           },
           "bgcolor": "white",
           "radialaxis": {
            "gridcolor": "#EBF0F8",
            "linecolor": "#EBF0F8",
            "ticks": ""
           }
          },
          "scene": {
           "xaxis": {
            "backgroundcolor": "white",
            "gridcolor": "#DFE8F3",
            "gridwidth": 2,
            "linecolor": "#EBF0F8",
            "showbackground": true,
            "ticks": "",
            "zerolinecolor": "#EBF0F8"
           },
           "yaxis": {
            "backgroundcolor": "white",
            "gridcolor": "#DFE8F3",
            "gridwidth": 2,
            "linecolor": "#EBF0F8",
            "showbackground": true,
            "ticks": "",
            "zerolinecolor": "#EBF0F8"
           },
           "zaxis": {
            "backgroundcolor": "white",
            "gridcolor": "#DFE8F3",
            "gridwidth": 2,
            "linecolor": "#EBF0F8",
            "showbackground": true,
            "ticks": "",
            "zerolinecolor": "#EBF0F8"
           }
          },
          "shapedefaults": {
           "line": {
            "color": "#2a3f5f"
           }
          },
          "ternary": {
           "aaxis": {
            "gridcolor": "#DFE8F3",
            "linecolor": "#A2B1C6",
            "ticks": ""
           },
           "baxis": {
            "gridcolor": "#DFE8F3",
            "linecolor": "#A2B1C6",
            "ticks": ""
           },
           "bgcolor": "white",
           "caxis": {
            "gridcolor": "#DFE8F3",
            "linecolor": "#A2B1C6",
            "ticks": ""
           }
          },
          "title": {
           "x": 0.05
          },
          "xaxis": {
           "automargin": true,
           "gridcolor": "#EBF0F8",
           "linecolor": "#EBF0F8",
           "ticks": "",
           "title": {
            "standoff": 15
           },
           "zerolinecolor": "#EBF0F8",
           "zerolinewidth": 2
          },
          "yaxis": {
           "automargin": true,
           "gridcolor": "#EBF0F8",
           "linecolor": "#EBF0F8",
           "ticks": "",
           "title": {
            "standoff": 15
           },
           "zerolinecolor": "#EBF0F8",
           "zerolinewidth": 2
          }
         }
        },
        "title": {
         "text": "Quick Test on Spain Teams data"
        },
        "xaxis": {
         "anchor": "y",
         "categoryarray": [
          "Real Madrid",
          "FC Barcelona",
          "Atlético Madrid",
          "Sevilla FC",
          "Valencia CF",
          "Real Betis",
          "Athletic Club de Bilbao",
          "Villarreal CF",
          "Real Sociedad",
          "RC Celta",
          "Girona FC",
          "SD Eibar",
          "Getafe CF",
          "RCD Espanyol",
          "Levante UD",
          "Deportivo Alavés",
          "CD Leganés",
          "Rayo Vallecano",
          "Real Valladolid CF",
          "SD Huesca"
         ],
         "categoryorder": "array",
         "domain": [
          0,
          1
         ],
         "title": {
          "text": "Name"
         }
        },
        "yaxis": {
         "anchor": "x",
         "domain": [
          0,
          1
         ],
         "title": {
          "text": "Transfer Budget"
         }
        }
       }
      },
      "text/html": [
       "<div>\n",
       "        \n",
       "        \n",
       "            <div id=\"d9410ecf-c860-4dbf-9daa-1c7f3dfbdb26\" class=\"plotly-graph-div\" style=\"height:525px; width:100%;\"></div>\n",
       "            <script type=\"text/javascript\">\n",
       "                require([\"plotly\"], function(Plotly) {\n",
       "                    window.PLOTLYENV=window.PLOTLYENV || {};\n",
       "                    \n",
       "                if (document.getElementById(\"d9410ecf-c860-4dbf-9daa-1c7f3dfbdb26\")) {\n",
       "                    Plotly.newPlot(\n",
       "                        'd9410ecf-c860-4dbf-9daa-1c7f3dfbdb26',\n",
       "                        [{\"customdata\": [[10, 33, 10]], \"hovertemplate\": \"Name=%{x}<br>Transfer Budget=%{y}<br>International Prestige=%{customdata[0]}<br>Players=%{customdata[1]}<br>Domestic Presstige=%{customdata[2]}<extra></extra>\", \"legendgroup\": \"Real Madrid\", \"marker\": {\"color\": \"#636efa\", \"symbol\": \"circle\"}, \"mode\": \"markers\", \"name\": \"Real Madrid\", \"showlegend\": true, \"type\": \"scatter\", \"x\": [\"Real Madrid\"], \"xaxis\": \"x\", \"y\": [188500000.0], \"yaxis\": \"y\"}, {\"customdata\": [[10, 33, 10]], \"hovertemplate\": \"Name=%{x}<br>Transfer Budget=%{y}<br>International Prestige=%{customdata[0]}<br>Players=%{customdata[1]}<br>Domestic Presstige=%{customdata[2]}<extra></extra>\", \"legendgroup\": \"FC Barcelona\", \"marker\": {\"color\": \"#EF553B\", \"symbol\": \"circle\"}, \"mode\": \"markers\", \"name\": \"FC Barcelona\", \"showlegend\": true, \"type\": \"scatter\", \"x\": [\"FC Barcelona\"], \"xaxis\": \"x\", \"y\": [187900000.0], \"yaxis\": \"y\"}, {\"customdata\": [[9, 33, 9]], \"hovertemplate\": \"Name=%{x}<br>Transfer Budget=%{y}<br>International Prestige=%{customdata[0]}<br>Players=%{customdata[1]}<br>Domestic Presstige=%{customdata[2]}<extra></extra>\", \"legendgroup\": \"Atl\\u00e9tico Madrid\", \"marker\": {\"color\": \"#00cc96\", \"symbol\": \"circle\"}, \"mode\": \"markers\", \"name\": \"Atl\\u00e9tico Madrid\", \"showlegend\": true, \"type\": \"scatter\", \"x\": [\"Atl\\u00e9tico Madrid\"], \"xaxis\": \"x\", \"y\": [68600000.0], \"yaxis\": \"y\"}, {\"customdata\": [[7, 33, 7]], \"hovertemplate\": \"Name=%{x}<br>Transfer Budget=%{y}<br>International Prestige=%{customdata[0]}<br>Players=%{customdata[1]}<br>Domestic Presstige=%{customdata[2]}<extra></extra>\", \"legendgroup\": \"Sevilla FC\", \"marker\": {\"color\": \"#ab63fa\", \"symbol\": \"circle\"}, \"mode\": \"markers\", \"name\": \"Sevilla FC\", \"showlegend\": true, \"type\": \"scatter\", \"x\": [\"Sevilla FC\"], \"xaxis\": \"x\", \"y\": [34500000.0], \"yaxis\": \"y\"}, {\"customdata\": [[6, 33, 8]], \"hovertemplate\": \"Name=%{x}<br>Transfer Budget=%{y}<br>International Prestige=%{customdata[0]}<br>Players=%{customdata[1]}<br>Domestic Presstige=%{customdata[2]}<extra></extra>\", \"legendgroup\": \"Valencia CF\", \"marker\": {\"color\": \"#FFA15A\", \"symbol\": \"circle\"}, \"mode\": \"markers\", \"name\": \"Valencia CF\", \"showlegend\": true, \"type\": \"scatter\", \"x\": [\"Valencia CF\"], \"xaxis\": \"x\", \"y\": [66300000.0], \"yaxis\": \"y\"}, {\"customdata\": [[2, 32, 5]], \"hovertemplate\": \"Name=%{x}<br>Transfer Budget=%{y}<br>International Prestige=%{customdata[0]}<br>Players=%{customdata[1]}<br>Domestic Presstige=%{customdata[2]}<extra></extra>\", \"legendgroup\": \"Real Betis\", \"marker\": {\"color\": \"#19d3f3\", \"symbol\": \"circle\"}, \"mode\": \"markers\", \"name\": \"Real Betis\", \"showlegend\": true, \"type\": \"scatter\", \"x\": [\"Real Betis\"], \"xaxis\": \"x\", \"y\": [16100000.000000002], \"yaxis\": \"y\"}, {\"customdata\": [[6, 33, 6]], \"hovertemplate\": \"Name=%{x}<br>Transfer Budget=%{y}<br>International Prestige=%{customdata[0]}<br>Players=%{customdata[1]}<br>Domestic Presstige=%{customdata[2]}<extra></extra>\", \"legendgroup\": \"Athletic Club de Bilbao\", \"marker\": {\"color\": \"#FF6692\", \"symbol\": \"circle\"}, \"mode\": \"markers\", \"name\": \"Athletic Club de Bilbao\", \"showlegend\": true, \"type\": \"scatter\", \"x\": [\"Athletic Club de Bilbao\"], \"xaxis\": \"x\", \"y\": [18500000.0], \"yaxis\": \"y\"}, {\"customdata\": [[7, 33, 8]], \"hovertemplate\": \"Name=%{x}<br>Transfer Budget=%{y}<br>International Prestige=%{customdata[0]}<br>Players=%{customdata[1]}<br>Domestic Presstige=%{customdata[2]}<extra></extra>\", \"legendgroup\": \"Villarreal CF\", \"marker\": {\"color\": \"#B6E880\", \"symbol\": \"circle\"}, \"mode\": \"markers\", \"name\": \"Villarreal CF\", \"showlegend\": true, \"type\": \"scatter\", \"x\": [\"Villarreal CF\"], \"xaxis\": \"x\", \"y\": [32900000.0], \"yaxis\": \"y\"}, {\"customdata\": [[3, 33, 5]], \"hovertemplate\": \"Name=%{x}<br>Transfer Budget=%{y}<br>International Prestige=%{customdata[0]}<br>Players=%{customdata[1]}<br>Domestic Presstige=%{customdata[2]}<extra></extra>\", \"legendgroup\": \"Real Sociedad\", \"marker\": {\"color\": \"#FF97FF\", \"symbol\": \"circle\"}, \"mode\": \"markers\", \"name\": \"Real Sociedad\", \"showlegend\": true, \"type\": \"scatter\", \"x\": [\"Real Sociedad\"], \"xaxis\": \"x\", \"y\": [15800000.0], \"yaxis\": \"y\"}, {\"customdata\": [[4, 33, 5]], \"hovertemplate\": \"Name=%{x}<br>Transfer Budget=%{y}<br>International Prestige=%{customdata[0]}<br>Players=%{customdata[1]}<br>Domestic Presstige=%{customdata[2]}<extra></extra>\", \"legendgroup\": \"RC Celta\", \"marker\": {\"color\": \"#FECB52\", \"symbol\": \"circle\"}, \"mode\": \"markers\", \"name\": \"RC Celta\", \"showlegend\": true, \"type\": \"scatter\", \"x\": [\"RC Celta\"], \"xaxis\": \"x\", \"y\": [11800000.0], \"yaxis\": \"y\"}, {\"customdata\": [[1, 33, 4]], \"hovertemplate\": \"Name=%{x}<br>Transfer Budget=%{y}<br>International Prestige=%{customdata[0]}<br>Players=%{customdata[1]}<br>Domestic Presstige=%{customdata[2]}<extra></extra>\", \"legendgroup\": \"Girona FC\", \"marker\": {\"color\": \"#636efa\", \"symbol\": \"circle\"}, \"mode\": \"markers\", \"name\": \"Girona FC\", \"showlegend\": true, \"type\": \"scatter\", \"x\": [\"Girona FC\"], \"xaxis\": \"x\", \"y\": [3900000.0], \"yaxis\": \"y\"}, {\"customdata\": [[1, 29, 4]], \"hovertemplate\": \"Name=%{x}<br>Transfer Budget=%{y}<br>International Prestige=%{customdata[0]}<br>Players=%{customdata[1]}<br>Domestic Presstige=%{customdata[2]}<extra></extra>\", \"legendgroup\": \"SD Eibar\", \"marker\": {\"color\": \"#EF553B\", \"symbol\": \"circle\"}, \"mode\": \"markers\", \"name\": \"SD Eibar\", \"showlegend\": true, \"type\": \"scatter\", \"x\": [\"SD Eibar\"], \"xaxis\": \"x\", \"y\": [5400000.0], \"yaxis\": \"y\"}, {\"customdata\": [[2, 28, 5]], \"hovertemplate\": \"Name=%{x}<br>Transfer Budget=%{y}<br>International Prestige=%{customdata[0]}<br>Players=%{customdata[1]}<br>Domestic Presstige=%{customdata[2]}<extra></extra>\", \"legendgroup\": \"Getafe CF\", \"marker\": {\"color\": \"#00cc96\", \"symbol\": \"circle\"}, \"mode\": \"markers\", \"name\": \"Getafe CF\", \"showlegend\": true, \"type\": \"scatter\", \"x\": [\"Getafe CF\"], \"xaxis\": \"x\", \"y\": [5400000.0], \"yaxis\": \"y\"}, {\"customdata\": [[2, 33, 5]], \"hovertemplate\": \"Name=%{x}<br>Transfer Budget=%{y}<br>International Prestige=%{customdata[0]}<br>Players=%{customdata[1]}<br>Domestic Presstige=%{customdata[2]}<extra></extra>\", \"legendgroup\": \"RCD Espanyol\", \"marker\": {\"color\": \"#ab63fa\", \"symbol\": \"circle\"}, \"mode\": \"markers\", \"name\": \"RCD Espanyol\", \"showlegend\": true, \"type\": \"scatter\", \"x\": [\"RCD Espanyol\"], \"xaxis\": \"x\", \"y\": [10400000.0], \"yaxis\": \"y\"}, {\"customdata\": [[1, 33, 3]], \"hovertemplate\": \"Name=%{x}<br>Transfer Budget=%{y}<br>International Prestige=%{customdata[0]}<br>Players=%{customdata[1]}<br>Domestic Presstige=%{customdata[2]}<extra></extra>\", \"legendgroup\": \"Levante UD\", \"marker\": {\"color\": \"#FFA15A\", \"symbol\": \"circle\"}, \"mode\": \"markers\", \"name\": \"Levante UD\", \"showlegend\": true, \"type\": \"scatter\", \"x\": [\"Levante UD\"], \"xaxis\": \"x\", \"y\": [8199999.999999999], \"yaxis\": \"y\"}, {\"customdata\": [[1, 27, 3]], \"hovertemplate\": \"Name=%{x}<br>Transfer Budget=%{y}<br>International Prestige=%{customdata[0]}<br>Players=%{customdata[1]}<br>Domestic Presstige=%{customdata[2]}<extra></extra>\", \"legendgroup\": \"Deportivo Alav\\u00e9s\", \"marker\": {\"color\": \"#19d3f3\", \"symbol\": \"circle\"}, \"mode\": \"markers\", \"name\": \"Deportivo Alav\\u00e9s\", \"showlegend\": true, \"type\": \"scatter\", \"x\": [\"Deportivo Alav\\u00e9s\"], \"xaxis\": \"x\", \"y\": [4400000.0], \"yaxis\": \"y\"}, {\"customdata\": [[1, 31, 4]], \"hovertemplate\": \"Name=%{x}<br>Transfer Budget=%{y}<br>International Prestige=%{customdata[0]}<br>Players=%{customdata[1]}<br>Domestic Presstige=%{customdata[2]}<extra></extra>\", \"legendgroup\": \"CD Legan\\u00e9s\", \"marker\": {\"color\": \"#FF6692\", \"symbol\": \"circle\"}, \"mode\": \"markers\", \"name\": \"CD Legan\\u00e9s\", \"showlegend\": true, \"type\": \"scatter\", \"x\": [\"CD Legan\\u00e9s\"], \"xaxis\": \"x\", \"y\": [4200000.0], \"yaxis\": \"y\"}, {\"customdata\": [[1, 33, 2]], \"hovertemplate\": \"Name=%{x}<br>Transfer Budget=%{y}<br>International Prestige=%{customdata[0]}<br>Players=%{customdata[1]}<br>Domestic Presstige=%{customdata[2]}<extra></extra>\", \"legendgroup\": \"Rayo Vallecano\", \"marker\": {\"color\": \"#B6E880\", \"symbol\": \"circle\"}, \"mode\": \"markers\", \"name\": \"Rayo Vallecano\", \"showlegend\": true, \"type\": \"scatter\", \"x\": [\"Rayo Vallecano\"], \"xaxis\": \"x\", \"y\": [3300000.0], \"yaxis\": \"y\"}, {\"customdata\": [[1, 33, 2]], \"hovertemplate\": \"Name=%{x}<br>Transfer Budget=%{y}<br>International Prestige=%{customdata[0]}<br>Players=%{customdata[1]}<br>Domestic Presstige=%{customdata[2]}<extra></extra>\", \"legendgroup\": \"Real Valladolid CF\", \"marker\": {\"color\": \"#FF97FF\", \"symbol\": \"circle\"}, \"mode\": \"markers\", \"name\": \"Real Valladolid CF\", \"showlegend\": true, \"type\": \"scatter\", \"x\": [\"Real Valladolid CF\"], \"xaxis\": \"x\", \"y\": [3100000.0], \"yaxis\": \"y\"}, {\"customdata\": [[1, 31, 2]], \"hovertemplate\": \"Name=%{x}<br>Transfer Budget=%{y}<br>International Prestige=%{customdata[0]}<br>Players=%{customdata[1]}<br>Domestic Presstige=%{customdata[2]}<extra></extra>\", \"legendgroup\": \"SD Huesca\", \"marker\": {\"color\": \"#FECB52\", \"symbol\": \"circle\"}, \"mode\": \"markers\", \"name\": \"SD Huesca\", \"showlegend\": true, \"type\": \"scatter\", \"x\": [\"SD Huesca\"], \"xaxis\": \"x\", \"y\": [2100000.0], \"yaxis\": \"y\"}],\n",
       "                        {\"legend\": {\"title\": {\"text\": \"Name\"}, \"tracegroupgap\": 0}, \"margin\": {\"t\": 60}, \"template\": {\"data\": {\"bar\": [{\"error_x\": {\"color\": \"#2a3f5f\"}, \"error_y\": {\"color\": \"#2a3f5f\"}, \"marker\": {\"line\": {\"color\": \"white\", \"width\": 0.5}}, \"type\": \"bar\"}], \"barpolar\": [{\"marker\": {\"line\": {\"color\": \"white\", \"width\": 0.5}}, \"type\": \"barpolar\"}], \"carpet\": [{\"aaxis\": {\"endlinecolor\": \"#2a3f5f\", \"gridcolor\": \"#C8D4E3\", \"linecolor\": \"#C8D4E3\", \"minorgridcolor\": \"#C8D4E3\", \"startlinecolor\": \"#2a3f5f\"}, \"baxis\": {\"endlinecolor\": \"#2a3f5f\", \"gridcolor\": \"#C8D4E3\", \"linecolor\": \"#C8D4E3\", \"minorgridcolor\": \"#C8D4E3\", \"startlinecolor\": \"#2a3f5f\"}, \"type\": \"carpet\"}], \"choropleth\": [{\"colorbar\": {\"outlinewidth\": 0, \"ticks\": \"\"}, \"type\": \"choropleth\"}], \"contour\": [{\"colorbar\": {\"outlinewidth\": 0, \"ticks\": \"\"}, \"colorscale\": [[0.0, \"#0d0887\"], [0.1111111111111111, \"#46039f\"], [0.2222222222222222, \"#7201a8\"], [0.3333333333333333, \"#9c179e\"], [0.4444444444444444, \"#bd3786\"], [0.5555555555555556, \"#d8576b\"], [0.6666666666666666, \"#ed7953\"], [0.7777777777777778, \"#fb9f3a\"], [0.8888888888888888, \"#fdca26\"], [1.0, \"#f0f921\"]], \"type\": \"contour\"}], \"contourcarpet\": [{\"colorbar\": {\"outlinewidth\": 0, \"ticks\": \"\"}, \"type\": \"contourcarpet\"}], \"heatmap\": [{\"colorbar\": {\"outlinewidth\": 0, \"ticks\": \"\"}, \"colorscale\": [[0.0, \"#0d0887\"], [0.1111111111111111, \"#46039f\"], [0.2222222222222222, \"#7201a8\"], [0.3333333333333333, \"#9c179e\"], [0.4444444444444444, \"#bd3786\"], [0.5555555555555556, \"#d8576b\"], [0.6666666666666666, \"#ed7953\"], [0.7777777777777778, \"#fb9f3a\"], [0.8888888888888888, \"#fdca26\"], [1.0, \"#f0f921\"]], \"type\": \"heatmap\"}], \"heatmapgl\": [{\"colorbar\": {\"outlinewidth\": 0, \"ticks\": \"\"}, \"colorscale\": [[0.0, \"#0d0887\"], [0.1111111111111111, \"#46039f\"], [0.2222222222222222, \"#7201a8\"], [0.3333333333333333, \"#9c179e\"], [0.4444444444444444, \"#bd3786\"], [0.5555555555555556, \"#d8576b\"], [0.6666666666666666, \"#ed7953\"], [0.7777777777777778, \"#fb9f3a\"], [0.8888888888888888, \"#fdca26\"], [1.0, \"#f0f921\"]], \"type\": \"heatmapgl\"}], \"histogram\": [{\"marker\": {\"colorbar\": {\"outlinewidth\": 0, \"ticks\": \"\"}}, \"type\": \"histogram\"}], \"histogram2d\": [{\"colorbar\": {\"outlinewidth\": 0, \"ticks\": \"\"}, \"colorscale\": [[0.0, \"#0d0887\"], [0.1111111111111111, \"#46039f\"], [0.2222222222222222, \"#7201a8\"], [0.3333333333333333, \"#9c179e\"], [0.4444444444444444, \"#bd3786\"], [0.5555555555555556, \"#d8576b\"], [0.6666666666666666, \"#ed7953\"], [0.7777777777777778, \"#fb9f3a\"], [0.8888888888888888, \"#fdca26\"], [1.0, \"#f0f921\"]], \"type\": \"histogram2d\"}], \"histogram2dcontour\": [{\"colorbar\": {\"outlinewidth\": 0, \"ticks\": \"\"}, \"colorscale\": [[0.0, \"#0d0887\"], [0.1111111111111111, \"#46039f\"], [0.2222222222222222, \"#7201a8\"], [0.3333333333333333, \"#9c179e\"], [0.4444444444444444, \"#bd3786\"], [0.5555555555555556, \"#d8576b\"], [0.6666666666666666, \"#ed7953\"], [0.7777777777777778, \"#fb9f3a\"], [0.8888888888888888, \"#fdca26\"], [1.0, \"#f0f921\"]], \"type\": \"histogram2dcontour\"}], \"mesh3d\": [{\"colorbar\": {\"outlinewidth\": 0, \"ticks\": \"\"}, \"type\": \"mesh3d\"}], \"parcoords\": [{\"line\": {\"colorbar\": {\"outlinewidth\": 0, \"ticks\": \"\"}}, \"type\": \"parcoords\"}], \"pie\": [{\"automargin\": true, \"type\": \"pie\"}], \"scatter\": [{\"marker\": {\"colorbar\": {\"outlinewidth\": 0, \"ticks\": \"\"}}, \"type\": \"scatter\"}], \"scatter3d\": [{\"line\": {\"colorbar\": {\"outlinewidth\": 0, \"ticks\": \"\"}}, \"marker\": {\"colorbar\": {\"outlinewidth\": 0, \"ticks\": \"\"}}, \"type\": \"scatter3d\"}], \"scattercarpet\": [{\"marker\": {\"colorbar\": {\"outlinewidth\": 0, \"ticks\": \"\"}}, \"type\": \"scattercarpet\"}], \"scattergeo\": [{\"marker\": {\"colorbar\": {\"outlinewidth\": 0, \"ticks\": \"\"}}, \"type\": \"scattergeo\"}], \"scattergl\": [{\"marker\": {\"colorbar\": {\"outlinewidth\": 0, \"ticks\": \"\"}}, \"type\": \"scattergl\"}], \"scattermapbox\": [{\"marker\": {\"colorbar\": {\"outlinewidth\": 0, \"ticks\": \"\"}}, \"type\": \"scattermapbox\"}], \"scatterpolar\": [{\"marker\": {\"colorbar\": {\"outlinewidth\": 0, \"ticks\": \"\"}}, \"type\": \"scatterpolar\"}], \"scatterpolargl\": [{\"marker\": {\"colorbar\": {\"outlinewidth\": 0, \"ticks\": \"\"}}, \"type\": \"scatterpolargl\"}], \"scatterternary\": [{\"marker\": {\"colorbar\": {\"outlinewidth\": 0, \"ticks\": \"\"}}, \"type\": \"scatterternary\"}], \"surface\": [{\"colorbar\": {\"outlinewidth\": 0, \"ticks\": \"\"}, \"colorscale\": [[0.0, \"#0d0887\"], [0.1111111111111111, \"#46039f\"], [0.2222222222222222, \"#7201a8\"], [0.3333333333333333, \"#9c179e\"], [0.4444444444444444, \"#bd3786\"], [0.5555555555555556, \"#d8576b\"], [0.6666666666666666, \"#ed7953\"], [0.7777777777777778, \"#fb9f3a\"], [0.8888888888888888, \"#fdca26\"], [1.0, \"#f0f921\"]], \"type\": \"surface\"}], \"table\": [{\"cells\": {\"fill\": {\"color\": \"#EBF0F8\"}, \"line\": {\"color\": \"white\"}}, \"header\": {\"fill\": {\"color\": \"#C8D4E3\"}, \"line\": {\"color\": \"white\"}}, \"type\": \"table\"}]}, \"layout\": {\"annotationdefaults\": {\"arrowcolor\": \"#2a3f5f\", \"arrowhead\": 0, \"arrowwidth\": 1}, \"coloraxis\": {\"colorbar\": {\"outlinewidth\": 0, \"ticks\": \"\"}}, \"colorscale\": {\"diverging\": [[0, \"#8e0152\"], [0.1, \"#c51b7d\"], [0.2, \"#de77ae\"], [0.3, \"#f1b6da\"], [0.4, \"#fde0ef\"], [0.5, \"#f7f7f7\"], [0.6, \"#e6f5d0\"], [0.7, \"#b8e186\"], [0.8, \"#7fbc41\"], [0.9, \"#4d9221\"], [1, \"#276419\"]], \"sequential\": [[0.0, \"#0d0887\"], [0.1111111111111111, \"#46039f\"], [0.2222222222222222, \"#7201a8\"], [0.3333333333333333, \"#9c179e\"], [0.4444444444444444, \"#bd3786\"], [0.5555555555555556, \"#d8576b\"], [0.6666666666666666, \"#ed7953\"], [0.7777777777777778, \"#fb9f3a\"], [0.8888888888888888, \"#fdca26\"], [1.0, \"#f0f921\"]], \"sequentialminus\": [[0.0, \"#0d0887\"], [0.1111111111111111, \"#46039f\"], [0.2222222222222222, \"#7201a8\"], [0.3333333333333333, \"#9c179e\"], [0.4444444444444444, \"#bd3786\"], [0.5555555555555556, \"#d8576b\"], [0.6666666666666666, \"#ed7953\"], [0.7777777777777778, \"#fb9f3a\"], [0.8888888888888888, \"#fdca26\"], [1.0, \"#f0f921\"]]}, \"colorway\": [\"#636efa\", \"#EF553B\", \"#00cc96\", \"#ab63fa\", \"#FFA15A\", \"#19d3f3\", \"#FF6692\", \"#B6E880\", \"#FF97FF\", \"#FECB52\"], \"font\": {\"color\": \"#2a3f5f\"}, \"geo\": {\"bgcolor\": \"white\", \"lakecolor\": \"white\", \"landcolor\": \"white\", \"showlakes\": true, \"showland\": true, \"subunitcolor\": \"#C8D4E3\"}, \"hoverlabel\": {\"align\": \"left\"}, \"hovermode\": \"closest\", \"mapbox\": {\"style\": \"light\"}, \"paper_bgcolor\": \"white\", \"plot_bgcolor\": \"white\", \"polar\": {\"angularaxis\": {\"gridcolor\": \"#EBF0F8\", \"linecolor\": \"#EBF0F8\", \"ticks\": \"\"}, \"bgcolor\": \"white\", \"radialaxis\": {\"gridcolor\": \"#EBF0F8\", \"linecolor\": \"#EBF0F8\", \"ticks\": \"\"}}, \"scene\": {\"xaxis\": {\"backgroundcolor\": \"white\", \"gridcolor\": \"#DFE8F3\", \"gridwidth\": 2, \"linecolor\": \"#EBF0F8\", \"showbackground\": true, \"ticks\": \"\", \"zerolinecolor\": \"#EBF0F8\"}, \"yaxis\": {\"backgroundcolor\": \"white\", \"gridcolor\": \"#DFE8F3\", \"gridwidth\": 2, \"linecolor\": \"#EBF0F8\", \"showbackground\": true, \"ticks\": \"\", \"zerolinecolor\": \"#EBF0F8\"}, \"zaxis\": {\"backgroundcolor\": \"white\", \"gridcolor\": \"#DFE8F3\", \"gridwidth\": 2, \"linecolor\": \"#EBF0F8\", \"showbackground\": true, \"ticks\": \"\", \"zerolinecolor\": \"#EBF0F8\"}}, \"shapedefaults\": {\"line\": {\"color\": \"#2a3f5f\"}}, \"ternary\": {\"aaxis\": {\"gridcolor\": \"#DFE8F3\", \"linecolor\": \"#A2B1C6\", \"ticks\": \"\"}, \"baxis\": {\"gridcolor\": \"#DFE8F3\", \"linecolor\": \"#A2B1C6\", \"ticks\": \"\"}, \"bgcolor\": \"white\", \"caxis\": {\"gridcolor\": \"#DFE8F3\", \"linecolor\": \"#A2B1C6\", \"ticks\": \"\"}}, \"title\": {\"x\": 0.05}, \"xaxis\": {\"automargin\": true, \"gridcolor\": \"#EBF0F8\", \"linecolor\": \"#EBF0F8\", \"ticks\": \"\", \"title\": {\"standoff\": 15}, \"zerolinecolor\": \"#EBF0F8\", \"zerolinewidth\": 2}, \"yaxis\": {\"automargin\": true, \"gridcolor\": \"#EBF0F8\", \"linecolor\": \"#EBF0F8\", \"ticks\": \"\", \"title\": {\"standoff\": 15}, \"zerolinecolor\": \"#EBF0F8\", \"zerolinewidth\": 2}}}, \"title\": {\"text\": \"Quick Test on Spain Teams data\"}, \"xaxis\": {\"anchor\": \"y\", \"categoryarray\": [\"Real Madrid\", \"FC Barcelona\", \"Atl\\u00e9tico Madrid\", \"Sevilla FC\", \"Valencia CF\", \"Real Betis\", \"Athletic Club de Bilbao\", \"Villarreal CF\", \"Real Sociedad\", \"RC Celta\", \"Girona FC\", \"SD Eibar\", \"Getafe CF\", \"RCD Espanyol\", \"Levante UD\", \"Deportivo Alav\\u00e9s\", \"CD Legan\\u00e9s\", \"Rayo Vallecano\", \"Real Valladolid CF\", \"SD Huesca\"], \"categoryorder\": \"array\", \"domain\": [0.0, 1.0], \"title\": {\"text\": \"Name\"}}, \"yaxis\": {\"anchor\": \"x\", \"domain\": [0.0, 1.0], \"title\": {\"text\": \"Transfer Budget\"}}},\n",
       "                        {\"responsive\": true}\n",
       "                    ).then(function(){\n",
       "                            \n",
       "var gd = document.getElementById('d9410ecf-c860-4dbf-9daa-1c7f3dfbdb26');\n",
       "var x = new MutationObserver(function (mutations, observer) {{\n",
       "        var display = window.getComputedStyle(gd).display;\n",
       "        if (!display || display === 'none') {{\n",
       "            console.log([gd, 'removed!']);\n",
       "            Plotly.purge(gd);\n",
       "            observer.disconnect();\n",
       "        }}\n",
       "}});\n",
       "\n",
       "// Listen for the removal of the full notebook cells\n",
       "var notebookContainer = gd.closest('#notebook-container');\n",
       "if (notebookContainer) {{\n",
       "    x.observe(notebookContainer, {childList: true});\n",
       "}}\n",
       "\n",
       "// Listen for the clearing of the current output cell\n",
       "var outputEl = gd.closest('.output');\n",
       "if (outputEl) {{\n",
       "    x.observe(outputEl, {childList: true});\n",
       "}}\n",
       "\n",
       "                        })\n",
       "                };\n",
       "                });\n",
       "            </script>\n",
       "        </div>"
      ]
     },
     "metadata": {},
     "output_type": "display_data"
    }
   ],
   "source": [
    "fig = px.scatter(df_teams[df_teams['Country'] == \"Spain\"], \n",
    "                 x='Name', y='Transfer Budget'\n",
    "                 , hover_data=['International Prestige', 'Players', 'Domestic Presstige']\n",
    "                 ,color= 'Name')\n",
    "fig.update_layout(template='plotly_white', title='Quick Test on Spain Teams data');\n",
    "fig.show()"
   ]
  },
  {
   "cell_type": "code",
   "execution_count": 16,
   "metadata": {},
   "outputs": [],
   "source": [
    "pio.write_html(fig, file='../index.html', auto_open=True)"
   ]
  },
  {
   "cell_type": "markdown",
   "metadata": {},
   "source": [
    "tls.get_embed('https://atidiane.github.io/covid-19-guinea/')"
   ]
  }
 ],
 "metadata": {
  "kernelspec": {
   "display_name": "Python 3",
   "language": "python",
   "name": "python3"
  },
  "language_info": {
   "codemirror_mode": {
    "name": "ipython",
    "version": 3
   },
   "file_extension": ".py",
   "mimetype": "text/x-python",
   "name": "python",
   "nbconvert_exporter": "python",
   "pygments_lexer": "ipython3",
   "version": "3.5.2"
  },
  "toc": {
   "base_numbering": 1,
   "nav_menu": {},
   "number_sections": true,
   "sideBar": true,
   "skip_h1_title": false,
   "title_cell": "Table of Contents",
   "title_sidebar": "Contents",
   "toc_cell": false,
   "toc_position": {},
   "toc_section_display": true,
   "toc_window_display": false
  },
  "varInspector": {
   "cols": {
    "lenName": 16,
    "lenType": 16,
    "lenVar": 40
   },
   "kernels_config": {
    "python": {
     "delete_cmd_postfix": "",
     "delete_cmd_prefix": "del ",
     "library": "var_list.py",
     "varRefreshCmd": "print(var_dic_list())"
    },
    "r": {
     "delete_cmd_postfix": ") ",
     "delete_cmd_prefix": "rm(",
     "library": "var_list.r",
     "varRefreshCmd": "cat(var_dic_list()) "
    }
   },
   "types_to_exclude": [
    "module",
    "function",
    "builtin_function_or_method",
    "instance",
    "_Feature"
   ],
   "window_display": false
  }
 },
 "nbformat": 4,
 "nbformat_minor": 2
}
