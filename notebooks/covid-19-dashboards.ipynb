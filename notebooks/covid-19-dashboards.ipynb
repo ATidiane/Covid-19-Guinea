{
 "cells": [
  {
   "cell_type": "markdown",
   "metadata": {},
   "source": [
    "# Covid-19-Guinea"
   ]
  },
  {
   "cell_type": "markdown",
   "metadata": {},
   "source": [
    "Creating dashboards to follow the evolution of covid-19 in Guinea. These dashboards will idealy be hosted to Github Pages and integrated to a wordpress website named : www.moucoronakhaninma.com. "
   ]
  },
  {
   "cell_type": "markdown",
   "metadata": {},
   "source": [
    "## Imports"
   ]
  },
  {
   "cell_type": "markdown",
   "metadata": {},
   "source": [
    "### Sys and Python"
   ]
  },
  {
   "cell_type": "code",
   "execution_count": 59,
   "metadata": {},
   "outputs": [],
   "source": [
    "import sys\n",
    "import os\n",
    "\n",
    "import warnings\n",
    "warnings.filterwarnings('ignore')\n",
    "\n",
    "from IPython.display import display, HTML\n",
    "from IPython.core.interactiveshell import InteractiveShell\n",
    "InteractiveShell.ast_node_interactivity = \"all\"\n",
    "\n",
    "import datetime\n",
    "import git\n",
    "import glob\n",
    "import numpy as np\n",
    "import pandas as pd\n",
    "import requests\n",
    "from bs4 import BeautifulSoup"
   ]
  },
  {
   "cell_type": "markdown",
   "metadata": {},
   "source": [
    "### Graphics"
   ]
  },
  {
   "cell_type": "code",
   "execution_count": 155,
   "metadata": {},
   "outputs": [
    {
     "data": {
      "text/html": [
       "        <script type=\"text/javascript\">\n",
       "        window.PlotlyConfig = {MathJaxConfig: 'local'};\n",
       "        if (window.MathJax) {MathJax.Hub.Config({SVG: {font: \"STIX-Web\"}});}\n",
       "        if (typeof require !== 'undefined') {\n",
       "        require.undef(\"plotly\");\n",
       "        requirejs.config({\n",
       "            paths: {\n",
       "                'plotly': ['https://cdn.plot.ly/plotly-latest.min']\n",
       "            }\n",
       "        });\n",
       "        require(['plotly'], function(Plotly) {\n",
       "            window._Plotly = Plotly;\n",
       "        });\n",
       "        }\n",
       "        </script>\n",
       "        "
      ]
     },
     "metadata": {},
     "output_type": "display_data"
    }
   ],
   "source": [
    "%matplotlib inline\n",
    "\n",
    "import cufflinks as cf\n",
    "import matplotlib.pyplot as plt\n",
    "import seaborn as sns; sns.set()\n",
    "import plotly as py\n",
    "import plotly.express as px\n",
    "import plotly.io as pio\n",
    "import plotly.tools as tls\n",
    "from plotly.offline import iplot, init_notebook_mode\n",
    "init_notebook_mode(connected=True)\n",
    "import plotly.graph_objs as go\n",
    "from plotly.graph_objs import graph_objs"
   ]
  },
  {
   "cell_type": "markdown",
   "metadata": {},
   "source": [
    "### Source files"
   ]
  },
  {
   "cell_type": "code",
   "execution_count": 4,
   "metadata": {},
   "outputs": [],
   "source": [
    "%load_ext autoreload\n",
    "%autoreload 2"
   ]
  },
  {
   "cell_type": "markdown",
   "metadata": {},
   "source": [
    "- Global variables"
   ]
  },
  {
   "cell_type": "code",
   "execution_count": 61,
   "metadata": {},
   "outputs": [],
   "source": [
    "COVID_19_DATA_PATH = '../../COVID-19/'\n",
    "DAILY_REPORTS_PATH = COVID_19_DATA+'csse_covid_19_data/csse_covid_19_daily_reports/'\n",
    "GUINEA_COVID_19_START_DATE = '03-13-2020'\n",
    "ANSS_URL = 'https://anss-guinee.org'"
   ]
  },
  {
   "cell_type": "markdown",
   "metadata": {},
   "source": [
    "## Scraping ANSS"
   ]
  },
  {
   "cell_type": "markdown",
   "metadata": {},
   "source": [
    "This way, we will run a script to automatically get the updated data of covid-19 evolution each day from the ANSS website."
   ]
  },
  {
   "cell_type": "code",
   "execution_count": 209,
   "metadata": {},
   "outputs": [],
   "source": [
    "source_code = requests.get(ANSS_URL)\n",
    "plain_text = source_code.text\n",
    "soup = BeautifulSoup(plain_text, 'html.parser')\n",
    "data = soup.findAll('span', attrs={'class':'count-text'})\n",
    "confirmed = int(data[0].attrs['data-stop'])\n",
    "death = int(data[1].attrs['data-stop'])\n",
    "healed = int(data[2].attrs['data-stop'])\n",
    "new_line = [confirmed, death, healed]"
   ]
  },
  {
   "cell_type": "markdown",
   "metadata": {},
   "source": [
    "## Getting historic data from Covid-19 github repo"
   ]
  },
  {
   "cell_type": "code",
   "execution_count": 5,
   "metadata": {},
   "outputs": [
    {
     "data": {
      "text/plain": [
       "[<git.remote.FetchInfo at 0x11fa01ef8>,\n",
       " <git.remote.FetchInfo at 0x11fa01a48>,\n",
       " <git.remote.FetchInfo at 0x11fa1d318>]"
      ]
     },
     "execution_count": 5,
     "metadata": {},
     "output_type": "execute_result"
    }
   ],
   "source": [
    "repo = git.Repo(COVID_19_DATA_PATH)\n",
    "repo.remotes.origin.pull()"
   ]
  },
  {
   "cell_type": "code",
   "execution_count": 29,
   "metadata": {},
   "outputs": [],
   "source": [
    "files = glob.glob(DAILY_REPORTS_PATH+'*.csv')\n",
    "files.sort(key=os.path.getmtime)\n",
    "index_start = files.index(DAILY_REPORTS_PATH+GUINEA_COVID_19_START_DATE+'.csv')\n",
    "files = files[index_start:]"
   ]
  },
  {
   "cell_type": "code",
   "execution_count": 56,
   "metadata": {},
   "outputs": [
    {
     "data": {
      "text/plain": [
       "Index(['Province/State', 'Country/Region', 'Last Update', 'Confirmed',\n",
       "       'Deaths', 'Recovered', 'Latitude', 'Longitude'],\n",
       "      dtype='object')"
      ]
     },
     "execution_count": 56,
     "metadata": {},
     "output_type": "execute_result"
    }
   ],
   "source": [
    "pd.read_csv(files[0]).columns"
   ]
  },
  {
   "cell_type": "code",
   "execution_count": 57,
   "metadata": {},
   "outputs": [
    {
     "data": {
      "text/plain": [
       "Index(['FIPS', 'Admin2', 'Province_State', 'Country_Region', 'Last_Update',\n",
       "       'Lat', 'Long_', 'Confirmed', 'Deaths', 'Recovered', 'Active',\n",
       "       'Combined_Key'],\n",
       "      dtype='object')"
      ]
     },
     "execution_count": 57,
     "metadata": {},
     "output_type": "execute_result"
    }
   ],
   "source": [
    "pd.read_csv(files[-1]).columns"
   ]
  },
  {
   "cell_type": "code",
   "execution_count": 157,
   "metadata": {},
   "outputs": [],
   "source": [
    "columns = ['Date', 'Cas confirmés', 'Décès', 'Guéris']\n",
    "df_guinea = pd.DataFrame(columns=columns)"
   ]
  },
  {
   "cell_type": "code",
   "execution_count": 158,
   "metadata": {},
   "outputs": [],
   "source": [
    "for f in files:\n",
    "    df = pd.read_csv(f)\n",
    "    date = f.split('/')[-1].split('.')[0]\n",
    "    date = datetime.datetime.strptime(date, '%m-%d-%Y').strftime(\"%d-%m-%Y\")\n",
    "    try:\n",
    "        cases = df[df['Country_Region'] == 'Guinea'].values[0][7:10]\n",
    "    except:\n",
    "        cases = df[df['Country/Region'] == 'Guinea'].values[0][3:6]\n",
    "    \n",
    "    line = list(cases)\n",
    "    #datetime.datetime.strptime(date, '%d-%m-%Y').date()\n",
    "    line.insert(0, date)\n",
    "    df_guinea = df_guinea.append(pd.DataFrame(line, index=columns).T)\n",
    "    df_guinea.index = range(len(df_guinea))"
   ]
  },
  {
   "cell_type": "code",
   "execution_count": 159,
   "metadata": {},
   "outputs": [],
   "source": [
    "df_guinea['Cas hospitalisés'] = df_guinea['Cas confirmés'] - df_guinea['Décès'] - df_guinea['Guéris']"
   ]
  },
  {
   "cell_type": "code",
   "execution_count": 160,
   "metadata": {},
   "outputs": [],
   "source": [
    "df_guinea['Nouveaux cas'] = 0\n",
    "df_guinea['Nouveaux décès'] = 0\n",
    "df_guinea['Nouveaux guéris'] = 0\n",
    "df_guinea.iloc[0, 5] = df_guinea.iloc[0, 1]\n",
    "df_guinea.iloc[1:, 5] = df_guinea.iloc[1:, 1] - df_guinea.iloc[0:-1, 1].values\n",
    "df_guinea.iloc[1:, 6] = df_guinea.iloc[1:, 2] - df_guinea.iloc[0:-1, 2].values\n",
    "df_guinea.iloc[1:, 7] = df_guinea.iloc[1:, 3] - df_guinea.iloc[0:-1, 3].values"
   ]
  },
  {
   "cell_type": "code",
   "execution_count": 192,
   "metadata": {},
   "outputs": [
    {
     "data": {
      "text/html": [
       "<div>\n",
       "<style scoped>\n",
       "    .dataframe tbody tr th:only-of-type {\n",
       "        vertical-align: middle;\n",
       "    }\n",
       "\n",
       "    .dataframe tbody tr th {\n",
       "        vertical-align: top;\n",
       "    }\n",
       "\n",
       "    .dataframe thead th {\n",
       "        text-align: right;\n",
       "    }\n",
       "</style>\n",
       "<table border=\"1\" class=\"dataframe\">\n",
       "  <thead>\n",
       "    <tr style=\"text-align: right;\">\n",
       "      <th></th>\n",
       "      <th>Date</th>\n",
       "      <th>Cas confirmés</th>\n",
       "      <th>Décès</th>\n",
       "      <th>Guéris</th>\n",
       "      <th>Cas hospitalisés</th>\n",
       "      <th>Nouveaux cas</th>\n",
       "      <th>Nouveaux décès</th>\n",
       "      <th>Nouveaux guéris</th>\n",
       "    </tr>\n",
       "  </thead>\n",
       "  <tbody>\n",
       "    <tr>\n",
       "      <th>0</th>\n",
       "      <td>13-03-2020</td>\n",
       "      <td>1</td>\n",
       "      <td>0</td>\n",
       "      <td>0</td>\n",
       "      <td>1</td>\n",
       "      <td>1</td>\n",
       "      <td>0</td>\n",
       "      <td>0</td>\n",
       "    </tr>\n",
       "    <tr>\n",
       "      <th>1</th>\n",
       "      <td>14-03-2020</td>\n",
       "      <td>1</td>\n",
       "      <td>0</td>\n",
       "      <td>0</td>\n",
       "      <td>1</td>\n",
       "      <td>0</td>\n",
       "      <td>0</td>\n",
       "      <td>0</td>\n",
       "    </tr>\n",
       "    <tr>\n",
       "      <th>2</th>\n",
       "      <td>15-03-2020</td>\n",
       "      <td>1</td>\n",
       "      <td>0</td>\n",
       "      <td>0</td>\n",
       "      <td>1</td>\n",
       "      <td>0</td>\n",
       "      <td>0</td>\n",
       "      <td>0</td>\n",
       "    </tr>\n",
       "    <tr>\n",
       "      <th>3</th>\n",
       "      <td>16-03-2020</td>\n",
       "      <td>1</td>\n",
       "      <td>0</td>\n",
       "      <td>0</td>\n",
       "      <td>1</td>\n",
       "      <td>0</td>\n",
       "      <td>0</td>\n",
       "      <td>0</td>\n",
       "    </tr>\n",
       "    <tr>\n",
       "      <th>4</th>\n",
       "      <td>17-03-2020</td>\n",
       "      <td>1</td>\n",
       "      <td>0</td>\n",
       "      <td>0</td>\n",
       "      <td>1</td>\n",
       "      <td>0</td>\n",
       "      <td>0</td>\n",
       "      <td>0</td>\n",
       "    </tr>\n",
       "    <tr>\n",
       "      <th>5</th>\n",
       "      <td>18-03-2020</td>\n",
       "      <td>1</td>\n",
       "      <td>0</td>\n",
       "      <td>0</td>\n",
       "      <td>1</td>\n",
       "      <td>0</td>\n",
       "      <td>0</td>\n",
       "      <td>0</td>\n",
       "    </tr>\n",
       "    <tr>\n",
       "      <th>6</th>\n",
       "      <td>19-03-2020</td>\n",
       "      <td>1</td>\n",
       "      <td>0</td>\n",
       "      <td>0</td>\n",
       "      <td>1</td>\n",
       "      <td>0</td>\n",
       "      <td>0</td>\n",
       "      <td>0</td>\n",
       "    </tr>\n",
       "    <tr>\n",
       "      <th>7</th>\n",
       "      <td>20-03-2020</td>\n",
       "      <td>1</td>\n",
       "      <td>0</td>\n",
       "      <td>0</td>\n",
       "      <td>1</td>\n",
       "      <td>0</td>\n",
       "      <td>0</td>\n",
       "      <td>0</td>\n",
       "    </tr>\n",
       "    <tr>\n",
       "      <th>8</th>\n",
       "      <td>21-03-2020</td>\n",
       "      <td>2</td>\n",
       "      <td>0</td>\n",
       "      <td>0</td>\n",
       "      <td>2</td>\n",
       "      <td>1</td>\n",
       "      <td>0</td>\n",
       "      <td>0</td>\n",
       "    </tr>\n",
       "    <tr>\n",
       "      <th>9</th>\n",
       "      <td>22-03-2020</td>\n",
       "      <td>2</td>\n",
       "      <td>0</td>\n",
       "      <td>0</td>\n",
       "      <td>2</td>\n",
       "      <td>0</td>\n",
       "      <td>0</td>\n",
       "      <td>0</td>\n",
       "    </tr>\n",
       "    <tr>\n",
       "      <th>10</th>\n",
       "      <td>23-03-2020</td>\n",
       "      <td>4</td>\n",
       "      <td>0</td>\n",
       "      <td>0</td>\n",
       "      <td>4</td>\n",
       "      <td>2</td>\n",
       "      <td>0</td>\n",
       "      <td>0</td>\n",
       "    </tr>\n",
       "    <tr>\n",
       "      <th>11</th>\n",
       "      <td>24-03-2020</td>\n",
       "      <td>4</td>\n",
       "      <td>0</td>\n",
       "      <td>0</td>\n",
       "      <td>4</td>\n",
       "      <td>0</td>\n",
       "      <td>0</td>\n",
       "      <td>0</td>\n",
       "    </tr>\n",
       "    <tr>\n",
       "      <th>12</th>\n",
       "      <td>25-03-2020</td>\n",
       "      <td>4</td>\n",
       "      <td>0</td>\n",
       "      <td>0</td>\n",
       "      <td>4</td>\n",
       "      <td>0</td>\n",
       "      <td>0</td>\n",
       "      <td>0</td>\n",
       "    </tr>\n",
       "    <tr>\n",
       "      <th>13</th>\n",
       "      <td>26-03-2020</td>\n",
       "      <td>4</td>\n",
       "      <td>0</td>\n",
       "      <td>0</td>\n",
       "      <td>4</td>\n",
       "      <td>0</td>\n",
       "      <td>0</td>\n",
       "      <td>0</td>\n",
       "    </tr>\n",
       "    <tr>\n",
       "      <th>14</th>\n",
       "      <td>27-03-2020</td>\n",
       "      <td>8</td>\n",
       "      <td>0</td>\n",
       "      <td>0</td>\n",
       "      <td>8</td>\n",
       "      <td>4</td>\n",
       "      <td>0</td>\n",
       "      <td>0</td>\n",
       "    </tr>\n",
       "    <tr>\n",
       "      <th>15</th>\n",
       "      <td>28-03-2020</td>\n",
       "      <td>8</td>\n",
       "      <td>0</td>\n",
       "      <td>0</td>\n",
       "      <td>8</td>\n",
       "      <td>0</td>\n",
       "      <td>0</td>\n",
       "      <td>0</td>\n",
       "    </tr>\n",
       "    <tr>\n",
       "      <th>16</th>\n",
       "      <td>29-03-2020</td>\n",
       "      <td>16</td>\n",
       "      <td>0</td>\n",
       "      <td>0</td>\n",
       "      <td>16</td>\n",
       "      <td>8</td>\n",
       "      <td>0</td>\n",
       "      <td>0</td>\n",
       "    </tr>\n",
       "    <tr>\n",
       "      <th>17</th>\n",
       "      <td>30-03-2020</td>\n",
       "      <td>22</td>\n",
       "      <td>0</td>\n",
       "      <td>0</td>\n",
       "      <td>22</td>\n",
       "      <td>6</td>\n",
       "      <td>0</td>\n",
       "      <td>0</td>\n",
       "    </tr>\n",
       "    <tr>\n",
       "      <th>18</th>\n",
       "      <td>31-03-2020</td>\n",
       "      <td>22</td>\n",
       "      <td>0</td>\n",
       "      <td>0</td>\n",
       "      <td>22</td>\n",
       "      <td>0</td>\n",
       "      <td>0</td>\n",
       "      <td>0</td>\n",
       "    </tr>\n",
       "    <tr>\n",
       "      <th>19</th>\n",
       "      <td>01-04-2020</td>\n",
       "      <td>30</td>\n",
       "      <td>0</td>\n",
       "      <td>0</td>\n",
       "      <td>30</td>\n",
       "      <td>8</td>\n",
       "      <td>0</td>\n",
       "      <td>0</td>\n",
       "    </tr>\n",
       "    <tr>\n",
       "      <th>20</th>\n",
       "      <td>02-04-2020</td>\n",
       "      <td>52</td>\n",
       "      <td>0</td>\n",
       "      <td>0</td>\n",
       "      <td>52</td>\n",
       "      <td>22</td>\n",
       "      <td>0</td>\n",
       "      <td>0</td>\n",
       "    </tr>\n",
       "    <tr>\n",
       "      <th>21</th>\n",
       "      <td>03-04-2020</td>\n",
       "      <td>73</td>\n",
       "      <td>0</td>\n",
       "      <td>2</td>\n",
       "      <td>71</td>\n",
       "      <td>21</td>\n",
       "      <td>0</td>\n",
       "      <td>2</td>\n",
       "    </tr>\n",
       "    <tr>\n",
       "      <th>22</th>\n",
       "      <td>04-04-2020</td>\n",
       "      <td>111</td>\n",
       "      <td>0</td>\n",
       "      <td>5</td>\n",
       "      <td>106</td>\n",
       "      <td>38</td>\n",
       "      <td>0</td>\n",
       "      <td>3</td>\n",
       "    </tr>\n",
       "    <tr>\n",
       "      <th>23</th>\n",
       "      <td>05-04-2020</td>\n",
       "      <td>121</td>\n",
       "      <td>0</td>\n",
       "      <td>5</td>\n",
       "      <td>116</td>\n",
       "      <td>10</td>\n",
       "      <td>0</td>\n",
       "      <td>0</td>\n",
       "    </tr>\n",
       "    <tr>\n",
       "      <th>24</th>\n",
       "      <td>06-04-2020</td>\n",
       "      <td>128</td>\n",
       "      <td>0</td>\n",
       "      <td>5</td>\n",
       "      <td>123</td>\n",
       "      <td>7</td>\n",
       "      <td>0</td>\n",
       "      <td>0</td>\n",
       "    </tr>\n",
       "    <tr>\n",
       "      <th>25</th>\n",
       "      <td>07-04-2020</td>\n",
       "      <td>144</td>\n",
       "      <td>0</td>\n",
       "      <td>5</td>\n",
       "      <td>139</td>\n",
       "      <td>16</td>\n",
       "      <td>0</td>\n",
       "      <td>0</td>\n",
       "    </tr>\n",
       "    <tr>\n",
       "      <th>26</th>\n",
       "      <td>08-04-2020</td>\n",
       "      <td>164</td>\n",
       "      <td>0</td>\n",
       "      <td>5</td>\n",
       "      <td>159</td>\n",
       "      <td>20</td>\n",
       "      <td>0</td>\n",
       "      <td>0</td>\n",
       "    </tr>\n",
       "    <tr>\n",
       "      <th>27</th>\n",
       "      <td>09-04-2020</td>\n",
       "      <td>194</td>\n",
       "      <td>0</td>\n",
       "      <td>11</td>\n",
       "      <td>183</td>\n",
       "      <td>30</td>\n",
       "      <td>0</td>\n",
       "      <td>6</td>\n",
       "    </tr>\n",
       "    <tr>\n",
       "      <th>28</th>\n",
       "      <td>10-04-2020</td>\n",
       "      <td>212</td>\n",
       "      <td>0</td>\n",
       "      <td>15</td>\n",
       "      <td>197</td>\n",
       "      <td>18</td>\n",
       "      <td>0</td>\n",
       "      <td>4</td>\n",
       "    </tr>\n",
       "    <tr>\n",
       "      <th>29</th>\n",
       "      <td>11-04-2020</td>\n",
       "      <td>250</td>\n",
       "      <td>0</td>\n",
       "      <td>17</td>\n",
       "      <td>233</td>\n",
       "      <td>38</td>\n",
       "      <td>0</td>\n",
       "      <td>2</td>\n",
       "    </tr>\n",
       "    <tr>\n",
       "      <th>30</th>\n",
       "      <td>12-04-2020</td>\n",
       "      <td>250</td>\n",
       "      <td>0</td>\n",
       "      <td>17</td>\n",
       "      <td>233</td>\n",
       "      <td>0</td>\n",
       "      <td>0</td>\n",
       "      <td>0</td>\n",
       "    </tr>\n",
       "    <tr>\n",
       "      <th>31</th>\n",
       "      <td>13-04-2020</td>\n",
       "      <td>319</td>\n",
       "      <td>0</td>\n",
       "      <td>17</td>\n",
       "      <td>302</td>\n",
       "      <td>69</td>\n",
       "      <td>0</td>\n",
       "      <td>0</td>\n",
       "    </tr>\n",
       "    <tr>\n",
       "      <th>32</th>\n",
       "      <td>14-04-2020</td>\n",
       "      <td>363</td>\n",
       "      <td>0</td>\n",
       "      <td>31</td>\n",
       "      <td>332</td>\n",
       "      <td>44</td>\n",
       "      <td>0</td>\n",
       "      <td>14</td>\n",
       "    </tr>\n",
       "    <tr>\n",
       "      <th>33</th>\n",
       "      <td>15-04-2020</td>\n",
       "      <td>404</td>\n",
       "      <td>1</td>\n",
       "      <td>31</td>\n",
       "      <td>372</td>\n",
       "      <td>41</td>\n",
       "      <td>1</td>\n",
       "      <td>0</td>\n",
       "    </tr>\n",
       "    <tr>\n",
       "      <th>34</th>\n",
       "      <td>16-04-2020</td>\n",
       "      <td>438</td>\n",
       "      <td>1</td>\n",
       "      <td>49</td>\n",
       "      <td>388</td>\n",
       "      <td>34</td>\n",
       "      <td>0</td>\n",
       "      <td>18</td>\n",
       "    </tr>\n",
       "  </tbody>\n",
       "</table>\n",
       "</div>"
      ],
      "text/plain": [
       "          Date Cas confirmés Décès Guéris Cas hospitalisés Nouveaux cas  \\\n",
       "0   13-03-2020             1     0      0                1            1   \n",
       "1   14-03-2020             1     0      0                1            0   \n",
       "2   15-03-2020             1     0      0                1            0   \n",
       "3   16-03-2020             1     0      0                1            0   \n",
       "4   17-03-2020             1     0      0                1            0   \n",
       "5   18-03-2020             1     0      0                1            0   \n",
       "6   19-03-2020             1     0      0                1            0   \n",
       "7   20-03-2020             1     0      0                1            0   \n",
       "8   21-03-2020             2     0      0                2            1   \n",
       "9   22-03-2020             2     0      0                2            0   \n",
       "10  23-03-2020             4     0      0                4            2   \n",
       "11  24-03-2020             4     0      0                4            0   \n",
       "12  25-03-2020             4     0      0                4            0   \n",
       "13  26-03-2020             4     0      0                4            0   \n",
       "14  27-03-2020             8     0      0                8            4   \n",
       "15  28-03-2020             8     0      0                8            0   \n",
       "16  29-03-2020            16     0      0               16            8   \n",
       "17  30-03-2020            22     0      0               22            6   \n",
       "18  31-03-2020            22     0      0               22            0   \n",
       "19  01-04-2020            30     0      0               30            8   \n",
       "20  02-04-2020            52     0      0               52           22   \n",
       "21  03-04-2020            73     0      2               71           21   \n",
       "22  04-04-2020           111     0      5              106           38   \n",
       "23  05-04-2020           121     0      5              116           10   \n",
       "24  06-04-2020           128     0      5              123            7   \n",
       "25  07-04-2020           144     0      5              139           16   \n",
       "26  08-04-2020           164     0      5              159           20   \n",
       "27  09-04-2020           194     0     11              183           30   \n",
       "28  10-04-2020           212     0     15              197           18   \n",
       "29  11-04-2020           250     0     17              233           38   \n",
       "30  12-04-2020           250     0     17              233            0   \n",
       "31  13-04-2020           319     0     17              302           69   \n",
       "32  14-04-2020           363     0     31              332           44   \n",
       "33  15-04-2020           404     1     31              372           41   \n",
       "34  16-04-2020           438     1     49              388           34   \n",
       "\n",
       "   Nouveaux décès Nouveaux guéris  \n",
       "0               0               0  \n",
       "1               0               0  \n",
       "2               0               0  \n",
       "3               0               0  \n",
       "4               0               0  \n",
       "5               0               0  \n",
       "6               0               0  \n",
       "7               0               0  \n",
       "8               0               0  \n",
       "9               0               0  \n",
       "10              0               0  \n",
       "11              0               0  \n",
       "12              0               0  \n",
       "13              0               0  \n",
       "14              0               0  \n",
       "15              0               0  \n",
       "16              0               0  \n",
       "17              0               0  \n",
       "18              0               0  \n",
       "19              0               0  \n",
       "20              0               0  \n",
       "21              0               2  \n",
       "22              0               3  \n",
       "23              0               0  \n",
       "24              0               0  \n",
       "25              0               0  \n",
       "26              0               0  \n",
       "27              0               6  \n",
       "28              0               4  \n",
       "29              0               2  \n",
       "30              0               0  \n",
       "31              0               0  \n",
       "32              0              14  \n",
       "33              1               0  \n",
       "34              0              18  "
      ]
     },
     "execution_count": 192,
     "metadata": {},
     "output_type": "execute_result"
    }
   ],
   "source": [
    "df_guinea"
   ]
  },
  {
   "cell_type": "code",
   "execution_count": 210,
   "metadata": {},
   "outputs": [],
   "source": [
    "ch = new_line[0] - new_line[1] - new_line[2]\n",
    "nc = new_line[0] - df_guinea.iloc[-1, 1]\n",
    "nd = new_line[1] - df_guinea.iloc[-1, 2]\n",
    "ng = new_line[2] - df_guinea.iloc[-1, 3]\n",
    "new_line.extend([ch, nc, nd, ng])\n",
    "new_line.insert(0, datetime.datetime.today().strftime('%d-%m-%Y'))"
   ]
  },
  {
   "cell_type": "code",
   "execution_count": 211,
   "metadata": {},
   "outputs": [
    {
     "data": {
      "text/plain": [
       "['17-04-2020', 477, 3, 59, 415, 39, 2, 10]"
      ]
     },
     "execution_count": 211,
     "metadata": {},
     "output_type": "execute_result"
    }
   ],
   "source": [
    "new_line"
   ]
  },
  {
   "cell_type": "code",
   "execution_count": 212,
   "metadata": {},
   "outputs": [],
   "source": [
    "df_guinea = df_guinea.append(pd.DataFrame(new_line, index=df_guinea.columns).T)"
   ]
  },
  {
   "cell_type": "code",
   "execution_count": null,
   "metadata": {
    "scrolled": false
   },
   "outputs": [],
   "source": [
    "x = df_guinea['Date'].values\n",
    "\n",
    "fig = go.Figure(data=[\n",
    "    go.Bar(name='Décès', x=x, y=df_guinea['Décès'].values, marker_color='red'),\n",
    "    go.Bar(name='Guéris', x=x, y=df_guinea['Guéris'].values, marker_color='darkgreen'),\n",
    "    go.Bar(name='Cas hospitalisés', x=x, y=df_guinea['Cas hospitalisés'], marker_color='gold')\n",
    "])\n",
    "fig.add_trace({'x':df_guinea['Date'], 'y':df_guinea['Cas confirmés'], 'name':'Cas confirmés'})\n",
    "\n",
    "# Change the bar mode\n",
    "fig.update_layout(template='plotly_dark', \n",
    "                  barmode='stack', hovermode='x', \n",
    "                  xaxis_tickangle=-60,\n",
    "                  legend_orientation=\"h\",\n",
    "                  legend=dict(x=-.1, y=1.2),\n",
    "                  margin=dict(t=0,b=0,l=0,r=0))\n",
    "fig.update_yaxes(automargin=True)\n",
    "fig.show()"
   ]
  },
  {
   "cell_type": "code",
   "execution_count": 34,
   "metadata": {},
   "outputs": [
    {
     "data": {
      "application/vnd.plotly.v1+json": {
       "config": {
        "plotlyServerURL": "https://plot.ly"
       },
       "data": [
        {
         "customdata": [
          [
           10,
           33,
           10
          ]
         ],
         "hovertemplate": "Name=%{x}<br>Transfer Budget=%{y}<br>International Prestige=%{customdata[0]}<br>Players=%{customdata[1]}<br>Domestic Presstige=%{customdata[2]}<extra></extra>",
         "legendgroup": "Real Madrid",
         "marker": {
          "color": "#636efa",
          "symbol": "circle"
         },
         "mode": "markers",
         "name": "Real Madrid",
         "showlegend": true,
         "type": "scatter",
         "x": [
          "Real Madrid"
         ],
         "xaxis": "x",
         "y": [
          188500000
         ],
         "yaxis": "y"
        },
        {
         "customdata": [
          [
           10,
           33,
           10
          ]
         ],
         "hovertemplate": "Name=%{x}<br>Transfer Budget=%{y}<br>International Prestige=%{customdata[0]}<br>Players=%{customdata[1]}<br>Domestic Presstige=%{customdata[2]}<extra></extra>",
         "legendgroup": "FC Barcelona",
         "marker": {
          "color": "#EF553B",
          "symbol": "circle"
         },
         "mode": "markers",
         "name": "FC Barcelona",
         "showlegend": true,
         "type": "scatter",
         "x": [
          "FC Barcelona"
         ],
         "xaxis": "x",
         "y": [
          187900000
         ],
         "yaxis": "y"
        },
        {
         "customdata": [
          [
           9,
           33,
           9
          ]
         ],
         "hovertemplate": "Name=%{x}<br>Transfer Budget=%{y}<br>International Prestige=%{customdata[0]}<br>Players=%{customdata[1]}<br>Domestic Presstige=%{customdata[2]}<extra></extra>",
         "legendgroup": "Atlético Madrid",
         "marker": {
          "color": "#00cc96",
          "symbol": "circle"
         },
         "mode": "markers",
         "name": "Atlético Madrid",
         "showlegend": true,
         "type": "scatter",
         "x": [
          "Atlético Madrid"
         ],
         "xaxis": "x",
         "y": [
          68600000
         ],
         "yaxis": "y"
        },
        {
         "customdata": [
          [
           7,
           33,
           7
          ]
         ],
         "hovertemplate": "Name=%{x}<br>Transfer Budget=%{y}<br>International Prestige=%{customdata[0]}<br>Players=%{customdata[1]}<br>Domestic Presstige=%{customdata[2]}<extra></extra>",
         "legendgroup": "Sevilla FC",
         "marker": {
          "color": "#ab63fa",
          "symbol": "circle"
         },
         "mode": "markers",
         "name": "Sevilla FC",
         "showlegend": true,
         "type": "scatter",
         "x": [
          "Sevilla FC"
         ],
         "xaxis": "x",
         "y": [
          34500000
         ],
         "yaxis": "y"
        },
        {
         "customdata": [
          [
           6,
           33,
           8
          ]
         ],
         "hovertemplate": "Name=%{x}<br>Transfer Budget=%{y}<br>International Prestige=%{customdata[0]}<br>Players=%{customdata[1]}<br>Domestic Presstige=%{customdata[2]}<extra></extra>",
         "legendgroup": "Valencia CF",
         "marker": {
          "color": "#FFA15A",
          "symbol": "circle"
         },
         "mode": "markers",
         "name": "Valencia CF",
         "showlegend": true,
         "type": "scatter",
         "x": [
          "Valencia CF"
         ],
         "xaxis": "x",
         "y": [
          66300000
         ],
         "yaxis": "y"
        },
        {
         "customdata": [
          [
           2,
           32,
           5
          ]
         ],
         "hovertemplate": "Name=%{x}<br>Transfer Budget=%{y}<br>International Prestige=%{customdata[0]}<br>Players=%{customdata[1]}<br>Domestic Presstige=%{customdata[2]}<extra></extra>",
         "legendgroup": "Real Betis",
         "marker": {
          "color": "#19d3f3",
          "symbol": "circle"
         },
         "mode": "markers",
         "name": "Real Betis",
         "showlegend": true,
         "type": "scatter",
         "x": [
          "Real Betis"
         ],
         "xaxis": "x",
         "y": [
          16100000.000000002
         ],
         "yaxis": "y"
        },
        {
         "customdata": [
          [
           6,
           33,
           6
          ]
         ],
         "hovertemplate": "Name=%{x}<br>Transfer Budget=%{y}<br>International Prestige=%{customdata[0]}<br>Players=%{customdata[1]}<br>Domestic Presstige=%{customdata[2]}<extra></extra>",
         "legendgroup": "Athletic Club de Bilbao",
         "marker": {
          "color": "#FF6692",
          "symbol": "circle"
         },
         "mode": "markers",
         "name": "Athletic Club de Bilbao",
         "showlegend": true,
         "type": "scatter",
         "x": [
          "Athletic Club de Bilbao"
         ],
         "xaxis": "x",
         "y": [
          18500000
         ],
         "yaxis": "y"
        },
        {
         "customdata": [
          [
           7,
           33,
           8
          ]
         ],
         "hovertemplate": "Name=%{x}<br>Transfer Budget=%{y}<br>International Prestige=%{customdata[0]}<br>Players=%{customdata[1]}<br>Domestic Presstige=%{customdata[2]}<extra></extra>",
         "legendgroup": "Villarreal CF",
         "marker": {
          "color": "#B6E880",
          "symbol": "circle"
         },
         "mode": "markers",
         "name": "Villarreal CF",
         "showlegend": true,
         "type": "scatter",
         "x": [
          "Villarreal CF"
         ],
         "xaxis": "x",
         "y": [
          32900000
         ],
         "yaxis": "y"
        },
        {
         "customdata": [
          [
           3,
           33,
           5
          ]
         ],
         "hovertemplate": "Name=%{x}<br>Transfer Budget=%{y}<br>International Prestige=%{customdata[0]}<br>Players=%{customdata[1]}<br>Domestic Presstige=%{customdata[2]}<extra></extra>",
         "legendgroup": "Real Sociedad",
         "marker": {
          "color": "#FF97FF",
          "symbol": "circle"
         },
         "mode": "markers",
         "name": "Real Sociedad",
         "showlegend": true,
         "type": "scatter",
         "x": [
          "Real Sociedad"
         ],
         "xaxis": "x",
         "y": [
          15800000
         ],
         "yaxis": "y"
        },
        {
         "customdata": [
          [
           4,
           33,
           5
          ]
         ],
         "hovertemplate": "Name=%{x}<br>Transfer Budget=%{y}<br>International Prestige=%{customdata[0]}<br>Players=%{customdata[1]}<br>Domestic Presstige=%{customdata[2]}<extra></extra>",
         "legendgroup": "RC Celta",
         "marker": {
          "color": "#FECB52",
          "symbol": "circle"
         },
         "mode": "markers",
         "name": "RC Celta",
         "showlegend": true,
         "type": "scatter",
         "x": [
          "RC Celta"
         ],
         "xaxis": "x",
         "y": [
          11800000
         ],
         "yaxis": "y"
        },
        {
         "customdata": [
          [
           1,
           33,
           4
          ]
         ],
         "hovertemplate": "Name=%{x}<br>Transfer Budget=%{y}<br>International Prestige=%{customdata[0]}<br>Players=%{customdata[1]}<br>Domestic Presstige=%{customdata[2]}<extra></extra>",
         "legendgroup": "Girona FC",
         "marker": {
          "color": "#636efa",
          "symbol": "circle"
         },
         "mode": "markers",
         "name": "Girona FC",
         "showlegend": true,
         "type": "scatter",
         "x": [
          "Girona FC"
         ],
         "xaxis": "x",
         "y": [
          3900000
         ],
         "yaxis": "y"
        },
        {
         "customdata": [
          [
           1,
           29,
           4
          ]
         ],
         "hovertemplate": "Name=%{x}<br>Transfer Budget=%{y}<br>International Prestige=%{customdata[0]}<br>Players=%{customdata[1]}<br>Domestic Presstige=%{customdata[2]}<extra></extra>",
         "legendgroup": "SD Eibar",
         "marker": {
          "color": "#EF553B",
          "symbol": "circle"
         },
         "mode": "markers",
         "name": "SD Eibar",
         "showlegend": true,
         "type": "scatter",
         "x": [
          "SD Eibar"
         ],
         "xaxis": "x",
         "y": [
          5400000
         ],
         "yaxis": "y"
        },
        {
         "customdata": [
          [
           2,
           28,
           5
          ]
         ],
         "hovertemplate": "Name=%{x}<br>Transfer Budget=%{y}<br>International Prestige=%{customdata[0]}<br>Players=%{customdata[1]}<br>Domestic Presstige=%{customdata[2]}<extra></extra>",
         "legendgroup": "Getafe CF",
         "marker": {
          "color": "#00cc96",
          "symbol": "circle"
         },
         "mode": "markers",
         "name": "Getafe CF",
         "showlegend": true,
         "type": "scatter",
         "x": [
          "Getafe CF"
         ],
         "xaxis": "x",
         "y": [
          5400000
         ],
         "yaxis": "y"
        },
        {
         "customdata": [
          [
           2,
           33,
           5
          ]
         ],
         "hovertemplate": "Name=%{x}<br>Transfer Budget=%{y}<br>International Prestige=%{customdata[0]}<br>Players=%{customdata[1]}<br>Domestic Presstige=%{customdata[2]}<extra></extra>",
         "legendgroup": "RCD Espanyol",
         "marker": {
          "color": "#ab63fa",
          "symbol": "circle"
         },
         "mode": "markers",
         "name": "RCD Espanyol",
         "showlegend": true,
         "type": "scatter",
         "x": [
          "RCD Espanyol"
         ],
         "xaxis": "x",
         "y": [
          10400000
         ],
         "yaxis": "y"
        },
        {
         "customdata": [
          [
           1,
           33,
           3
          ]
         ],
         "hovertemplate": "Name=%{x}<br>Transfer Budget=%{y}<br>International Prestige=%{customdata[0]}<br>Players=%{customdata[1]}<br>Domestic Presstige=%{customdata[2]}<extra></extra>",
         "legendgroup": "Levante UD",
         "marker": {
          "color": "#FFA15A",
          "symbol": "circle"
         },
         "mode": "markers",
         "name": "Levante UD",
         "showlegend": true,
         "type": "scatter",
         "x": [
          "Levante UD"
         ],
         "xaxis": "x",
         "y": [
          8199999.999999999
         ],
         "yaxis": "y"
        },
        {
         "customdata": [
          [
           1,
           27,
           3
          ]
         ],
         "hovertemplate": "Name=%{x}<br>Transfer Budget=%{y}<br>International Prestige=%{customdata[0]}<br>Players=%{customdata[1]}<br>Domestic Presstige=%{customdata[2]}<extra></extra>",
         "legendgroup": "Deportivo Alavés",
         "marker": {
          "color": "#19d3f3",
          "symbol": "circle"
         },
         "mode": "markers",
         "name": "Deportivo Alavés",
         "showlegend": true,
         "type": "scatter",
         "x": [
          "Deportivo Alavés"
         ],
         "xaxis": "x",
         "y": [
          4400000
         ],
         "yaxis": "y"
        },
        {
         "customdata": [
          [
           1,
           31,
           4
          ]
         ],
         "hovertemplate": "Name=%{x}<br>Transfer Budget=%{y}<br>International Prestige=%{customdata[0]}<br>Players=%{customdata[1]}<br>Domestic Presstige=%{customdata[2]}<extra></extra>",
         "legendgroup": "CD Leganés",
         "marker": {
          "color": "#FF6692",
          "symbol": "circle"
         },
         "mode": "markers",
         "name": "CD Leganés",
         "showlegend": true,
         "type": "scatter",
         "x": [
          "CD Leganés"
         ],
         "xaxis": "x",
         "y": [
          4200000
         ],
         "yaxis": "y"
        },
        {
         "customdata": [
          [
           1,
           33,
           2
          ]
         ],
         "hovertemplate": "Name=%{x}<br>Transfer Budget=%{y}<br>International Prestige=%{customdata[0]}<br>Players=%{customdata[1]}<br>Domestic Presstige=%{customdata[2]}<extra></extra>",
         "legendgroup": "Rayo Vallecano",
         "marker": {
          "color": "#B6E880",
          "symbol": "circle"
         },
         "mode": "markers",
         "name": "Rayo Vallecano",
         "showlegend": true,
         "type": "scatter",
         "x": [
          "Rayo Vallecano"
         ],
         "xaxis": "x",
         "y": [
          3300000
         ],
         "yaxis": "y"
        },
        {
         "customdata": [
          [
           1,
           33,
           2
          ]
         ],
         "hovertemplate": "Name=%{x}<br>Transfer Budget=%{y}<br>International Prestige=%{customdata[0]}<br>Players=%{customdata[1]}<br>Domestic Presstige=%{customdata[2]}<extra></extra>",
         "legendgroup": "Real Valladolid CF",
         "marker": {
          "color": "#FF97FF",
          "symbol": "circle"
         },
         "mode": "markers",
         "name": "Real Valladolid CF",
         "showlegend": true,
         "type": "scatter",
         "x": [
          "Real Valladolid CF"
         ],
         "xaxis": "x",
         "y": [
          3100000
         ],
         "yaxis": "y"
        },
        {
         "customdata": [
          [
           1,
           31,
           2
          ]
         ],
         "hovertemplate": "Name=%{x}<br>Transfer Budget=%{y}<br>International Prestige=%{customdata[0]}<br>Players=%{customdata[1]}<br>Domestic Presstige=%{customdata[2]}<extra></extra>",
         "legendgroup": "SD Huesca",
         "marker": {
          "color": "#FECB52",
          "symbol": "circle"
         },
         "mode": "markers",
         "name": "SD Huesca",
         "showlegend": true,
         "type": "scatter",
         "x": [
          "SD Huesca"
         ],
         "xaxis": "x",
         "y": [
          2100000
         ],
         "yaxis": "y"
        }
       ],
       "layout": {
        "legend": {
         "title": {
          "text": "Name"
         },
         "tracegroupgap": 0
        },
        "margin": {
         "t": 60
        },
        "template": {
         "data": {
          "bar": [
           {
            "error_x": {
             "color": "#2a3f5f"
            },
            "error_y": {
             "color": "#2a3f5f"
            },
            "marker": {
             "line": {
              "color": "white",
              "width": 0.5
             }
            },
            "type": "bar"
           }
          ],
          "barpolar": [
           {
            "marker": {
             "line": {
              "color": "white",
              "width": 0.5
             }
            },
            "type": "barpolar"
           }
          ],
          "carpet": [
           {
            "aaxis": {
             "endlinecolor": "#2a3f5f",
             "gridcolor": "#C8D4E3",
             "linecolor": "#C8D4E3",
             "minorgridcolor": "#C8D4E3",
             "startlinecolor": "#2a3f5f"
            },
            "baxis": {
             "endlinecolor": "#2a3f5f",
             "gridcolor": "#C8D4E3",
             "linecolor": "#C8D4E3",
             "minorgridcolor": "#C8D4E3",
             "startlinecolor": "#2a3f5f"
            },
            "type": "carpet"
           }
          ],
          "choropleth": [
           {
            "colorbar": {
             "outlinewidth": 0,
             "ticks": ""
            },
            "type": "choropleth"
           }
          ],
          "contour": [
           {
            "colorbar": {
             "outlinewidth": 0,
             "ticks": ""
            },
            "colorscale": [
             [
              0,
              "#0d0887"
             ],
             [
              0.1111111111111111,
              "#46039f"
             ],
             [
              0.2222222222222222,
              "#7201a8"
             ],
             [
              0.3333333333333333,
              "#9c179e"
             ],
             [
              0.4444444444444444,
              "#bd3786"
             ],
             [
              0.5555555555555556,
              "#d8576b"
             ],
             [
              0.6666666666666666,
              "#ed7953"
             ],
             [
              0.7777777777777778,
              "#fb9f3a"
             ],
             [
              0.8888888888888888,
              "#fdca26"
             ],
             [
              1,
              "#f0f921"
             ]
            ],
            "type": "contour"
           }
          ],
          "contourcarpet": [
           {
            "colorbar": {
             "outlinewidth": 0,
             "ticks": ""
            },
            "type": "contourcarpet"
           }
          ],
          "heatmap": [
           {
            "colorbar": {
             "outlinewidth": 0,
             "ticks": ""
            },
            "colorscale": [
             [
              0,
              "#0d0887"
             ],
             [
              0.1111111111111111,
              "#46039f"
             ],
             [
              0.2222222222222222,
              "#7201a8"
             ],
             [
              0.3333333333333333,
              "#9c179e"
             ],
             [
              0.4444444444444444,
              "#bd3786"
             ],
             [
              0.5555555555555556,
              "#d8576b"
             ],
             [
              0.6666666666666666,
              "#ed7953"
             ],
             [
              0.7777777777777778,
              "#fb9f3a"
             ],
             [
              0.8888888888888888,
              "#fdca26"
             ],
             [
              1,
              "#f0f921"
             ]
            ],
            "type": "heatmap"
           }
          ],
          "heatmapgl": [
           {
            "colorbar": {
             "outlinewidth": 0,
             "ticks": ""
            },
            "colorscale": [
             [
              0,
              "#0d0887"
             ],
             [
              0.1111111111111111,
              "#46039f"
             ],
             [
              0.2222222222222222,
              "#7201a8"
             ],
             [
              0.3333333333333333,
              "#9c179e"
             ],
             [
              0.4444444444444444,
              "#bd3786"
             ],
             [
              0.5555555555555556,
              "#d8576b"
             ],
             [
              0.6666666666666666,
              "#ed7953"
             ],
             [
              0.7777777777777778,
              "#fb9f3a"
             ],
             [
              0.8888888888888888,
              "#fdca26"
             ],
             [
              1,
              "#f0f921"
             ]
            ],
            "type": "heatmapgl"
           }
          ],
          "histogram": [
           {
            "marker": {
             "colorbar": {
              "outlinewidth": 0,
              "ticks": ""
             }
            },
            "type": "histogram"
           }
          ],
          "histogram2d": [
           {
            "colorbar": {
             "outlinewidth": 0,
             "ticks": ""
            },
            "colorscale": [
             [
              0,
              "#0d0887"
             ],
             [
              0.1111111111111111,
              "#46039f"
             ],
             [
              0.2222222222222222,
              "#7201a8"
             ],
             [
              0.3333333333333333,
              "#9c179e"
             ],
             [
              0.4444444444444444,
              "#bd3786"
             ],
             [
              0.5555555555555556,
              "#d8576b"
             ],
             [
              0.6666666666666666,
              "#ed7953"
             ],
             [
              0.7777777777777778,
              "#fb9f3a"
             ],
             [
              0.8888888888888888,
              "#fdca26"
             ],
             [
              1,
              "#f0f921"
             ]
            ],
            "type": "histogram2d"
           }
          ],
          "histogram2dcontour": [
           {
            "colorbar": {
             "outlinewidth": 0,
             "ticks": ""
            },
            "colorscale": [
             [
              0,
              "#0d0887"
             ],
             [
              0.1111111111111111,
              "#46039f"
             ],
             [
              0.2222222222222222,
              "#7201a8"
             ],
             [
              0.3333333333333333,
              "#9c179e"
             ],
             [
              0.4444444444444444,
              "#bd3786"
             ],
             [
              0.5555555555555556,
              "#d8576b"
             ],
             [
              0.6666666666666666,
              "#ed7953"
             ],
             [
              0.7777777777777778,
              "#fb9f3a"
             ],
             [
              0.8888888888888888,
              "#fdca26"
             ],
             [
              1,
              "#f0f921"
             ]
            ],
            "type": "histogram2dcontour"
           }
          ],
          "mesh3d": [
           {
            "colorbar": {
             "outlinewidth": 0,
             "ticks": ""
            },
            "type": "mesh3d"
           }
          ],
          "parcoords": [
           {
            "line": {
             "colorbar": {
              "outlinewidth": 0,
              "ticks": ""
             }
            },
            "type": "parcoords"
           }
          ],
          "pie": [
           {
            "automargin": true,
            "type": "pie"
           }
          ],
          "scatter": [
           {
            "marker": {
             "colorbar": {
              "outlinewidth": 0,
              "ticks": ""
             }
            },
            "type": "scatter"
           }
          ],
          "scatter3d": [
           {
            "line": {
             "colorbar": {
              "outlinewidth": 0,
              "ticks": ""
             }
            },
            "marker": {
             "colorbar": {
              "outlinewidth": 0,
              "ticks": ""
             }
            },
            "type": "scatter3d"
           }
          ],
          "scattercarpet": [
           {
            "marker": {
             "colorbar": {
              "outlinewidth": 0,
              "ticks": ""
             }
            },
            "type": "scattercarpet"
           }
          ],
          "scattergeo": [
           {
            "marker": {
             "colorbar": {
              "outlinewidth": 0,
              "ticks": ""
             }
            },
            "type": "scattergeo"
           }
          ],
          "scattergl": [
           {
            "marker": {
             "colorbar": {
              "outlinewidth": 0,
              "ticks": ""
             }
            },
            "type": "scattergl"
           }
          ],
          "scattermapbox": [
           {
            "marker": {
             "colorbar": {
              "outlinewidth": 0,
              "ticks": ""
             }
            },
            "type": "scattermapbox"
           }
          ],
          "scatterpolar": [
           {
            "marker": {
             "colorbar": {
              "outlinewidth": 0,
              "ticks": ""
             }
            },
            "type": "scatterpolar"
           }
          ],
          "scatterpolargl": [
           {
            "marker": {
             "colorbar": {
              "outlinewidth": 0,
              "ticks": ""
             }
            },
            "type": "scatterpolargl"
           }
          ],
          "scatterternary": [
           {
            "marker": {
             "colorbar": {
              "outlinewidth": 0,
              "ticks": ""
             }
            },
            "type": "scatterternary"
           }
          ],
          "surface": [
           {
            "colorbar": {
             "outlinewidth": 0,
             "ticks": ""
            },
            "colorscale": [
             [
              0,
              "#0d0887"
             ],
             [
              0.1111111111111111,
              "#46039f"
             ],
             [
              0.2222222222222222,
              "#7201a8"
             ],
             [
              0.3333333333333333,
              "#9c179e"
             ],
             [
              0.4444444444444444,
              "#bd3786"
             ],
             [
              0.5555555555555556,
              "#d8576b"
             ],
             [
              0.6666666666666666,
              "#ed7953"
             ],
             [
              0.7777777777777778,
              "#fb9f3a"
             ],
             [
              0.8888888888888888,
              "#fdca26"
             ],
             [
              1,
              "#f0f921"
             ]
            ],
            "type": "surface"
           }
          ],
          "table": [
           {
            "cells": {
             "fill": {
              "color": "#EBF0F8"
             },
             "line": {
              "color": "white"
             }
            },
            "header": {
             "fill": {
              "color": "#C8D4E3"
             },
             "line": {
              "color": "white"
             }
            },
            "type": "table"
           }
          ]
         },
         "layout": {
          "annotationdefaults": {
           "arrowcolor": "#2a3f5f",
           "arrowhead": 0,
           "arrowwidth": 1
          },
          "coloraxis": {
           "colorbar": {
            "outlinewidth": 0,
            "ticks": ""
           }
          },
          "colorscale": {
           "diverging": [
            [
             0,
             "#8e0152"
            ],
            [
             0.1,
             "#c51b7d"
            ],
            [
             0.2,
             "#de77ae"
            ],
            [
             0.3,
             "#f1b6da"
            ],
            [
             0.4,
             "#fde0ef"
            ],
            [
             0.5,
             "#f7f7f7"
            ],
            [
             0.6,
             "#e6f5d0"
            ],
            [
             0.7,
             "#b8e186"
            ],
            [
             0.8,
             "#7fbc41"
            ],
            [
             0.9,
             "#4d9221"
            ],
            [
             1,
             "#276419"
            ]
           ],
           "sequential": [
            [
             0,
             "#0d0887"
            ],
            [
             0.1111111111111111,
             "#46039f"
            ],
            [
             0.2222222222222222,
             "#7201a8"
            ],
            [
             0.3333333333333333,
             "#9c179e"
            ],
            [
             0.4444444444444444,
             "#bd3786"
            ],
            [
             0.5555555555555556,
             "#d8576b"
            ],
            [
             0.6666666666666666,
             "#ed7953"
            ],
            [
             0.7777777777777778,
             "#fb9f3a"
            ],
            [
             0.8888888888888888,
             "#fdca26"
            ],
            [
             1,
             "#f0f921"
            ]
           ],
           "sequentialminus": [
            [
             0,
             "#0d0887"
            ],
            [
             0.1111111111111111,
             "#46039f"
            ],
            [
             0.2222222222222222,
             "#7201a8"
            ],
            [
             0.3333333333333333,
             "#9c179e"
            ],
            [
             0.4444444444444444,
             "#bd3786"
            ],
            [
             0.5555555555555556,
             "#d8576b"
            ],
            [
             0.6666666666666666,
             "#ed7953"
            ],
            [
             0.7777777777777778,
             "#fb9f3a"
            ],
            [
             0.8888888888888888,
             "#fdca26"
            ],
            [
             1,
             "#f0f921"
            ]
           ]
          },
          "colorway": [
           "#636efa",
           "#EF553B",
           "#00cc96",
           "#ab63fa",
           "#FFA15A",
           "#19d3f3",
           "#FF6692",
           "#B6E880",
           "#FF97FF",
           "#FECB52"
          ],
          "font": {
           "color": "#2a3f5f"
          },
          "geo": {
           "bgcolor": "white",
           "lakecolor": "white",
           "landcolor": "white",
           "showlakes": true,
           "showland": true,
           "subunitcolor": "#C8D4E3"
          },
          "hoverlabel": {
           "align": "left"
          },
          "hovermode": "closest",
          "mapbox": {
           "style": "light"
          },
          "paper_bgcolor": "white",
          "plot_bgcolor": "white",
          "polar": {
           "angularaxis": {
            "gridcolor": "#EBF0F8",
            "linecolor": "#EBF0F8",
            "ticks": ""
           },
           "bgcolor": "white",
           "radialaxis": {
            "gridcolor": "#EBF0F8",
            "linecolor": "#EBF0F8",
            "ticks": ""
           }
          },
          "scene": {
           "xaxis": {
            "backgroundcolor": "white",
            "gridcolor": "#DFE8F3",
            "gridwidth": 2,
            "linecolor": "#EBF0F8",
            "showbackground": true,
            "ticks": "",
            "zerolinecolor": "#EBF0F8"
           },
           "yaxis": {
            "backgroundcolor": "white",
            "gridcolor": "#DFE8F3",
            "gridwidth": 2,
            "linecolor": "#EBF0F8",
            "showbackground": true,
            "ticks": "",
            "zerolinecolor": "#EBF0F8"
           },
           "zaxis": {
            "backgroundcolor": "white",
            "gridcolor": "#DFE8F3",
            "gridwidth": 2,
            "linecolor": "#EBF0F8",
            "showbackground": true,
            "ticks": "",
            "zerolinecolor": "#EBF0F8"
           }
          },
          "shapedefaults": {
           "line": {
            "color": "#2a3f5f"
           }
          },
          "ternary": {
           "aaxis": {
            "gridcolor": "#DFE8F3",
            "linecolor": "#A2B1C6",
            "ticks": ""
           },
           "baxis": {
            "gridcolor": "#DFE8F3",
            "linecolor": "#A2B1C6",
            "ticks": ""
           },
           "bgcolor": "white",
           "caxis": {
            "gridcolor": "#DFE8F3",
            "linecolor": "#A2B1C6",
            "ticks": ""
           }
          },
          "title": {
           "x": 0.05
          },
          "xaxis": {
           "automargin": true,
           "gridcolor": "#EBF0F8",
           "linecolor": "#EBF0F8",
           "ticks": "",
           "title": {
            "standoff": 15
           },
           "zerolinecolor": "#EBF0F8",
           "zerolinewidth": 2
          },
          "yaxis": {
           "automargin": true,
           "gridcolor": "#EBF0F8",
           "linecolor": "#EBF0F8",
           "ticks": "",
           "title": {
            "standoff": 15
           },
           "zerolinecolor": "#EBF0F8",
           "zerolinewidth": 2
          }
         }
        },
        "title": {
         "text": "Quick Test on Spain Teams data"
        },
        "xaxis": {
         "anchor": "y",
         "categoryarray": [
          "Real Madrid",
          "FC Barcelona",
          "Atlético Madrid",
          "Sevilla FC",
          "Valencia CF",
          "Real Betis",
          "Athletic Club de Bilbao",
          "Villarreal CF",
          "Real Sociedad",
          "RC Celta",
          "Girona FC",
          "SD Eibar",
          "Getafe CF",
          "RCD Espanyol",
          "Levante UD",
          "Deportivo Alavés",
          "CD Leganés",
          "Rayo Vallecano",
          "Real Valladolid CF",
          "SD Huesca"
         ],
         "categoryorder": "array",
         "domain": [
          0,
          1
         ],
         "title": {
          "text": "Name"
         }
        },
        "yaxis": {
         "anchor": "x",
         "domain": [
          0,
          1
         ],
         "title": {
          "text": "Transfer Budget"
         }
        }
       }
      },
      "text/html": [
       "<div>\n",
       "        \n",
       "        \n",
       "            <div id=\"967a9e51-8615-4818-9ba1-298ba64563d9\" class=\"plotly-graph-div\" style=\"height:525px; width:100%;\"></div>\n",
       "            <script type=\"text/javascript\">\n",
       "                require([\"plotly\"], function(Plotly) {\n",
       "                    window.PLOTLYENV=window.PLOTLYENV || {};\n",
       "                    \n",
       "                if (document.getElementById(\"967a9e51-8615-4818-9ba1-298ba64563d9\")) {\n",
       "                    Plotly.newPlot(\n",
       "                        '967a9e51-8615-4818-9ba1-298ba64563d9',\n",
       "                        [{\"customdata\": [[10, 33, 10]], \"hovertemplate\": \"Name=%{x}<br>Transfer Budget=%{y}<br>International Prestige=%{customdata[0]}<br>Players=%{customdata[1]}<br>Domestic Presstige=%{customdata[2]}<extra></extra>\", \"legendgroup\": \"Real Madrid\", \"marker\": {\"color\": \"#636efa\", \"symbol\": \"circle\"}, \"mode\": \"markers\", \"name\": \"Real Madrid\", \"showlegend\": true, \"type\": \"scatter\", \"x\": [\"Real Madrid\"], \"xaxis\": \"x\", \"y\": [188500000.0], \"yaxis\": \"y\"}, {\"customdata\": [[10, 33, 10]], \"hovertemplate\": \"Name=%{x}<br>Transfer Budget=%{y}<br>International Prestige=%{customdata[0]}<br>Players=%{customdata[1]}<br>Domestic Presstige=%{customdata[2]}<extra></extra>\", \"legendgroup\": \"FC Barcelona\", \"marker\": {\"color\": \"#EF553B\", \"symbol\": \"circle\"}, \"mode\": \"markers\", \"name\": \"FC Barcelona\", \"showlegend\": true, \"type\": \"scatter\", \"x\": [\"FC Barcelona\"], \"xaxis\": \"x\", \"y\": [187900000.0], \"yaxis\": \"y\"}, {\"customdata\": [[9, 33, 9]], \"hovertemplate\": \"Name=%{x}<br>Transfer Budget=%{y}<br>International Prestige=%{customdata[0]}<br>Players=%{customdata[1]}<br>Domestic Presstige=%{customdata[2]}<extra></extra>\", \"legendgroup\": \"Atl\\u00e9tico Madrid\", \"marker\": {\"color\": \"#00cc96\", \"symbol\": \"circle\"}, \"mode\": \"markers\", \"name\": \"Atl\\u00e9tico Madrid\", \"showlegend\": true, \"type\": \"scatter\", \"x\": [\"Atl\\u00e9tico Madrid\"], \"xaxis\": \"x\", \"y\": [68600000.0], \"yaxis\": \"y\"}, {\"customdata\": [[7, 33, 7]], \"hovertemplate\": \"Name=%{x}<br>Transfer Budget=%{y}<br>International Prestige=%{customdata[0]}<br>Players=%{customdata[1]}<br>Domestic Presstige=%{customdata[2]}<extra></extra>\", \"legendgroup\": \"Sevilla FC\", \"marker\": {\"color\": \"#ab63fa\", \"symbol\": \"circle\"}, \"mode\": \"markers\", \"name\": \"Sevilla FC\", \"showlegend\": true, \"type\": \"scatter\", \"x\": [\"Sevilla FC\"], \"xaxis\": \"x\", \"y\": [34500000.0], \"yaxis\": \"y\"}, {\"customdata\": [[6, 33, 8]], \"hovertemplate\": \"Name=%{x}<br>Transfer Budget=%{y}<br>International Prestige=%{customdata[0]}<br>Players=%{customdata[1]}<br>Domestic Presstige=%{customdata[2]}<extra></extra>\", \"legendgroup\": \"Valencia CF\", \"marker\": {\"color\": \"#FFA15A\", \"symbol\": \"circle\"}, \"mode\": \"markers\", \"name\": \"Valencia CF\", \"showlegend\": true, \"type\": \"scatter\", \"x\": [\"Valencia CF\"], \"xaxis\": \"x\", \"y\": [66300000.0], \"yaxis\": \"y\"}, {\"customdata\": [[2, 32, 5]], \"hovertemplate\": \"Name=%{x}<br>Transfer Budget=%{y}<br>International Prestige=%{customdata[0]}<br>Players=%{customdata[1]}<br>Domestic Presstige=%{customdata[2]}<extra></extra>\", \"legendgroup\": \"Real Betis\", \"marker\": {\"color\": \"#19d3f3\", \"symbol\": \"circle\"}, \"mode\": \"markers\", \"name\": \"Real Betis\", \"showlegend\": true, \"type\": \"scatter\", \"x\": [\"Real Betis\"], \"xaxis\": \"x\", \"y\": [16100000.000000002], \"yaxis\": \"y\"}, {\"customdata\": [[6, 33, 6]], \"hovertemplate\": \"Name=%{x}<br>Transfer Budget=%{y}<br>International Prestige=%{customdata[0]}<br>Players=%{customdata[1]}<br>Domestic Presstige=%{customdata[2]}<extra></extra>\", \"legendgroup\": \"Athletic Club de Bilbao\", \"marker\": {\"color\": \"#FF6692\", \"symbol\": \"circle\"}, \"mode\": \"markers\", \"name\": \"Athletic Club de Bilbao\", \"showlegend\": true, \"type\": \"scatter\", \"x\": [\"Athletic Club de Bilbao\"], \"xaxis\": \"x\", \"y\": [18500000.0], \"yaxis\": \"y\"}, {\"customdata\": [[7, 33, 8]], \"hovertemplate\": \"Name=%{x}<br>Transfer Budget=%{y}<br>International Prestige=%{customdata[0]}<br>Players=%{customdata[1]}<br>Domestic Presstige=%{customdata[2]}<extra></extra>\", \"legendgroup\": \"Villarreal CF\", \"marker\": {\"color\": \"#B6E880\", \"symbol\": \"circle\"}, \"mode\": \"markers\", \"name\": \"Villarreal CF\", \"showlegend\": true, \"type\": \"scatter\", \"x\": [\"Villarreal CF\"], \"xaxis\": \"x\", \"y\": [32900000.0], \"yaxis\": \"y\"}, {\"customdata\": [[3, 33, 5]], \"hovertemplate\": \"Name=%{x}<br>Transfer Budget=%{y}<br>International Prestige=%{customdata[0]}<br>Players=%{customdata[1]}<br>Domestic Presstige=%{customdata[2]}<extra></extra>\", \"legendgroup\": \"Real Sociedad\", \"marker\": {\"color\": \"#FF97FF\", \"symbol\": \"circle\"}, \"mode\": \"markers\", \"name\": \"Real Sociedad\", \"showlegend\": true, \"type\": \"scatter\", \"x\": [\"Real Sociedad\"], \"xaxis\": \"x\", \"y\": [15800000.0], \"yaxis\": \"y\"}, {\"customdata\": [[4, 33, 5]], \"hovertemplate\": \"Name=%{x}<br>Transfer Budget=%{y}<br>International Prestige=%{customdata[0]}<br>Players=%{customdata[1]}<br>Domestic Presstige=%{customdata[2]}<extra></extra>\", \"legendgroup\": \"RC Celta\", \"marker\": {\"color\": \"#FECB52\", \"symbol\": \"circle\"}, \"mode\": \"markers\", \"name\": \"RC Celta\", \"showlegend\": true, \"type\": \"scatter\", \"x\": [\"RC Celta\"], \"xaxis\": \"x\", \"y\": [11800000.0], \"yaxis\": \"y\"}, {\"customdata\": [[1, 33, 4]], \"hovertemplate\": \"Name=%{x}<br>Transfer Budget=%{y}<br>International Prestige=%{customdata[0]}<br>Players=%{customdata[1]}<br>Domestic Presstige=%{customdata[2]}<extra></extra>\", \"legendgroup\": \"Girona FC\", \"marker\": {\"color\": \"#636efa\", \"symbol\": \"circle\"}, \"mode\": \"markers\", \"name\": \"Girona FC\", \"showlegend\": true, \"type\": \"scatter\", \"x\": [\"Girona FC\"], \"xaxis\": \"x\", \"y\": [3900000.0], \"yaxis\": \"y\"}, {\"customdata\": [[1, 29, 4]], \"hovertemplate\": \"Name=%{x}<br>Transfer Budget=%{y}<br>International Prestige=%{customdata[0]}<br>Players=%{customdata[1]}<br>Domestic Presstige=%{customdata[2]}<extra></extra>\", \"legendgroup\": \"SD Eibar\", \"marker\": {\"color\": \"#EF553B\", \"symbol\": \"circle\"}, \"mode\": \"markers\", \"name\": \"SD Eibar\", \"showlegend\": true, \"type\": \"scatter\", \"x\": [\"SD Eibar\"], \"xaxis\": \"x\", \"y\": [5400000.0], \"yaxis\": \"y\"}, {\"customdata\": [[2, 28, 5]], \"hovertemplate\": \"Name=%{x}<br>Transfer Budget=%{y}<br>International Prestige=%{customdata[0]}<br>Players=%{customdata[1]}<br>Domestic Presstige=%{customdata[2]}<extra></extra>\", \"legendgroup\": \"Getafe CF\", \"marker\": {\"color\": \"#00cc96\", \"symbol\": \"circle\"}, \"mode\": \"markers\", \"name\": \"Getafe CF\", \"showlegend\": true, \"type\": \"scatter\", \"x\": [\"Getafe CF\"], \"xaxis\": \"x\", \"y\": [5400000.0], \"yaxis\": \"y\"}, {\"customdata\": [[2, 33, 5]], \"hovertemplate\": \"Name=%{x}<br>Transfer Budget=%{y}<br>International Prestige=%{customdata[0]}<br>Players=%{customdata[1]}<br>Domestic Presstige=%{customdata[2]}<extra></extra>\", \"legendgroup\": \"RCD Espanyol\", \"marker\": {\"color\": \"#ab63fa\", \"symbol\": \"circle\"}, \"mode\": \"markers\", \"name\": \"RCD Espanyol\", \"showlegend\": true, \"type\": \"scatter\", \"x\": [\"RCD Espanyol\"], \"xaxis\": \"x\", \"y\": [10400000.0], \"yaxis\": \"y\"}, {\"customdata\": [[1, 33, 3]], \"hovertemplate\": \"Name=%{x}<br>Transfer Budget=%{y}<br>International Prestige=%{customdata[0]}<br>Players=%{customdata[1]}<br>Domestic Presstige=%{customdata[2]}<extra></extra>\", \"legendgroup\": \"Levante UD\", \"marker\": {\"color\": \"#FFA15A\", \"symbol\": \"circle\"}, \"mode\": \"markers\", \"name\": \"Levante UD\", \"showlegend\": true, \"type\": \"scatter\", \"x\": [\"Levante UD\"], \"xaxis\": \"x\", \"y\": [8199999.999999999], \"yaxis\": \"y\"}, {\"customdata\": [[1, 27, 3]], \"hovertemplate\": \"Name=%{x}<br>Transfer Budget=%{y}<br>International Prestige=%{customdata[0]}<br>Players=%{customdata[1]}<br>Domestic Presstige=%{customdata[2]}<extra></extra>\", \"legendgroup\": \"Deportivo Alav\\u00e9s\", \"marker\": {\"color\": \"#19d3f3\", \"symbol\": \"circle\"}, \"mode\": \"markers\", \"name\": \"Deportivo Alav\\u00e9s\", \"showlegend\": true, \"type\": \"scatter\", \"x\": [\"Deportivo Alav\\u00e9s\"], \"xaxis\": \"x\", \"y\": [4400000.0], \"yaxis\": \"y\"}, {\"customdata\": [[1, 31, 4]], \"hovertemplate\": \"Name=%{x}<br>Transfer Budget=%{y}<br>International Prestige=%{customdata[0]}<br>Players=%{customdata[1]}<br>Domestic Presstige=%{customdata[2]}<extra></extra>\", \"legendgroup\": \"CD Legan\\u00e9s\", \"marker\": {\"color\": \"#FF6692\", \"symbol\": \"circle\"}, \"mode\": \"markers\", \"name\": \"CD Legan\\u00e9s\", \"showlegend\": true, \"type\": \"scatter\", \"x\": [\"CD Legan\\u00e9s\"], \"xaxis\": \"x\", \"y\": [4200000.0], \"yaxis\": \"y\"}, {\"customdata\": [[1, 33, 2]], \"hovertemplate\": \"Name=%{x}<br>Transfer Budget=%{y}<br>International Prestige=%{customdata[0]}<br>Players=%{customdata[1]}<br>Domestic Presstige=%{customdata[2]}<extra></extra>\", \"legendgroup\": \"Rayo Vallecano\", \"marker\": {\"color\": \"#B6E880\", \"symbol\": \"circle\"}, \"mode\": \"markers\", \"name\": \"Rayo Vallecano\", \"showlegend\": true, \"type\": \"scatter\", \"x\": [\"Rayo Vallecano\"], \"xaxis\": \"x\", \"y\": [3300000.0], \"yaxis\": \"y\"}, {\"customdata\": [[1, 33, 2]], \"hovertemplate\": \"Name=%{x}<br>Transfer Budget=%{y}<br>International Prestige=%{customdata[0]}<br>Players=%{customdata[1]}<br>Domestic Presstige=%{customdata[2]}<extra></extra>\", \"legendgroup\": \"Real Valladolid CF\", \"marker\": {\"color\": \"#FF97FF\", \"symbol\": \"circle\"}, \"mode\": \"markers\", \"name\": \"Real Valladolid CF\", \"showlegend\": true, \"type\": \"scatter\", \"x\": [\"Real Valladolid CF\"], \"xaxis\": \"x\", \"y\": [3100000.0], \"yaxis\": \"y\"}, {\"customdata\": [[1, 31, 2]], \"hovertemplate\": \"Name=%{x}<br>Transfer Budget=%{y}<br>International Prestige=%{customdata[0]}<br>Players=%{customdata[1]}<br>Domestic Presstige=%{customdata[2]}<extra></extra>\", \"legendgroup\": \"SD Huesca\", \"marker\": {\"color\": \"#FECB52\", \"symbol\": \"circle\"}, \"mode\": \"markers\", \"name\": \"SD Huesca\", \"showlegend\": true, \"type\": \"scatter\", \"x\": [\"SD Huesca\"], \"xaxis\": \"x\", \"y\": [2100000.0], \"yaxis\": \"y\"}],\n",
       "                        {\"legend\": {\"title\": {\"text\": \"Name\"}, \"tracegroupgap\": 0}, \"margin\": {\"t\": 60}, \"template\": {\"data\": {\"bar\": [{\"error_x\": {\"color\": \"#2a3f5f\"}, \"error_y\": {\"color\": \"#2a3f5f\"}, \"marker\": {\"line\": {\"color\": \"white\", \"width\": 0.5}}, \"type\": \"bar\"}], \"barpolar\": [{\"marker\": {\"line\": {\"color\": \"white\", \"width\": 0.5}}, \"type\": \"barpolar\"}], \"carpet\": [{\"aaxis\": {\"endlinecolor\": \"#2a3f5f\", \"gridcolor\": \"#C8D4E3\", \"linecolor\": \"#C8D4E3\", \"minorgridcolor\": \"#C8D4E3\", \"startlinecolor\": \"#2a3f5f\"}, \"baxis\": {\"endlinecolor\": \"#2a3f5f\", \"gridcolor\": \"#C8D4E3\", \"linecolor\": \"#C8D4E3\", \"minorgridcolor\": \"#C8D4E3\", \"startlinecolor\": \"#2a3f5f\"}, \"type\": \"carpet\"}], \"choropleth\": [{\"colorbar\": {\"outlinewidth\": 0, \"ticks\": \"\"}, \"type\": \"choropleth\"}], \"contour\": [{\"colorbar\": {\"outlinewidth\": 0, \"ticks\": \"\"}, \"colorscale\": [[0.0, \"#0d0887\"], [0.1111111111111111, \"#46039f\"], [0.2222222222222222, \"#7201a8\"], [0.3333333333333333, \"#9c179e\"], [0.4444444444444444, \"#bd3786\"], [0.5555555555555556, \"#d8576b\"], [0.6666666666666666, \"#ed7953\"], [0.7777777777777778, \"#fb9f3a\"], [0.8888888888888888, \"#fdca26\"], [1.0, \"#f0f921\"]], \"type\": \"contour\"}], \"contourcarpet\": [{\"colorbar\": {\"outlinewidth\": 0, \"ticks\": \"\"}, \"type\": \"contourcarpet\"}], \"heatmap\": [{\"colorbar\": {\"outlinewidth\": 0, \"ticks\": \"\"}, \"colorscale\": [[0.0, \"#0d0887\"], [0.1111111111111111, \"#46039f\"], [0.2222222222222222, \"#7201a8\"], [0.3333333333333333, \"#9c179e\"], [0.4444444444444444, \"#bd3786\"], [0.5555555555555556, \"#d8576b\"], [0.6666666666666666, \"#ed7953\"], [0.7777777777777778, \"#fb9f3a\"], [0.8888888888888888, \"#fdca26\"], [1.0, \"#f0f921\"]], \"type\": \"heatmap\"}], \"heatmapgl\": [{\"colorbar\": {\"outlinewidth\": 0, \"ticks\": \"\"}, \"colorscale\": [[0.0, \"#0d0887\"], [0.1111111111111111, \"#46039f\"], [0.2222222222222222, \"#7201a8\"], [0.3333333333333333, \"#9c179e\"], [0.4444444444444444, \"#bd3786\"], [0.5555555555555556, \"#d8576b\"], [0.6666666666666666, \"#ed7953\"], [0.7777777777777778, \"#fb9f3a\"], [0.8888888888888888, \"#fdca26\"], [1.0, \"#f0f921\"]], \"type\": \"heatmapgl\"}], \"histogram\": [{\"marker\": {\"colorbar\": {\"outlinewidth\": 0, \"ticks\": \"\"}}, \"type\": \"histogram\"}], \"histogram2d\": [{\"colorbar\": {\"outlinewidth\": 0, \"ticks\": \"\"}, \"colorscale\": [[0.0, \"#0d0887\"], [0.1111111111111111, \"#46039f\"], [0.2222222222222222, \"#7201a8\"], [0.3333333333333333, \"#9c179e\"], [0.4444444444444444, \"#bd3786\"], [0.5555555555555556, \"#d8576b\"], [0.6666666666666666, \"#ed7953\"], [0.7777777777777778, \"#fb9f3a\"], [0.8888888888888888, \"#fdca26\"], [1.0, \"#f0f921\"]], \"type\": \"histogram2d\"}], \"histogram2dcontour\": [{\"colorbar\": {\"outlinewidth\": 0, \"ticks\": \"\"}, \"colorscale\": [[0.0, \"#0d0887\"], [0.1111111111111111, \"#46039f\"], [0.2222222222222222, \"#7201a8\"], [0.3333333333333333, \"#9c179e\"], [0.4444444444444444, \"#bd3786\"], [0.5555555555555556, \"#d8576b\"], [0.6666666666666666, \"#ed7953\"], [0.7777777777777778, \"#fb9f3a\"], [0.8888888888888888, \"#fdca26\"], [1.0, \"#f0f921\"]], \"type\": \"histogram2dcontour\"}], \"mesh3d\": [{\"colorbar\": {\"outlinewidth\": 0, \"ticks\": \"\"}, \"type\": \"mesh3d\"}], \"parcoords\": [{\"line\": {\"colorbar\": {\"outlinewidth\": 0, \"ticks\": \"\"}}, \"type\": \"parcoords\"}], \"pie\": [{\"automargin\": true, \"type\": \"pie\"}], \"scatter\": [{\"marker\": {\"colorbar\": {\"outlinewidth\": 0, \"ticks\": \"\"}}, \"type\": \"scatter\"}], \"scatter3d\": [{\"line\": {\"colorbar\": {\"outlinewidth\": 0, \"ticks\": \"\"}}, \"marker\": {\"colorbar\": {\"outlinewidth\": 0, \"ticks\": \"\"}}, \"type\": \"scatter3d\"}], \"scattercarpet\": [{\"marker\": {\"colorbar\": {\"outlinewidth\": 0, \"ticks\": \"\"}}, \"type\": \"scattercarpet\"}], \"scattergeo\": [{\"marker\": {\"colorbar\": {\"outlinewidth\": 0, \"ticks\": \"\"}}, \"type\": \"scattergeo\"}], \"scattergl\": [{\"marker\": {\"colorbar\": {\"outlinewidth\": 0, \"ticks\": \"\"}}, \"type\": \"scattergl\"}], \"scattermapbox\": [{\"marker\": {\"colorbar\": {\"outlinewidth\": 0, \"ticks\": \"\"}}, \"type\": \"scattermapbox\"}], \"scatterpolar\": [{\"marker\": {\"colorbar\": {\"outlinewidth\": 0, \"ticks\": \"\"}}, \"type\": \"scatterpolar\"}], \"scatterpolargl\": [{\"marker\": {\"colorbar\": {\"outlinewidth\": 0, \"ticks\": \"\"}}, \"type\": \"scatterpolargl\"}], \"scatterternary\": [{\"marker\": {\"colorbar\": {\"outlinewidth\": 0, \"ticks\": \"\"}}, \"type\": \"scatterternary\"}], \"surface\": [{\"colorbar\": {\"outlinewidth\": 0, \"ticks\": \"\"}, \"colorscale\": [[0.0, \"#0d0887\"], [0.1111111111111111, \"#46039f\"], [0.2222222222222222, \"#7201a8\"], [0.3333333333333333, \"#9c179e\"], [0.4444444444444444, \"#bd3786\"], [0.5555555555555556, \"#d8576b\"], [0.6666666666666666, \"#ed7953\"], [0.7777777777777778, \"#fb9f3a\"], [0.8888888888888888, \"#fdca26\"], [1.0, \"#f0f921\"]], \"type\": \"surface\"}], \"table\": [{\"cells\": {\"fill\": {\"color\": \"#EBF0F8\"}, \"line\": {\"color\": \"white\"}}, \"header\": {\"fill\": {\"color\": \"#C8D4E3\"}, \"line\": {\"color\": \"white\"}}, \"type\": \"table\"}]}, \"layout\": {\"annotationdefaults\": {\"arrowcolor\": \"#2a3f5f\", \"arrowhead\": 0, \"arrowwidth\": 1}, \"coloraxis\": {\"colorbar\": {\"outlinewidth\": 0, \"ticks\": \"\"}}, \"colorscale\": {\"diverging\": [[0, \"#8e0152\"], [0.1, \"#c51b7d\"], [0.2, \"#de77ae\"], [0.3, \"#f1b6da\"], [0.4, \"#fde0ef\"], [0.5, \"#f7f7f7\"], [0.6, \"#e6f5d0\"], [0.7, \"#b8e186\"], [0.8, \"#7fbc41\"], [0.9, \"#4d9221\"], [1, \"#276419\"]], \"sequential\": [[0.0, \"#0d0887\"], [0.1111111111111111, \"#46039f\"], [0.2222222222222222, \"#7201a8\"], [0.3333333333333333, \"#9c179e\"], [0.4444444444444444, \"#bd3786\"], [0.5555555555555556, \"#d8576b\"], [0.6666666666666666, \"#ed7953\"], [0.7777777777777778, \"#fb9f3a\"], [0.8888888888888888, \"#fdca26\"], [1.0, \"#f0f921\"]], \"sequentialminus\": [[0.0, \"#0d0887\"], [0.1111111111111111, \"#46039f\"], [0.2222222222222222, \"#7201a8\"], [0.3333333333333333, \"#9c179e\"], [0.4444444444444444, \"#bd3786\"], [0.5555555555555556, \"#d8576b\"], [0.6666666666666666, \"#ed7953\"], [0.7777777777777778, \"#fb9f3a\"], [0.8888888888888888, \"#fdca26\"], [1.0, \"#f0f921\"]]}, \"colorway\": [\"#636efa\", \"#EF553B\", \"#00cc96\", \"#ab63fa\", \"#FFA15A\", \"#19d3f3\", \"#FF6692\", \"#B6E880\", \"#FF97FF\", \"#FECB52\"], \"font\": {\"color\": \"#2a3f5f\"}, \"geo\": {\"bgcolor\": \"white\", \"lakecolor\": \"white\", \"landcolor\": \"white\", \"showlakes\": true, \"showland\": true, \"subunitcolor\": \"#C8D4E3\"}, \"hoverlabel\": {\"align\": \"left\"}, \"hovermode\": \"closest\", \"mapbox\": {\"style\": \"light\"}, \"paper_bgcolor\": \"white\", \"plot_bgcolor\": \"white\", \"polar\": {\"angularaxis\": {\"gridcolor\": \"#EBF0F8\", \"linecolor\": \"#EBF0F8\", \"ticks\": \"\"}, \"bgcolor\": \"white\", \"radialaxis\": {\"gridcolor\": \"#EBF0F8\", \"linecolor\": \"#EBF0F8\", \"ticks\": \"\"}}, \"scene\": {\"xaxis\": {\"backgroundcolor\": \"white\", \"gridcolor\": \"#DFE8F3\", \"gridwidth\": 2, \"linecolor\": \"#EBF0F8\", \"showbackground\": true, \"ticks\": \"\", \"zerolinecolor\": \"#EBF0F8\"}, \"yaxis\": {\"backgroundcolor\": \"white\", \"gridcolor\": \"#DFE8F3\", \"gridwidth\": 2, \"linecolor\": \"#EBF0F8\", \"showbackground\": true, \"ticks\": \"\", \"zerolinecolor\": \"#EBF0F8\"}, \"zaxis\": {\"backgroundcolor\": \"white\", \"gridcolor\": \"#DFE8F3\", \"gridwidth\": 2, \"linecolor\": \"#EBF0F8\", \"showbackground\": true, \"ticks\": \"\", \"zerolinecolor\": \"#EBF0F8\"}}, \"shapedefaults\": {\"line\": {\"color\": \"#2a3f5f\"}}, \"ternary\": {\"aaxis\": {\"gridcolor\": \"#DFE8F3\", \"linecolor\": \"#A2B1C6\", \"ticks\": \"\"}, \"baxis\": {\"gridcolor\": \"#DFE8F3\", \"linecolor\": \"#A2B1C6\", \"ticks\": \"\"}, \"bgcolor\": \"white\", \"caxis\": {\"gridcolor\": \"#DFE8F3\", \"linecolor\": \"#A2B1C6\", \"ticks\": \"\"}}, \"title\": {\"x\": 0.05}, \"xaxis\": {\"automargin\": true, \"gridcolor\": \"#EBF0F8\", \"linecolor\": \"#EBF0F8\", \"ticks\": \"\", \"title\": {\"standoff\": 15}, \"zerolinecolor\": \"#EBF0F8\", \"zerolinewidth\": 2}, \"yaxis\": {\"automargin\": true, \"gridcolor\": \"#EBF0F8\", \"linecolor\": \"#EBF0F8\", \"ticks\": \"\", \"title\": {\"standoff\": 15}, \"zerolinecolor\": \"#EBF0F8\", \"zerolinewidth\": 2}}}, \"title\": {\"text\": \"Quick Test on Spain Teams data\"}, \"xaxis\": {\"anchor\": \"y\", \"categoryarray\": [\"Real Madrid\", \"FC Barcelona\", \"Atl\\u00e9tico Madrid\", \"Sevilla FC\", \"Valencia CF\", \"Real Betis\", \"Athletic Club de Bilbao\", \"Villarreal CF\", \"Real Sociedad\", \"RC Celta\", \"Girona FC\", \"SD Eibar\", \"Getafe CF\", \"RCD Espanyol\", \"Levante UD\", \"Deportivo Alav\\u00e9s\", \"CD Legan\\u00e9s\", \"Rayo Vallecano\", \"Real Valladolid CF\", \"SD Huesca\"], \"categoryorder\": \"array\", \"domain\": [0.0, 1.0], \"title\": {\"text\": \"Name\"}}, \"yaxis\": {\"anchor\": \"x\", \"domain\": [0.0, 1.0], \"title\": {\"text\": \"Transfer Budget\"}}},\n",
       "                        {\"responsive\": true}\n",
       "                    ).then(function(){\n",
       "                            \n",
       "var gd = document.getElementById('967a9e51-8615-4818-9ba1-298ba64563d9');\n",
       "var x = new MutationObserver(function (mutations, observer) {{\n",
       "        var display = window.getComputedStyle(gd).display;\n",
       "        if (!display || display === 'none') {{\n",
       "            console.log([gd, 'removed!']);\n",
       "            Plotly.purge(gd);\n",
       "            observer.disconnect();\n",
       "        }}\n",
       "}});\n",
       "\n",
       "// Listen for the removal of the full notebook cells\n",
       "var notebookContainer = gd.closest('#notebook-container');\n",
       "if (notebookContainer) {{\n",
       "    x.observe(notebookContainer, {childList: true});\n",
       "}}\n",
       "\n",
       "// Listen for the clearing of the current output cell\n",
       "var outputEl = gd.closest('.output');\n",
       "if (outputEl) {{\n",
       "    x.observe(outputEl, {childList: true});\n",
       "}}\n",
       "\n",
       "                        })\n",
       "                };\n",
       "                });\n",
       "            </script>\n",
       "        </div>"
      ]
     },
     "metadata": {},
     "output_type": "display_data"
    },
    {
     "data": {
      "application/vnd.plotly.v1+json": {
       "config": {
        "plotlyServerURL": "https://plot.ly"
       },
       "data": [
        {
         "customdata": [
          [
           10,
           33,
           10
          ]
         ],
         "hovertemplate": "Name=%{x}<br>Transfer Budget=%{y}<br>International Prestige=%{customdata[0]}<br>Players=%{customdata[1]}<br>Domestic Presstige=%{customdata[2]}<extra></extra>",
         "legendgroup": "Real Madrid",
         "marker": {
          "color": "#636efa",
          "symbol": "circle"
         },
         "mode": "markers",
         "name": "Real Madrid",
         "showlegend": true,
         "type": "scatter",
         "x": [
          "Real Madrid"
         ],
         "xaxis": "x",
         "y": [
          188500000
         ],
         "yaxis": "y"
        },
        {
         "customdata": [
          [
           10,
           33,
           10
          ]
         ],
         "hovertemplate": "Name=%{x}<br>Transfer Budget=%{y}<br>International Prestige=%{customdata[0]}<br>Players=%{customdata[1]}<br>Domestic Presstige=%{customdata[2]}<extra></extra>",
         "legendgroup": "FC Barcelona",
         "marker": {
          "color": "#EF553B",
          "symbol": "circle"
         },
         "mode": "markers",
         "name": "FC Barcelona",
         "showlegend": true,
         "type": "scatter",
         "x": [
          "FC Barcelona"
         ],
         "xaxis": "x",
         "y": [
          187900000
         ],
         "yaxis": "y"
        },
        {
         "customdata": [
          [
           9,
           33,
           9
          ]
         ],
         "hovertemplate": "Name=%{x}<br>Transfer Budget=%{y}<br>International Prestige=%{customdata[0]}<br>Players=%{customdata[1]}<br>Domestic Presstige=%{customdata[2]}<extra></extra>",
         "legendgroup": "Atlético Madrid",
         "marker": {
          "color": "#00cc96",
          "symbol": "circle"
         },
         "mode": "markers",
         "name": "Atlético Madrid",
         "showlegend": true,
         "type": "scatter",
         "x": [
          "Atlético Madrid"
         ],
         "xaxis": "x",
         "y": [
          68600000
         ],
         "yaxis": "y"
        },
        {
         "customdata": [
          [
           7,
           33,
           7
          ]
         ],
         "hovertemplate": "Name=%{x}<br>Transfer Budget=%{y}<br>International Prestige=%{customdata[0]}<br>Players=%{customdata[1]}<br>Domestic Presstige=%{customdata[2]}<extra></extra>",
         "legendgroup": "Sevilla FC",
         "marker": {
          "color": "#ab63fa",
          "symbol": "circle"
         },
         "mode": "markers",
         "name": "Sevilla FC",
         "showlegend": true,
         "type": "scatter",
         "x": [
          "Sevilla FC"
         ],
         "xaxis": "x",
         "y": [
          34500000
         ],
         "yaxis": "y"
        },
        {
         "customdata": [
          [
           6,
           33,
           8
          ]
         ],
         "hovertemplate": "Name=%{x}<br>Transfer Budget=%{y}<br>International Prestige=%{customdata[0]}<br>Players=%{customdata[1]}<br>Domestic Presstige=%{customdata[2]}<extra></extra>",
         "legendgroup": "Valencia CF",
         "marker": {
          "color": "#FFA15A",
          "symbol": "circle"
         },
         "mode": "markers",
         "name": "Valencia CF",
         "showlegend": true,
         "type": "scatter",
         "x": [
          "Valencia CF"
         ],
         "xaxis": "x",
         "y": [
          66300000
         ],
         "yaxis": "y"
        },
        {
         "customdata": [
          [
           2,
           32,
           5
          ]
         ],
         "hovertemplate": "Name=%{x}<br>Transfer Budget=%{y}<br>International Prestige=%{customdata[0]}<br>Players=%{customdata[1]}<br>Domestic Presstige=%{customdata[2]}<extra></extra>",
         "legendgroup": "Real Betis",
         "marker": {
          "color": "#19d3f3",
          "symbol": "circle"
         },
         "mode": "markers",
         "name": "Real Betis",
         "showlegend": true,
         "type": "scatter",
         "x": [
          "Real Betis"
         ],
         "xaxis": "x",
         "y": [
          16100000.000000002
         ],
         "yaxis": "y"
        },
        {
         "customdata": [
          [
           6,
           33,
           6
          ]
         ],
         "hovertemplate": "Name=%{x}<br>Transfer Budget=%{y}<br>International Prestige=%{customdata[0]}<br>Players=%{customdata[1]}<br>Domestic Presstige=%{customdata[2]}<extra></extra>",
         "legendgroup": "Athletic Club de Bilbao",
         "marker": {
          "color": "#FF6692",
          "symbol": "circle"
         },
         "mode": "markers",
         "name": "Athletic Club de Bilbao",
         "showlegend": true,
         "type": "scatter",
         "x": [
          "Athletic Club de Bilbao"
         ],
         "xaxis": "x",
         "y": [
          18500000
         ],
         "yaxis": "y"
        },
        {
         "customdata": [
          [
           7,
           33,
           8
          ]
         ],
         "hovertemplate": "Name=%{x}<br>Transfer Budget=%{y}<br>International Prestige=%{customdata[0]}<br>Players=%{customdata[1]}<br>Domestic Presstige=%{customdata[2]}<extra></extra>",
         "legendgroup": "Villarreal CF",
         "marker": {
          "color": "#B6E880",
          "symbol": "circle"
         },
         "mode": "markers",
         "name": "Villarreal CF",
         "showlegend": true,
         "type": "scatter",
         "x": [
          "Villarreal CF"
         ],
         "xaxis": "x",
         "y": [
          32900000
         ],
         "yaxis": "y"
        },
        {
         "customdata": [
          [
           3,
           33,
           5
          ]
         ],
         "hovertemplate": "Name=%{x}<br>Transfer Budget=%{y}<br>International Prestige=%{customdata[0]}<br>Players=%{customdata[1]}<br>Domestic Presstige=%{customdata[2]}<extra></extra>",
         "legendgroup": "Real Sociedad",
         "marker": {
          "color": "#FF97FF",
          "symbol": "circle"
         },
         "mode": "markers",
         "name": "Real Sociedad",
         "showlegend": true,
         "type": "scatter",
         "x": [
          "Real Sociedad"
         ],
         "xaxis": "x",
         "y": [
          15800000
         ],
         "yaxis": "y"
        },
        {
         "customdata": [
          [
           4,
           33,
           5
          ]
         ],
         "hovertemplate": "Name=%{x}<br>Transfer Budget=%{y}<br>International Prestige=%{customdata[0]}<br>Players=%{customdata[1]}<br>Domestic Presstige=%{customdata[2]}<extra></extra>",
         "legendgroup": "RC Celta",
         "marker": {
          "color": "#FECB52",
          "symbol": "circle"
         },
         "mode": "markers",
         "name": "RC Celta",
         "showlegend": true,
         "type": "scatter",
         "x": [
          "RC Celta"
         ],
         "xaxis": "x",
         "y": [
          11800000
         ],
         "yaxis": "y"
        },
        {
         "customdata": [
          [
           1,
           33,
           4
          ]
         ],
         "hovertemplate": "Name=%{x}<br>Transfer Budget=%{y}<br>International Prestige=%{customdata[0]}<br>Players=%{customdata[1]}<br>Domestic Presstige=%{customdata[2]}<extra></extra>",
         "legendgroup": "Girona FC",
         "marker": {
          "color": "#636efa",
          "symbol": "circle"
         },
         "mode": "markers",
         "name": "Girona FC",
         "showlegend": true,
         "type": "scatter",
         "x": [
          "Girona FC"
         ],
         "xaxis": "x",
         "y": [
          3900000
         ],
         "yaxis": "y"
        },
        {
         "customdata": [
          [
           1,
           29,
           4
          ]
         ],
         "hovertemplate": "Name=%{x}<br>Transfer Budget=%{y}<br>International Prestige=%{customdata[0]}<br>Players=%{customdata[1]}<br>Domestic Presstige=%{customdata[2]}<extra></extra>",
         "legendgroup": "SD Eibar",
         "marker": {
          "color": "#EF553B",
          "symbol": "circle"
         },
         "mode": "markers",
         "name": "SD Eibar",
         "showlegend": true,
         "type": "scatter",
         "x": [
          "SD Eibar"
         ],
         "xaxis": "x",
         "y": [
          5400000
         ],
         "yaxis": "y"
        },
        {
         "customdata": [
          [
           2,
           28,
           5
          ]
         ],
         "hovertemplate": "Name=%{x}<br>Transfer Budget=%{y}<br>International Prestige=%{customdata[0]}<br>Players=%{customdata[1]}<br>Domestic Presstige=%{customdata[2]}<extra></extra>",
         "legendgroup": "Getafe CF",
         "marker": {
          "color": "#00cc96",
          "symbol": "circle"
         },
         "mode": "markers",
         "name": "Getafe CF",
         "showlegend": true,
         "type": "scatter",
         "x": [
          "Getafe CF"
         ],
         "xaxis": "x",
         "y": [
          5400000
         ],
         "yaxis": "y"
        },
        {
         "customdata": [
          [
           2,
           33,
           5
          ]
         ],
         "hovertemplate": "Name=%{x}<br>Transfer Budget=%{y}<br>International Prestige=%{customdata[0]}<br>Players=%{customdata[1]}<br>Domestic Presstige=%{customdata[2]}<extra></extra>",
         "legendgroup": "RCD Espanyol",
         "marker": {
          "color": "#ab63fa",
          "symbol": "circle"
         },
         "mode": "markers",
         "name": "RCD Espanyol",
         "showlegend": true,
         "type": "scatter",
         "x": [
          "RCD Espanyol"
         ],
         "xaxis": "x",
         "y": [
          10400000
         ],
         "yaxis": "y"
        },
        {
         "customdata": [
          [
           1,
           33,
           3
          ]
         ],
         "hovertemplate": "Name=%{x}<br>Transfer Budget=%{y}<br>International Prestige=%{customdata[0]}<br>Players=%{customdata[1]}<br>Domestic Presstige=%{customdata[2]}<extra></extra>",
         "legendgroup": "Levante UD",
         "marker": {
          "color": "#FFA15A",
          "symbol": "circle"
         },
         "mode": "markers",
         "name": "Levante UD",
         "showlegend": true,
         "type": "scatter",
         "x": [
          "Levante UD"
         ],
         "xaxis": "x",
         "y": [
          8199999.999999999
         ],
         "yaxis": "y"
        },
        {
         "customdata": [
          [
           1,
           27,
           3
          ]
         ],
         "hovertemplate": "Name=%{x}<br>Transfer Budget=%{y}<br>International Prestige=%{customdata[0]}<br>Players=%{customdata[1]}<br>Domestic Presstige=%{customdata[2]}<extra></extra>",
         "legendgroup": "Deportivo Alavés",
         "marker": {
          "color": "#19d3f3",
          "symbol": "circle"
         },
         "mode": "markers",
         "name": "Deportivo Alavés",
         "showlegend": true,
         "type": "scatter",
         "x": [
          "Deportivo Alavés"
         ],
         "xaxis": "x",
         "y": [
          4400000
         ],
         "yaxis": "y"
        },
        {
         "customdata": [
          [
           1,
           31,
           4
          ]
         ],
         "hovertemplate": "Name=%{x}<br>Transfer Budget=%{y}<br>International Prestige=%{customdata[0]}<br>Players=%{customdata[1]}<br>Domestic Presstige=%{customdata[2]}<extra></extra>",
         "legendgroup": "CD Leganés",
         "marker": {
          "color": "#FF6692",
          "symbol": "circle"
         },
         "mode": "markers",
         "name": "CD Leganés",
         "showlegend": true,
         "type": "scatter",
         "x": [
          "CD Leganés"
         ],
         "xaxis": "x",
         "y": [
          4200000
         ],
         "yaxis": "y"
        },
        {
         "customdata": [
          [
           1,
           33,
           2
          ]
         ],
         "hovertemplate": "Name=%{x}<br>Transfer Budget=%{y}<br>International Prestige=%{customdata[0]}<br>Players=%{customdata[1]}<br>Domestic Presstige=%{customdata[2]}<extra></extra>",
         "legendgroup": "Rayo Vallecano",
         "marker": {
          "color": "#B6E880",
          "symbol": "circle"
         },
         "mode": "markers",
         "name": "Rayo Vallecano",
         "showlegend": true,
         "type": "scatter",
         "x": [
          "Rayo Vallecano"
         ],
         "xaxis": "x",
         "y": [
          3300000
         ],
         "yaxis": "y"
        },
        {
         "customdata": [
          [
           1,
           33,
           2
          ]
         ],
         "hovertemplate": "Name=%{x}<br>Transfer Budget=%{y}<br>International Prestige=%{customdata[0]}<br>Players=%{customdata[1]}<br>Domestic Presstige=%{customdata[2]}<extra></extra>",
         "legendgroup": "Real Valladolid CF",
         "marker": {
          "color": "#FF97FF",
          "symbol": "circle"
         },
         "mode": "markers",
         "name": "Real Valladolid CF",
         "showlegend": true,
         "type": "scatter",
         "x": [
          "Real Valladolid CF"
         ],
         "xaxis": "x",
         "y": [
          3100000
         ],
         "yaxis": "y"
        },
        {
         "customdata": [
          [
           1,
           31,
           2
          ]
         ],
         "hovertemplate": "Name=%{x}<br>Transfer Budget=%{y}<br>International Prestige=%{customdata[0]}<br>Players=%{customdata[1]}<br>Domestic Presstige=%{customdata[2]}<extra></extra>",
         "legendgroup": "SD Huesca",
         "marker": {
          "color": "#FECB52",
          "symbol": "circle"
         },
         "mode": "markers",
         "name": "SD Huesca",
         "showlegend": true,
         "type": "scatter",
         "x": [
          "SD Huesca"
         ],
         "xaxis": "x",
         "y": [
          2100000
         ],
         "yaxis": "y"
        }
       ],
       "layout": {
        "legend": {
         "title": {
          "text": "Name"
         },
         "tracegroupgap": 0
        },
        "margin": {
         "t": 60
        },
        "template": {
         "data": {
          "bar": [
           {
            "error_x": {
             "color": "#2a3f5f"
            },
            "error_y": {
             "color": "#2a3f5f"
            },
            "marker": {
             "line": {
              "color": "white",
              "width": 0.5
             }
            },
            "type": "bar"
           }
          ],
          "barpolar": [
           {
            "marker": {
             "line": {
              "color": "white",
              "width": 0.5
             }
            },
            "type": "barpolar"
           }
          ],
          "carpet": [
           {
            "aaxis": {
             "endlinecolor": "#2a3f5f",
             "gridcolor": "#C8D4E3",
             "linecolor": "#C8D4E3",
             "minorgridcolor": "#C8D4E3",
             "startlinecolor": "#2a3f5f"
            },
            "baxis": {
             "endlinecolor": "#2a3f5f",
             "gridcolor": "#C8D4E3",
             "linecolor": "#C8D4E3",
             "minorgridcolor": "#C8D4E3",
             "startlinecolor": "#2a3f5f"
            },
            "type": "carpet"
           }
          ],
          "choropleth": [
           {
            "colorbar": {
             "outlinewidth": 0,
             "ticks": ""
            },
            "type": "choropleth"
           }
          ],
          "contour": [
           {
            "colorbar": {
             "outlinewidth": 0,
             "ticks": ""
            },
            "colorscale": [
             [
              0,
              "#0d0887"
             ],
             [
              0.1111111111111111,
              "#46039f"
             ],
             [
              0.2222222222222222,
              "#7201a8"
             ],
             [
              0.3333333333333333,
              "#9c179e"
             ],
             [
              0.4444444444444444,
              "#bd3786"
             ],
             [
              0.5555555555555556,
              "#d8576b"
             ],
             [
              0.6666666666666666,
              "#ed7953"
             ],
             [
              0.7777777777777778,
              "#fb9f3a"
             ],
             [
              0.8888888888888888,
              "#fdca26"
             ],
             [
              1,
              "#f0f921"
             ]
            ],
            "type": "contour"
           }
          ],
          "contourcarpet": [
           {
            "colorbar": {
             "outlinewidth": 0,
             "ticks": ""
            },
            "type": "contourcarpet"
           }
          ],
          "heatmap": [
           {
            "colorbar": {
             "outlinewidth": 0,
             "ticks": ""
            },
            "colorscale": [
             [
              0,
              "#0d0887"
             ],
             [
              0.1111111111111111,
              "#46039f"
             ],
             [
              0.2222222222222222,
              "#7201a8"
             ],
             [
              0.3333333333333333,
              "#9c179e"
             ],
             [
              0.4444444444444444,
              "#bd3786"
             ],
             [
              0.5555555555555556,
              "#d8576b"
             ],
             [
              0.6666666666666666,
              "#ed7953"
             ],
             [
              0.7777777777777778,
              "#fb9f3a"
             ],
             [
              0.8888888888888888,
              "#fdca26"
             ],
             [
              1,
              "#f0f921"
             ]
            ],
            "type": "heatmap"
           }
          ],
          "heatmapgl": [
           {
            "colorbar": {
             "outlinewidth": 0,
             "ticks": ""
            },
            "colorscale": [
             [
              0,
              "#0d0887"
             ],
             [
              0.1111111111111111,
              "#46039f"
             ],
             [
              0.2222222222222222,
              "#7201a8"
             ],
             [
              0.3333333333333333,
              "#9c179e"
             ],
             [
              0.4444444444444444,
              "#bd3786"
             ],
             [
              0.5555555555555556,
              "#d8576b"
             ],
             [
              0.6666666666666666,
              "#ed7953"
             ],
             [
              0.7777777777777778,
              "#fb9f3a"
             ],
             [
              0.8888888888888888,
              "#fdca26"
             ],
             [
              1,
              "#f0f921"
             ]
            ],
            "type": "heatmapgl"
           }
          ],
          "histogram": [
           {
            "marker": {
             "colorbar": {
              "outlinewidth": 0,
              "ticks": ""
             }
            },
            "type": "histogram"
           }
          ],
          "histogram2d": [
           {
            "colorbar": {
             "outlinewidth": 0,
             "ticks": ""
            },
            "colorscale": [
             [
              0,
              "#0d0887"
             ],
             [
              0.1111111111111111,
              "#46039f"
             ],
             [
              0.2222222222222222,
              "#7201a8"
             ],
             [
              0.3333333333333333,
              "#9c179e"
             ],
             [
              0.4444444444444444,
              "#bd3786"
             ],
             [
              0.5555555555555556,
              "#d8576b"
             ],
             [
              0.6666666666666666,
              "#ed7953"
             ],
             [
              0.7777777777777778,
              "#fb9f3a"
             ],
             [
              0.8888888888888888,
              "#fdca26"
             ],
             [
              1,
              "#f0f921"
             ]
            ],
            "type": "histogram2d"
           }
          ],
          "histogram2dcontour": [
           {
            "colorbar": {
             "outlinewidth": 0,
             "ticks": ""
            },
            "colorscale": [
             [
              0,
              "#0d0887"
             ],
             [
              0.1111111111111111,
              "#46039f"
             ],
             [
              0.2222222222222222,
              "#7201a8"
             ],
             [
              0.3333333333333333,
              "#9c179e"
             ],
             [
              0.4444444444444444,
              "#bd3786"
             ],
             [
              0.5555555555555556,
              "#d8576b"
             ],
             [
              0.6666666666666666,
              "#ed7953"
             ],
             [
              0.7777777777777778,
              "#fb9f3a"
             ],
             [
              0.8888888888888888,
              "#fdca26"
             ],
             [
              1,
              "#f0f921"
             ]
            ],
            "type": "histogram2dcontour"
           }
          ],
          "mesh3d": [
           {
            "colorbar": {
             "outlinewidth": 0,
             "ticks": ""
            },
            "type": "mesh3d"
           }
          ],
          "parcoords": [
           {
            "line": {
             "colorbar": {
              "outlinewidth": 0,
              "ticks": ""
             }
            },
            "type": "parcoords"
           }
          ],
          "pie": [
           {
            "automargin": true,
            "type": "pie"
           }
          ],
          "scatter": [
           {
            "marker": {
             "colorbar": {
              "outlinewidth": 0,
              "ticks": ""
             }
            },
            "type": "scatter"
           }
          ],
          "scatter3d": [
           {
            "line": {
             "colorbar": {
              "outlinewidth": 0,
              "ticks": ""
             }
            },
            "marker": {
             "colorbar": {
              "outlinewidth": 0,
              "ticks": ""
             }
            },
            "type": "scatter3d"
           }
          ],
          "scattercarpet": [
           {
            "marker": {
             "colorbar": {
              "outlinewidth": 0,
              "ticks": ""
             }
            },
            "type": "scattercarpet"
           }
          ],
          "scattergeo": [
           {
            "marker": {
             "colorbar": {
              "outlinewidth": 0,
              "ticks": ""
             }
            },
            "type": "scattergeo"
           }
          ],
          "scattergl": [
           {
            "marker": {
             "colorbar": {
              "outlinewidth": 0,
              "ticks": ""
             }
            },
            "type": "scattergl"
           }
          ],
          "scattermapbox": [
           {
            "marker": {
             "colorbar": {
              "outlinewidth": 0,
              "ticks": ""
             }
            },
            "type": "scattermapbox"
           }
          ],
          "scatterpolar": [
           {
            "marker": {
             "colorbar": {
              "outlinewidth": 0,
              "ticks": ""
             }
            },
            "type": "scatterpolar"
           }
          ],
          "scatterpolargl": [
           {
            "marker": {
             "colorbar": {
              "outlinewidth": 0,
              "ticks": ""
             }
            },
            "type": "scatterpolargl"
           }
          ],
          "scatterternary": [
           {
            "marker": {
             "colorbar": {
              "outlinewidth": 0,
              "ticks": ""
             }
            },
            "type": "scatterternary"
           }
          ],
          "surface": [
           {
            "colorbar": {
             "outlinewidth": 0,
             "ticks": ""
            },
            "colorscale": [
             [
              0,
              "#0d0887"
             ],
             [
              0.1111111111111111,
              "#46039f"
             ],
             [
              0.2222222222222222,
              "#7201a8"
             ],
             [
              0.3333333333333333,
              "#9c179e"
             ],
             [
              0.4444444444444444,
              "#bd3786"
             ],
             [
              0.5555555555555556,
              "#d8576b"
             ],
             [
              0.6666666666666666,
              "#ed7953"
             ],
             [
              0.7777777777777778,
              "#fb9f3a"
             ],
             [
              0.8888888888888888,
              "#fdca26"
             ],
             [
              1,
              "#f0f921"
             ]
            ],
            "type": "surface"
           }
          ],
          "table": [
           {
            "cells": {
             "fill": {
              "color": "#EBF0F8"
             },
             "line": {
              "color": "white"
             }
            },
            "header": {
             "fill": {
              "color": "#C8D4E3"
             },
             "line": {
              "color": "white"
             }
            },
            "type": "table"
           }
          ]
         },
         "layout": {
          "annotationdefaults": {
           "arrowcolor": "#2a3f5f",
           "arrowhead": 0,
           "arrowwidth": 1
          },
          "coloraxis": {
           "colorbar": {
            "outlinewidth": 0,
            "ticks": ""
           }
          },
          "colorscale": {
           "diverging": [
            [
             0,
             "#8e0152"
            ],
            [
             0.1,
             "#c51b7d"
            ],
            [
             0.2,
             "#de77ae"
            ],
            [
             0.3,
             "#f1b6da"
            ],
            [
             0.4,
             "#fde0ef"
            ],
            [
             0.5,
             "#f7f7f7"
            ],
            [
             0.6,
             "#e6f5d0"
            ],
            [
             0.7,
             "#b8e186"
            ],
            [
             0.8,
             "#7fbc41"
            ],
            [
             0.9,
             "#4d9221"
            ],
            [
             1,
             "#276419"
            ]
           ],
           "sequential": [
            [
             0,
             "#0d0887"
            ],
            [
             0.1111111111111111,
             "#46039f"
            ],
            [
             0.2222222222222222,
             "#7201a8"
            ],
            [
             0.3333333333333333,
             "#9c179e"
            ],
            [
             0.4444444444444444,
             "#bd3786"
            ],
            [
             0.5555555555555556,
             "#d8576b"
            ],
            [
             0.6666666666666666,
             "#ed7953"
            ],
            [
             0.7777777777777778,
             "#fb9f3a"
            ],
            [
             0.8888888888888888,
             "#fdca26"
            ],
            [
             1,
             "#f0f921"
            ]
           ],
           "sequentialminus": [
            [
             0,
             "#0d0887"
            ],
            [
             0.1111111111111111,
             "#46039f"
            ],
            [
             0.2222222222222222,
             "#7201a8"
            ],
            [
             0.3333333333333333,
             "#9c179e"
            ],
            [
             0.4444444444444444,
             "#bd3786"
            ],
            [
             0.5555555555555556,
             "#d8576b"
            ],
            [
             0.6666666666666666,
             "#ed7953"
            ],
            [
             0.7777777777777778,
             "#fb9f3a"
            ],
            [
             0.8888888888888888,
             "#fdca26"
            ],
            [
             1,
             "#f0f921"
            ]
           ]
          },
          "colorway": [
           "#636efa",
           "#EF553B",
           "#00cc96",
           "#ab63fa",
           "#FFA15A",
           "#19d3f3",
           "#FF6692",
           "#B6E880",
           "#FF97FF",
           "#FECB52"
          ],
          "font": {
           "color": "#2a3f5f"
          },
          "geo": {
           "bgcolor": "white",
           "lakecolor": "white",
           "landcolor": "white",
           "showlakes": true,
           "showland": true,
           "subunitcolor": "#C8D4E3"
          },
          "hoverlabel": {
           "align": "left"
          },
          "hovermode": "closest",
          "mapbox": {
           "style": "light"
          },
          "paper_bgcolor": "white",
          "plot_bgcolor": "white",
          "polar": {
           "angularaxis": {
            "gridcolor": "#EBF0F8",
            "linecolor": "#EBF0F8",
            "ticks": ""
           },
           "bgcolor": "white",
           "radialaxis": {
            "gridcolor": "#EBF0F8",
            "linecolor": "#EBF0F8",
            "ticks": ""
           }
          },
          "scene": {
           "xaxis": {
            "backgroundcolor": "white",
            "gridcolor": "#DFE8F3",
            "gridwidth": 2,
            "linecolor": "#EBF0F8",
            "showbackground": true,
            "ticks": "",
            "zerolinecolor": "#EBF0F8"
           },
           "yaxis": {
            "backgroundcolor": "white",
            "gridcolor": "#DFE8F3",
            "gridwidth": 2,
            "linecolor": "#EBF0F8",
            "showbackground": true,
            "ticks": "",
            "zerolinecolor": "#EBF0F8"
           },
           "zaxis": {
            "backgroundcolor": "white",
            "gridcolor": "#DFE8F3",
            "gridwidth": 2,
            "linecolor": "#EBF0F8",
            "showbackground": true,
            "ticks": "",
            "zerolinecolor": "#EBF0F8"
           }
          },
          "shapedefaults": {
           "line": {
            "color": "#2a3f5f"
           }
          },
          "ternary": {
           "aaxis": {
            "gridcolor": "#DFE8F3",
            "linecolor": "#A2B1C6",
            "ticks": ""
           },
           "baxis": {
            "gridcolor": "#DFE8F3",
            "linecolor": "#A2B1C6",
            "ticks": ""
           },
           "bgcolor": "white",
           "caxis": {
            "gridcolor": "#DFE8F3",
            "linecolor": "#A2B1C6",
            "ticks": ""
           }
          },
          "title": {
           "x": 0.05
          },
          "xaxis": {
           "automargin": true,
           "gridcolor": "#EBF0F8",
           "linecolor": "#EBF0F8",
           "ticks": "",
           "title": {
            "standoff": 15
           },
           "zerolinecolor": "#EBF0F8",
           "zerolinewidth": 2
          },
          "yaxis": {
           "automargin": true,
           "gridcolor": "#EBF0F8",
           "linecolor": "#EBF0F8",
           "ticks": "",
           "title": {
            "standoff": 15
           },
           "zerolinecolor": "#EBF0F8",
           "zerolinewidth": 2
          }
         }
        },
        "title": {
         "text": "Quick Test on Spain Teams data"
        },
        "xaxis": {
         "anchor": "y",
         "categoryarray": [
          "Real Madrid",
          "FC Barcelona",
          "Atlético Madrid",
          "Sevilla FC",
          "Valencia CF",
          "Real Betis",
          "Athletic Club de Bilbao",
          "Villarreal CF",
          "Real Sociedad",
          "RC Celta",
          "Girona FC",
          "SD Eibar",
          "Getafe CF",
          "RCD Espanyol",
          "Levante UD",
          "Deportivo Alavés",
          "CD Leganés",
          "Rayo Vallecano",
          "Real Valladolid CF",
          "SD Huesca"
         ],
         "categoryorder": "array",
         "domain": [
          0,
          1
         ],
         "title": {
          "text": "Name"
         }
        },
        "yaxis": {
         "anchor": "x",
         "domain": [
          0,
          1
         ],
         "title": {
          "text": "Transfer Budget"
         }
        }
       }
      },
      "text/html": [
       "<div>\n",
       "        \n",
       "        \n",
       "            <div id=\"d9410ecf-c860-4dbf-9daa-1c7f3dfbdb26\" class=\"plotly-graph-div\" style=\"height:525px; width:100%;\"></div>\n",
       "            <script type=\"text/javascript\">\n",
       "                require([\"plotly\"], function(Plotly) {\n",
       "                    window.PLOTLYENV=window.PLOTLYENV || {};\n",
       "                    \n",
       "                if (document.getElementById(\"d9410ecf-c860-4dbf-9daa-1c7f3dfbdb26\")) {\n",
       "                    Plotly.newPlot(\n",
       "                        'd9410ecf-c860-4dbf-9daa-1c7f3dfbdb26',\n",
       "                        [{\"customdata\": [[10, 33, 10]], \"hovertemplate\": \"Name=%{x}<br>Transfer Budget=%{y}<br>International Prestige=%{customdata[0]}<br>Players=%{customdata[1]}<br>Domestic Presstige=%{customdata[2]}<extra></extra>\", \"legendgroup\": \"Real Madrid\", \"marker\": {\"color\": \"#636efa\", \"symbol\": \"circle\"}, \"mode\": \"markers\", \"name\": \"Real Madrid\", \"showlegend\": true, \"type\": \"scatter\", \"x\": [\"Real Madrid\"], \"xaxis\": \"x\", \"y\": [188500000.0], \"yaxis\": \"y\"}, {\"customdata\": [[10, 33, 10]], \"hovertemplate\": \"Name=%{x}<br>Transfer Budget=%{y}<br>International Prestige=%{customdata[0]}<br>Players=%{customdata[1]}<br>Domestic Presstige=%{customdata[2]}<extra></extra>\", \"legendgroup\": \"FC Barcelona\", \"marker\": {\"color\": \"#EF553B\", \"symbol\": \"circle\"}, \"mode\": \"markers\", \"name\": \"FC Barcelona\", \"showlegend\": true, \"type\": \"scatter\", \"x\": [\"FC Barcelona\"], \"xaxis\": \"x\", \"y\": [187900000.0], \"yaxis\": \"y\"}, {\"customdata\": [[9, 33, 9]], \"hovertemplate\": \"Name=%{x}<br>Transfer Budget=%{y}<br>International Prestige=%{customdata[0]}<br>Players=%{customdata[1]}<br>Domestic Presstige=%{customdata[2]}<extra></extra>\", \"legendgroup\": \"Atl\\u00e9tico Madrid\", \"marker\": {\"color\": \"#00cc96\", \"symbol\": \"circle\"}, \"mode\": \"markers\", \"name\": \"Atl\\u00e9tico Madrid\", \"showlegend\": true, \"type\": \"scatter\", \"x\": [\"Atl\\u00e9tico Madrid\"], \"xaxis\": \"x\", \"y\": [68600000.0], \"yaxis\": \"y\"}, {\"customdata\": [[7, 33, 7]], \"hovertemplate\": \"Name=%{x}<br>Transfer Budget=%{y}<br>International Prestige=%{customdata[0]}<br>Players=%{customdata[1]}<br>Domestic Presstige=%{customdata[2]}<extra></extra>\", \"legendgroup\": \"Sevilla FC\", \"marker\": {\"color\": \"#ab63fa\", \"symbol\": \"circle\"}, \"mode\": \"markers\", \"name\": \"Sevilla FC\", \"showlegend\": true, \"type\": \"scatter\", \"x\": [\"Sevilla FC\"], \"xaxis\": \"x\", \"y\": [34500000.0], \"yaxis\": \"y\"}, {\"customdata\": [[6, 33, 8]], \"hovertemplate\": \"Name=%{x}<br>Transfer Budget=%{y}<br>International Prestige=%{customdata[0]}<br>Players=%{customdata[1]}<br>Domestic Presstige=%{customdata[2]}<extra></extra>\", \"legendgroup\": \"Valencia CF\", \"marker\": {\"color\": \"#FFA15A\", \"symbol\": \"circle\"}, \"mode\": \"markers\", \"name\": \"Valencia CF\", \"showlegend\": true, \"type\": \"scatter\", \"x\": [\"Valencia CF\"], \"xaxis\": \"x\", \"y\": [66300000.0], \"yaxis\": \"y\"}, {\"customdata\": [[2, 32, 5]], \"hovertemplate\": \"Name=%{x}<br>Transfer Budget=%{y}<br>International Prestige=%{customdata[0]}<br>Players=%{customdata[1]}<br>Domestic Presstige=%{customdata[2]}<extra></extra>\", \"legendgroup\": \"Real Betis\", \"marker\": {\"color\": \"#19d3f3\", \"symbol\": \"circle\"}, \"mode\": \"markers\", \"name\": \"Real Betis\", \"showlegend\": true, \"type\": \"scatter\", \"x\": [\"Real Betis\"], \"xaxis\": \"x\", \"y\": [16100000.000000002], \"yaxis\": \"y\"}, {\"customdata\": [[6, 33, 6]], \"hovertemplate\": \"Name=%{x}<br>Transfer Budget=%{y}<br>International Prestige=%{customdata[0]}<br>Players=%{customdata[1]}<br>Domestic Presstige=%{customdata[2]}<extra></extra>\", \"legendgroup\": \"Athletic Club de Bilbao\", \"marker\": {\"color\": \"#FF6692\", \"symbol\": \"circle\"}, \"mode\": \"markers\", \"name\": \"Athletic Club de Bilbao\", \"showlegend\": true, \"type\": \"scatter\", \"x\": [\"Athletic Club de Bilbao\"], \"xaxis\": \"x\", \"y\": [18500000.0], \"yaxis\": \"y\"}, {\"customdata\": [[7, 33, 8]], \"hovertemplate\": \"Name=%{x}<br>Transfer Budget=%{y}<br>International Prestige=%{customdata[0]}<br>Players=%{customdata[1]}<br>Domestic Presstige=%{customdata[2]}<extra></extra>\", \"legendgroup\": \"Villarreal CF\", \"marker\": {\"color\": \"#B6E880\", \"symbol\": \"circle\"}, \"mode\": \"markers\", \"name\": \"Villarreal CF\", \"showlegend\": true, \"type\": \"scatter\", \"x\": [\"Villarreal CF\"], \"xaxis\": \"x\", \"y\": [32900000.0], \"yaxis\": \"y\"}, {\"customdata\": [[3, 33, 5]], \"hovertemplate\": \"Name=%{x}<br>Transfer Budget=%{y}<br>International Prestige=%{customdata[0]}<br>Players=%{customdata[1]}<br>Domestic Presstige=%{customdata[2]}<extra></extra>\", \"legendgroup\": \"Real Sociedad\", \"marker\": {\"color\": \"#FF97FF\", \"symbol\": \"circle\"}, \"mode\": \"markers\", \"name\": \"Real Sociedad\", \"showlegend\": true, \"type\": \"scatter\", \"x\": [\"Real Sociedad\"], \"xaxis\": \"x\", \"y\": [15800000.0], \"yaxis\": \"y\"}, {\"customdata\": [[4, 33, 5]], \"hovertemplate\": \"Name=%{x}<br>Transfer Budget=%{y}<br>International Prestige=%{customdata[0]}<br>Players=%{customdata[1]}<br>Domestic Presstige=%{customdata[2]}<extra></extra>\", \"legendgroup\": \"RC Celta\", \"marker\": {\"color\": \"#FECB52\", \"symbol\": \"circle\"}, \"mode\": \"markers\", \"name\": \"RC Celta\", \"showlegend\": true, \"type\": \"scatter\", \"x\": [\"RC Celta\"], \"xaxis\": \"x\", \"y\": [11800000.0], \"yaxis\": \"y\"}, {\"customdata\": [[1, 33, 4]], \"hovertemplate\": \"Name=%{x}<br>Transfer Budget=%{y}<br>International Prestige=%{customdata[0]}<br>Players=%{customdata[1]}<br>Domestic Presstige=%{customdata[2]}<extra></extra>\", \"legendgroup\": \"Girona FC\", \"marker\": {\"color\": \"#636efa\", \"symbol\": \"circle\"}, \"mode\": \"markers\", \"name\": \"Girona FC\", \"showlegend\": true, \"type\": \"scatter\", \"x\": [\"Girona FC\"], \"xaxis\": \"x\", \"y\": [3900000.0], \"yaxis\": \"y\"}, {\"customdata\": [[1, 29, 4]], \"hovertemplate\": \"Name=%{x}<br>Transfer Budget=%{y}<br>International Prestige=%{customdata[0]}<br>Players=%{customdata[1]}<br>Domestic Presstige=%{customdata[2]}<extra></extra>\", \"legendgroup\": \"SD Eibar\", \"marker\": {\"color\": \"#EF553B\", \"symbol\": \"circle\"}, \"mode\": \"markers\", \"name\": \"SD Eibar\", \"showlegend\": true, \"type\": \"scatter\", \"x\": [\"SD Eibar\"], \"xaxis\": \"x\", \"y\": [5400000.0], \"yaxis\": \"y\"}, {\"customdata\": [[2, 28, 5]], \"hovertemplate\": \"Name=%{x}<br>Transfer Budget=%{y}<br>International Prestige=%{customdata[0]}<br>Players=%{customdata[1]}<br>Domestic Presstige=%{customdata[2]}<extra></extra>\", \"legendgroup\": \"Getafe CF\", \"marker\": {\"color\": \"#00cc96\", \"symbol\": \"circle\"}, \"mode\": \"markers\", \"name\": \"Getafe CF\", \"showlegend\": true, \"type\": \"scatter\", \"x\": [\"Getafe CF\"], \"xaxis\": \"x\", \"y\": [5400000.0], \"yaxis\": \"y\"}, {\"customdata\": [[2, 33, 5]], \"hovertemplate\": \"Name=%{x}<br>Transfer Budget=%{y}<br>International Prestige=%{customdata[0]}<br>Players=%{customdata[1]}<br>Domestic Presstige=%{customdata[2]}<extra></extra>\", \"legendgroup\": \"RCD Espanyol\", \"marker\": {\"color\": \"#ab63fa\", \"symbol\": \"circle\"}, \"mode\": \"markers\", \"name\": \"RCD Espanyol\", \"showlegend\": true, \"type\": \"scatter\", \"x\": [\"RCD Espanyol\"], \"xaxis\": \"x\", \"y\": [10400000.0], \"yaxis\": \"y\"}, {\"customdata\": [[1, 33, 3]], \"hovertemplate\": \"Name=%{x}<br>Transfer Budget=%{y}<br>International Prestige=%{customdata[0]}<br>Players=%{customdata[1]}<br>Domestic Presstige=%{customdata[2]}<extra></extra>\", \"legendgroup\": \"Levante UD\", \"marker\": {\"color\": \"#FFA15A\", \"symbol\": \"circle\"}, \"mode\": \"markers\", \"name\": \"Levante UD\", \"showlegend\": true, \"type\": \"scatter\", \"x\": [\"Levante UD\"], \"xaxis\": \"x\", \"y\": [8199999.999999999], \"yaxis\": \"y\"}, {\"customdata\": [[1, 27, 3]], \"hovertemplate\": \"Name=%{x}<br>Transfer Budget=%{y}<br>International Prestige=%{customdata[0]}<br>Players=%{customdata[1]}<br>Domestic Presstige=%{customdata[2]}<extra></extra>\", \"legendgroup\": \"Deportivo Alav\\u00e9s\", \"marker\": {\"color\": \"#19d3f3\", \"symbol\": \"circle\"}, \"mode\": \"markers\", \"name\": \"Deportivo Alav\\u00e9s\", \"showlegend\": true, \"type\": \"scatter\", \"x\": [\"Deportivo Alav\\u00e9s\"], \"xaxis\": \"x\", \"y\": [4400000.0], \"yaxis\": \"y\"}, {\"customdata\": [[1, 31, 4]], \"hovertemplate\": \"Name=%{x}<br>Transfer Budget=%{y}<br>International Prestige=%{customdata[0]}<br>Players=%{customdata[1]}<br>Domestic Presstige=%{customdata[2]}<extra></extra>\", \"legendgroup\": \"CD Legan\\u00e9s\", \"marker\": {\"color\": \"#FF6692\", \"symbol\": \"circle\"}, \"mode\": \"markers\", \"name\": \"CD Legan\\u00e9s\", \"showlegend\": true, \"type\": \"scatter\", \"x\": [\"CD Legan\\u00e9s\"], \"xaxis\": \"x\", \"y\": [4200000.0], \"yaxis\": \"y\"}, {\"customdata\": [[1, 33, 2]], \"hovertemplate\": \"Name=%{x}<br>Transfer Budget=%{y}<br>International Prestige=%{customdata[0]}<br>Players=%{customdata[1]}<br>Domestic Presstige=%{customdata[2]}<extra></extra>\", \"legendgroup\": \"Rayo Vallecano\", \"marker\": {\"color\": \"#B6E880\", \"symbol\": \"circle\"}, \"mode\": \"markers\", \"name\": \"Rayo Vallecano\", \"showlegend\": true, \"type\": \"scatter\", \"x\": [\"Rayo Vallecano\"], \"xaxis\": \"x\", \"y\": [3300000.0], \"yaxis\": \"y\"}, {\"customdata\": [[1, 33, 2]], \"hovertemplate\": \"Name=%{x}<br>Transfer Budget=%{y}<br>International Prestige=%{customdata[0]}<br>Players=%{customdata[1]}<br>Domestic Presstige=%{customdata[2]}<extra></extra>\", \"legendgroup\": \"Real Valladolid CF\", \"marker\": {\"color\": \"#FF97FF\", \"symbol\": \"circle\"}, \"mode\": \"markers\", \"name\": \"Real Valladolid CF\", \"showlegend\": true, \"type\": \"scatter\", \"x\": [\"Real Valladolid CF\"], \"xaxis\": \"x\", \"y\": [3100000.0], \"yaxis\": \"y\"}, {\"customdata\": [[1, 31, 2]], \"hovertemplate\": \"Name=%{x}<br>Transfer Budget=%{y}<br>International Prestige=%{customdata[0]}<br>Players=%{customdata[1]}<br>Domestic Presstige=%{customdata[2]}<extra></extra>\", \"legendgroup\": \"SD Huesca\", \"marker\": {\"color\": \"#FECB52\", \"symbol\": \"circle\"}, \"mode\": \"markers\", \"name\": \"SD Huesca\", \"showlegend\": true, \"type\": \"scatter\", \"x\": [\"SD Huesca\"], \"xaxis\": \"x\", \"y\": [2100000.0], \"yaxis\": \"y\"}],\n",
       "                        {\"legend\": {\"title\": {\"text\": \"Name\"}, \"tracegroupgap\": 0}, \"margin\": {\"t\": 60}, \"template\": {\"data\": {\"bar\": [{\"error_x\": {\"color\": \"#2a3f5f\"}, \"error_y\": {\"color\": \"#2a3f5f\"}, \"marker\": {\"line\": {\"color\": \"white\", \"width\": 0.5}}, \"type\": \"bar\"}], \"barpolar\": [{\"marker\": {\"line\": {\"color\": \"white\", \"width\": 0.5}}, \"type\": \"barpolar\"}], \"carpet\": [{\"aaxis\": {\"endlinecolor\": \"#2a3f5f\", \"gridcolor\": \"#C8D4E3\", \"linecolor\": \"#C8D4E3\", \"minorgridcolor\": \"#C8D4E3\", \"startlinecolor\": \"#2a3f5f\"}, \"baxis\": {\"endlinecolor\": \"#2a3f5f\", \"gridcolor\": \"#C8D4E3\", \"linecolor\": \"#C8D4E3\", \"minorgridcolor\": \"#C8D4E3\", \"startlinecolor\": \"#2a3f5f\"}, \"type\": \"carpet\"}], \"choropleth\": [{\"colorbar\": {\"outlinewidth\": 0, \"ticks\": \"\"}, \"type\": \"choropleth\"}], \"contour\": [{\"colorbar\": {\"outlinewidth\": 0, \"ticks\": \"\"}, \"colorscale\": [[0.0, \"#0d0887\"], [0.1111111111111111, \"#46039f\"], [0.2222222222222222, \"#7201a8\"], [0.3333333333333333, \"#9c179e\"], [0.4444444444444444, \"#bd3786\"], [0.5555555555555556, \"#d8576b\"], [0.6666666666666666, \"#ed7953\"], [0.7777777777777778, \"#fb9f3a\"], [0.8888888888888888, \"#fdca26\"], [1.0, \"#f0f921\"]], \"type\": \"contour\"}], \"contourcarpet\": [{\"colorbar\": {\"outlinewidth\": 0, \"ticks\": \"\"}, \"type\": \"contourcarpet\"}], \"heatmap\": [{\"colorbar\": {\"outlinewidth\": 0, \"ticks\": \"\"}, \"colorscale\": [[0.0, \"#0d0887\"], [0.1111111111111111, \"#46039f\"], [0.2222222222222222, \"#7201a8\"], [0.3333333333333333, \"#9c179e\"], [0.4444444444444444, \"#bd3786\"], [0.5555555555555556, \"#d8576b\"], [0.6666666666666666, \"#ed7953\"], [0.7777777777777778, \"#fb9f3a\"], [0.8888888888888888, \"#fdca26\"], [1.0, \"#f0f921\"]], \"type\": \"heatmap\"}], \"heatmapgl\": [{\"colorbar\": {\"outlinewidth\": 0, \"ticks\": \"\"}, \"colorscale\": [[0.0, \"#0d0887\"], [0.1111111111111111, \"#46039f\"], [0.2222222222222222, \"#7201a8\"], [0.3333333333333333, \"#9c179e\"], [0.4444444444444444, \"#bd3786\"], [0.5555555555555556, \"#d8576b\"], [0.6666666666666666, \"#ed7953\"], [0.7777777777777778, \"#fb9f3a\"], [0.8888888888888888, \"#fdca26\"], [1.0, \"#f0f921\"]], \"type\": \"heatmapgl\"}], \"histogram\": [{\"marker\": {\"colorbar\": {\"outlinewidth\": 0, \"ticks\": \"\"}}, \"type\": \"histogram\"}], \"histogram2d\": [{\"colorbar\": {\"outlinewidth\": 0, \"ticks\": \"\"}, \"colorscale\": [[0.0, \"#0d0887\"], [0.1111111111111111, \"#46039f\"], [0.2222222222222222, \"#7201a8\"], [0.3333333333333333, \"#9c179e\"], [0.4444444444444444, \"#bd3786\"], [0.5555555555555556, \"#d8576b\"], [0.6666666666666666, \"#ed7953\"], [0.7777777777777778, \"#fb9f3a\"], [0.8888888888888888, \"#fdca26\"], [1.0, \"#f0f921\"]], \"type\": \"histogram2d\"}], \"histogram2dcontour\": [{\"colorbar\": {\"outlinewidth\": 0, \"ticks\": \"\"}, \"colorscale\": [[0.0, \"#0d0887\"], [0.1111111111111111, \"#46039f\"], [0.2222222222222222, \"#7201a8\"], [0.3333333333333333, \"#9c179e\"], [0.4444444444444444, \"#bd3786\"], [0.5555555555555556, \"#d8576b\"], [0.6666666666666666, \"#ed7953\"], [0.7777777777777778, \"#fb9f3a\"], [0.8888888888888888, \"#fdca26\"], [1.0, \"#f0f921\"]], \"type\": \"histogram2dcontour\"}], \"mesh3d\": [{\"colorbar\": {\"outlinewidth\": 0, \"ticks\": \"\"}, \"type\": \"mesh3d\"}], \"parcoords\": [{\"line\": {\"colorbar\": {\"outlinewidth\": 0, \"ticks\": \"\"}}, \"type\": \"parcoords\"}], \"pie\": [{\"automargin\": true, \"type\": \"pie\"}], \"scatter\": [{\"marker\": {\"colorbar\": {\"outlinewidth\": 0, \"ticks\": \"\"}}, \"type\": \"scatter\"}], \"scatter3d\": [{\"line\": {\"colorbar\": {\"outlinewidth\": 0, \"ticks\": \"\"}}, \"marker\": {\"colorbar\": {\"outlinewidth\": 0, \"ticks\": \"\"}}, \"type\": \"scatter3d\"}], \"scattercarpet\": [{\"marker\": {\"colorbar\": {\"outlinewidth\": 0, \"ticks\": \"\"}}, \"type\": \"scattercarpet\"}], \"scattergeo\": [{\"marker\": {\"colorbar\": {\"outlinewidth\": 0, \"ticks\": \"\"}}, \"type\": \"scattergeo\"}], \"scattergl\": [{\"marker\": {\"colorbar\": {\"outlinewidth\": 0, \"ticks\": \"\"}}, \"type\": \"scattergl\"}], \"scattermapbox\": [{\"marker\": {\"colorbar\": {\"outlinewidth\": 0, \"ticks\": \"\"}}, \"type\": \"scattermapbox\"}], \"scatterpolar\": [{\"marker\": {\"colorbar\": {\"outlinewidth\": 0, \"ticks\": \"\"}}, \"type\": \"scatterpolar\"}], \"scatterpolargl\": [{\"marker\": {\"colorbar\": {\"outlinewidth\": 0, \"ticks\": \"\"}}, \"type\": \"scatterpolargl\"}], \"scatterternary\": [{\"marker\": {\"colorbar\": {\"outlinewidth\": 0, \"ticks\": \"\"}}, \"type\": \"scatterternary\"}], \"surface\": [{\"colorbar\": {\"outlinewidth\": 0, \"ticks\": \"\"}, \"colorscale\": [[0.0, \"#0d0887\"], [0.1111111111111111, \"#46039f\"], [0.2222222222222222, \"#7201a8\"], [0.3333333333333333, \"#9c179e\"], [0.4444444444444444, \"#bd3786\"], [0.5555555555555556, \"#d8576b\"], [0.6666666666666666, \"#ed7953\"], [0.7777777777777778, \"#fb9f3a\"], [0.8888888888888888, \"#fdca26\"], [1.0, \"#f0f921\"]], \"type\": \"surface\"}], \"table\": [{\"cells\": {\"fill\": {\"color\": \"#EBF0F8\"}, \"line\": {\"color\": \"white\"}}, \"header\": {\"fill\": {\"color\": \"#C8D4E3\"}, \"line\": {\"color\": \"white\"}}, \"type\": \"table\"}]}, \"layout\": {\"annotationdefaults\": {\"arrowcolor\": \"#2a3f5f\", \"arrowhead\": 0, \"arrowwidth\": 1}, \"coloraxis\": {\"colorbar\": {\"outlinewidth\": 0, \"ticks\": \"\"}}, \"colorscale\": {\"diverging\": [[0, \"#8e0152\"], [0.1, \"#c51b7d\"], [0.2, \"#de77ae\"], [0.3, \"#f1b6da\"], [0.4, \"#fde0ef\"], [0.5, \"#f7f7f7\"], [0.6, \"#e6f5d0\"], [0.7, \"#b8e186\"], [0.8, \"#7fbc41\"], [0.9, \"#4d9221\"], [1, \"#276419\"]], \"sequential\": [[0.0, \"#0d0887\"], [0.1111111111111111, \"#46039f\"], [0.2222222222222222, \"#7201a8\"], [0.3333333333333333, \"#9c179e\"], [0.4444444444444444, \"#bd3786\"], [0.5555555555555556, \"#d8576b\"], [0.6666666666666666, \"#ed7953\"], [0.7777777777777778, \"#fb9f3a\"], [0.8888888888888888, \"#fdca26\"], [1.0, \"#f0f921\"]], \"sequentialminus\": [[0.0, \"#0d0887\"], [0.1111111111111111, \"#46039f\"], [0.2222222222222222, \"#7201a8\"], [0.3333333333333333, \"#9c179e\"], [0.4444444444444444, \"#bd3786\"], [0.5555555555555556, \"#d8576b\"], [0.6666666666666666, \"#ed7953\"], [0.7777777777777778, \"#fb9f3a\"], [0.8888888888888888, \"#fdca26\"], [1.0, \"#f0f921\"]]}, \"colorway\": [\"#636efa\", \"#EF553B\", \"#00cc96\", \"#ab63fa\", \"#FFA15A\", \"#19d3f3\", \"#FF6692\", \"#B6E880\", \"#FF97FF\", \"#FECB52\"], \"font\": {\"color\": \"#2a3f5f\"}, \"geo\": {\"bgcolor\": \"white\", \"lakecolor\": \"white\", \"landcolor\": \"white\", \"showlakes\": true, \"showland\": true, \"subunitcolor\": \"#C8D4E3\"}, \"hoverlabel\": {\"align\": \"left\"}, \"hovermode\": \"closest\", \"mapbox\": {\"style\": \"light\"}, \"paper_bgcolor\": \"white\", \"plot_bgcolor\": \"white\", \"polar\": {\"angularaxis\": {\"gridcolor\": \"#EBF0F8\", \"linecolor\": \"#EBF0F8\", \"ticks\": \"\"}, \"bgcolor\": \"white\", \"radialaxis\": {\"gridcolor\": \"#EBF0F8\", \"linecolor\": \"#EBF0F8\", \"ticks\": \"\"}}, \"scene\": {\"xaxis\": {\"backgroundcolor\": \"white\", \"gridcolor\": \"#DFE8F3\", \"gridwidth\": 2, \"linecolor\": \"#EBF0F8\", \"showbackground\": true, \"ticks\": \"\", \"zerolinecolor\": \"#EBF0F8\"}, \"yaxis\": {\"backgroundcolor\": \"white\", \"gridcolor\": \"#DFE8F3\", \"gridwidth\": 2, \"linecolor\": \"#EBF0F8\", \"showbackground\": true, \"ticks\": \"\", \"zerolinecolor\": \"#EBF0F8\"}, \"zaxis\": {\"backgroundcolor\": \"white\", \"gridcolor\": \"#DFE8F3\", \"gridwidth\": 2, \"linecolor\": \"#EBF0F8\", \"showbackground\": true, \"ticks\": \"\", \"zerolinecolor\": \"#EBF0F8\"}}, \"shapedefaults\": {\"line\": {\"color\": \"#2a3f5f\"}}, \"ternary\": {\"aaxis\": {\"gridcolor\": \"#DFE8F3\", \"linecolor\": \"#A2B1C6\", \"ticks\": \"\"}, \"baxis\": {\"gridcolor\": \"#DFE8F3\", \"linecolor\": \"#A2B1C6\", \"ticks\": \"\"}, \"bgcolor\": \"white\", \"caxis\": {\"gridcolor\": \"#DFE8F3\", \"linecolor\": \"#A2B1C6\", \"ticks\": \"\"}}, \"title\": {\"x\": 0.05}, \"xaxis\": {\"automargin\": true, \"gridcolor\": \"#EBF0F8\", \"linecolor\": \"#EBF0F8\", \"ticks\": \"\", \"title\": {\"standoff\": 15}, \"zerolinecolor\": \"#EBF0F8\", \"zerolinewidth\": 2}, \"yaxis\": {\"automargin\": true, \"gridcolor\": \"#EBF0F8\", \"linecolor\": \"#EBF0F8\", \"ticks\": \"\", \"title\": {\"standoff\": 15}, \"zerolinecolor\": \"#EBF0F8\", \"zerolinewidth\": 2}}}, \"title\": {\"text\": \"Quick Test on Spain Teams data\"}, \"xaxis\": {\"anchor\": \"y\", \"categoryarray\": [\"Real Madrid\", \"FC Barcelona\", \"Atl\\u00e9tico Madrid\", \"Sevilla FC\", \"Valencia CF\", \"Real Betis\", \"Athletic Club de Bilbao\", \"Villarreal CF\", \"Real Sociedad\", \"RC Celta\", \"Girona FC\", \"SD Eibar\", \"Getafe CF\", \"RCD Espanyol\", \"Levante UD\", \"Deportivo Alav\\u00e9s\", \"CD Legan\\u00e9s\", \"Rayo Vallecano\", \"Real Valladolid CF\", \"SD Huesca\"], \"categoryorder\": \"array\", \"domain\": [0.0, 1.0], \"title\": {\"text\": \"Name\"}}, \"yaxis\": {\"anchor\": \"x\", \"domain\": [0.0, 1.0], \"title\": {\"text\": \"Transfer Budget\"}}},\n",
       "                        {\"responsive\": true}\n",
       "                    ).then(function(){\n",
       "                            \n",
       "var gd = document.getElementById('d9410ecf-c860-4dbf-9daa-1c7f3dfbdb26');\n",
       "var x = new MutationObserver(function (mutations, observer) {{\n",
       "        var display = window.getComputedStyle(gd).display;\n",
       "        if (!display || display === 'none') {{\n",
       "            console.log([gd, 'removed!']);\n",
       "            Plotly.purge(gd);\n",
       "            observer.disconnect();\n",
       "        }}\n",
       "}});\n",
       "\n",
       "// Listen for the removal of the full notebook cells\n",
       "var notebookContainer = gd.closest('#notebook-container');\n",
       "if (notebookContainer) {{\n",
       "    x.observe(notebookContainer, {childList: true});\n",
       "}}\n",
       "\n",
       "// Listen for the clearing of the current output cell\n",
       "var outputEl = gd.closest('.output');\n",
       "if (outputEl) {{\n",
       "    x.observe(outputEl, {childList: true});\n",
       "}}\n",
       "\n",
       "                        })\n",
       "                };\n",
       "                });\n",
       "            </script>\n",
       "        </div>"
      ]
     },
     "metadata": {},
     "output_type": "display_data"
    }
   ],
   "source": [
    "fig = px.(df_teams[df_teams['Country'] == \"Spain\"], \n",
    "                 x='Name', y='Transfer Budget'\n",
    "                 , hover_data=['International Prestige', 'Players', 'Domestic Presstige']\n",
    "                 , color= 'Name')\n",
    "fig.update_layout(template='plotly_white', title='Quick Test on Spain Teams data');\n",
    "fig.show()"
   ]
  },
  {
   "cell_type": "code",
   "execution_count": 230,
   "metadata": {},
   "outputs": [],
   "source": [
    "pio.write_html(fig, file='../index.html', auto_open=True)"
   ]
  },
  {
   "cell_type": "markdown",
   "metadata": {},
   "source": [
    "tls.get_embed('https://atidiane.github.io/covid-19-guinea/')"
   ]
  },
  {
   "cell_type": "code",
   "execution_count": null,
   "metadata": {},
   "outputs": [],
   "source": []
  },
  {
   "cell_type": "code",
   "execution_count": null,
   "metadata": {},
   "outputs": [],
   "source": []
  }
 ],
 "metadata": {
  "kernelspec": {
   "display_name": "Python 3",
   "language": "python",
   "name": "python3"
  },
  "language_info": {
   "codemirror_mode": {
    "name": "ipython",
    "version": 3
   },
   "file_extension": ".py",
   "mimetype": "text/x-python",
   "name": "python",
   "nbconvert_exporter": "python",
   "pygments_lexer": "ipython3",
   "version": "3.5.2"
  },
  "toc": {
   "base_numbering": 1,
   "nav_menu": {},
   "number_sections": true,
   "sideBar": true,
   "skip_h1_title": false,
   "title_cell": "Table of Contents",
   "title_sidebar": "Contents",
   "toc_cell": false,
   "toc_position": {},
   "toc_section_display": true,
   "toc_window_display": false
  },
  "varInspector": {
   "cols": {
    "lenName": 16,
    "lenType": 16,
    "lenVar": 40
   },
   "kernels_config": {
    "python": {
     "delete_cmd_postfix": "",
     "delete_cmd_prefix": "del ",
     "library": "var_list.py",
     "varRefreshCmd": "print(var_dic_list())"
    },
    "r": {
     "delete_cmd_postfix": ") ",
     "delete_cmd_prefix": "rm(",
     "library": "var_list.r",
     "varRefreshCmd": "cat(var_dic_list()) "
    }
   },
   "types_to_exclude": [
    "module",
    "function",
    "builtin_function_or_method",
    "instance",
    "_Feature"
   ],
   "window_display": false
  }
 },
 "nbformat": 4,
 "nbformat_minor": 2
}
